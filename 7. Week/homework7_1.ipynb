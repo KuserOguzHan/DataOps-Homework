{
 "cells": [
  {
   "cell_type": "markdown",
   "id": "4c823487-09ad-4b33-8305-e4637a8aee9b",
   "metadata": {
    "jp-MarkdownHeadingCollapsed": true,
    "tags": []
   },
   "source": [
    "### 1. Load the data"
   ]
  },
  {
   "cell_type": "code",
   "execution_count": 4,
   "id": "ddb95ac5-6b64-41dd-8545-5b23b4ff4fcb",
   "metadata": {
    "tags": []
   },
   "outputs": [
    {
     "name": "stdout",
     "output_type": "stream",
     "text": [
      "--2023-04-18 12:48:17--  https://github.com/erkansirin78/datasets/raw/master/market1mil.csv.gz\n",
      "Resolving github.com (github.com)... 140.82.121.3\n",
      "Connecting to github.com (github.com)|140.82.121.3|:443... connected.\n",
      "HTTP request sent, awaiting response... 302 Found\n",
      "Location: https://raw.githubusercontent.com/erkansirin78/datasets/master/market1mil.csv.gz [following]\n",
      "--2023-04-18 12:48:18--  https://raw.githubusercontent.com/erkansirin78/datasets/master/market1mil.csv.gz\n",
      "Resolving raw.githubusercontent.com (raw.githubusercontent.com)... 185.199.111.133, 185.199.109.133, 185.199.108.133, ...\n",
      "Connecting to raw.githubusercontent.com (raw.githubusercontent.com)|185.199.111.133|:443... connected.\n",
      "HTTP request sent, awaiting response... 200 OK\n",
      "Length: 44525776 (42M) [application/octet-stream]\n",
      "Saving to: ‘market1mil.csv.gz’\n",
      "\n",
      "100%[======================================>] 44,525,776  2.78MB/s   in 15s    \n",
      "\n",
      "2023-04-18 12:48:35 (2.88 MB/s) - ‘market1mil.csv.gz’ saved [44525776/44525776]\n",
      "\n"
     ]
    }
   ],
   "source": [
    "! wget https://github.com/erkansirin78/datasets/raw/master/market1mil.csv.gz"
   ]
  },
  {
   "cell_type": "code",
   "execution_count": 5,
   "id": "b4a4d66e-e4c2-4b6a-80ec-d58f3b6752f2",
   "metadata": {
    "tags": []
   },
   "outputs": [],
   "source": [
    "!gzip -d market1mil.csv.gz"
   ]
  },
  {
   "cell_type": "markdown",
   "id": "a42097b9-e8ae-4546-8fc3-da7808b3d93b",
   "metadata": {
    "jp-MarkdownHeadingCollapsed": true,
    "tags": []
   },
   "source": [
    "### 2.Spark and Elasticsearch Library and Configuration"
   ]
  },
  {
   "cell_type": "code",
   "execution_count": 6,
   "id": "41d85897-799f-4075-acce-8b8138fb0078",
   "metadata": {},
   "outputs": [],
   "source": [
    "import findspark\n",
    "import warnings\n",
    "import pandas as pd\n",
    "warnings.filterwarnings('ignore')\n",
    "from elasticsearch import Elasticsearch, helpers\n",
    "import time\n",
    "from pyspark.sql import SparkSession, functions as F\n",
    "from pyspark.sql.types import *"
   ]
  },
  {
   "cell_type": "code",
   "execution_count": 7,
   "id": "12542d3d-5a17-47d8-9246-2adbef8b44f8",
   "metadata": {
    "tags": []
   },
   "outputs": [],
   "source": [
    "findspark.init(\"/opt/manual/spark\")"
   ]
  },
  {
   "cell_type": "code",
   "execution_count": 8,
   "id": "7d8198a2-0f2a-4b1c-8ff3-becd934c8c81",
   "metadata": {
    "tags": []
   },
   "outputs": [
    {
     "name": "stderr",
     "output_type": "stream",
     "text": [
      "WARNING: An illegal reflective access operation has occurred\n",
      "WARNING: Illegal reflective access by org.apache.spark.unsafe.Platform (file:/opt/manual/spark-3.1.1-bin-hadoop3.2/jars/spark-unsafe_2.12-3.1.1.jar) to constructor java.nio.DirectByteBuffer(long,int)\n",
      "WARNING: Please consider reporting this to the maintainers of org.apache.spark.unsafe.Platform\n",
      "WARNING: Use --illegal-access=warn to enable warnings of further illegal reflective access operations\n",
      "WARNING: All illegal access operations will be denied in a future release\n"
     ]
    },
    {
     "name": "stdout",
     "output_type": "stream",
     "text": [
      ":: loading settings :: url = jar:file:/opt/manual/spark-3.1.1-bin-hadoop3.2/jars/ivy-2.4.0.jar!/org/apache/ivy/core/settings/ivysettings.xml\n"
     ]
    },
    {
     "name": "stderr",
     "output_type": "stream",
     "text": [
      "Ivy Default Cache set to: /home/train/.ivy2/cache\n",
      "The jars for the packages stored in: /home/train/.ivy2/jars\n",
      "org.elasticsearch#elasticsearch-spark-30_2.12 added as a dependency\n",
      ":: resolving dependencies :: org.apache.spark#spark-submit-parent-98930bd1-18f5-4744-ae28-e4962631da71;1.0\n",
      "\tconfs: [default]\n",
      "\tfound org.elasticsearch#elasticsearch-spark-30_2.12;7.12.1 in central\n",
      "\tfound org.scala-lang#scala-reflect;2.12.8 in central\n",
      "\tfound org.slf4j#slf4j-api;1.7.6 in local-m2-cache\n",
      "\tfound commons-logging#commons-logging;1.1.1 in local-m2-cache\n",
      "\tfound javax.xml.bind#jaxb-api;2.3.1 in central\n",
      "\tfound com.google.protobuf#protobuf-java;2.5.0 in local-m2-cache\n",
      "\tfound org.apache.spark#spark-yarn_2.12;3.0.1 in central\n",
      ":: resolution report :: resolve 973ms :: artifacts dl 7ms\n",
      "\t:: modules in use:\n",
      "\tcom.google.protobuf#protobuf-java;2.5.0 from local-m2-cache in [default]\n",
      "\tcommons-logging#commons-logging;1.1.1 from local-m2-cache in [default]\n",
      "\tjavax.xml.bind#jaxb-api;2.3.1 from central in [default]\n",
      "\torg.apache.spark#spark-yarn_2.12;3.0.1 from central in [default]\n",
      "\torg.elasticsearch#elasticsearch-spark-30_2.12;7.12.1 from central in [default]\n",
      "\torg.scala-lang#scala-reflect;2.12.8 from central in [default]\n",
      "\torg.slf4j#slf4j-api;1.7.6 from local-m2-cache in [default]\n",
      "\t---------------------------------------------------------------------\n",
      "\t|                  |            modules            ||   artifacts   |\n",
      "\t|       conf       | number| search|dwnlded|evicted|| number|dwnlded|\n",
      "\t---------------------------------------------------------------------\n",
      "\t|      default     |   7   |   0   |   0   |   0   ||   1   |   0   |\n",
      "\t---------------------------------------------------------------------\n",
      ":: retrieving :: org.apache.spark#spark-submit-parent-98930bd1-18f5-4744-ae28-e4962631da71\n",
      "\tconfs: [default]\n",
      "\t0 artifacts copied, 1 already retrieved (0kB/26ms)\n",
      "2023-04-18 12:49:07,557 WARN util.NativeCodeLoader: Unable to load native-hadoop library for your platform... using builtin-java classes where applicable\n",
      "Setting default log level to \"WARN\".\n",
      "To adjust logging level use sc.setLogLevel(newLevel). For SparkR, use setLogLevel(newLevel).\n"
     ]
    }
   ],
   "source": [
    "spark = (\n",
    "    SparkSession.builder\n",
    "    .appName(\"Spark Elasticsearch\")\n",
    "    .master(\"local[2]\")\n",
    "    .config(\"spark.driver.memory\",\"2048m\")\n",
    "    .config(\"spark.sql.shuffle.partitions\", 4)\n",
    "    .config(\"spark.serializer\", \"org.apache.spark.serializer.KryoSerializer\")\n",
    "    .config(\"spark.jars.packages\", \"org.elasticsearch:elasticsearch-spark-30_2.12:7.12.1\") \n",
    "    .getOrCreate()\n",
    ")"
   ]
  },
  {
   "cell_type": "markdown",
   "id": "1045c8da-f188-45d2-bab7-43adfc9e21f3",
   "metadata": {
    "jp-MarkdownHeadingCollapsed": true,
    "tags": []
   },
   "source": [
    "### 3. Read Data"
   ]
  },
  {
   "cell_type": "code",
   "execution_count": 9,
   "id": "89694c6e-a02f-44c3-8f4c-4022860367bd",
   "metadata": {
    "tags": []
   },
   "outputs": [
    {
     "name": "stderr",
     "output_type": "stream",
     "text": [
      "                                                                                \r"
     ]
    }
   ],
   "source": [
    "df = spark.read.format(\"csv\") \\\n",
    "          .option(\"header\", True) \\\n",
    "          .option(\"inferSchema\", True) \\\n",
    "          .option(\"sep\", \";\") \\\n",
    "          .load(\"file:////home/train/dataops_homework/7_Week/market1mil.csv\") \\\n",
    "          .select(\"LOGICALREF\", \"ITEMCODE\", \"ITEMNAME\", \"AMOUNT\", \"PRICE\", \"LINENETTOTAL\", \"BRANCH\", \"CITY\", \"BRAND\", \"STARTDATE\", \"LONGITUDE\",\"LATITUDE\") \\\n",
    "          .cache()"
   ]
  },
  {
   "cell_type": "code",
   "execution_count": 11,
   "id": "4a664aa5-75a6-40f7-965c-51836fe5c114",
   "metadata": {
    "tags": []
   },
   "outputs": [
    {
     "data": {
      "text/html": [
       "<div>\n",
       "<style scoped>\n",
       "    .dataframe tbody tr th:only-of-type {\n",
       "        vertical-align: middle;\n",
       "    }\n",
       "\n",
       "    .dataframe tbody tr th {\n",
       "        vertical-align: top;\n",
       "    }\n",
       "\n",
       "    .dataframe thead th {\n",
       "        text-align: right;\n",
       "    }\n",
       "</style>\n",
       "<table border=\"1\" class=\"dataframe\">\n",
       "  <thead>\n",
       "    <tr style=\"text-align: right;\">\n",
       "      <th></th>\n",
       "      <th>LOGICALREF</th>\n",
       "      <th>ITEMCODE</th>\n",
       "      <th>ITEMNAME</th>\n",
       "      <th>AMOUNT</th>\n",
       "      <th>PRICE</th>\n",
       "      <th>LINENETTOTAL</th>\n",
       "      <th>BRANCH</th>\n",
       "      <th>CITY</th>\n",
       "      <th>BRAND</th>\n",
       "      <th>STARTDATE</th>\n",
       "      <th>LONGITUDE</th>\n",
       "      <th>LATITUDE</th>\n",
       "    </tr>\n",
       "  </thead>\n",
       "  <tbody>\n",
       "    <tr>\n",
       "      <th>0</th>\n",
       "      <td>1</td>\n",
       "      <td>8</td>\n",
       "      <td>TOZ SEKER</td>\n",
       "      <td>45</td>\n",
       "      <td>2,65</td>\n",
       "      <td>5,3</td>\n",
       "      <td>Batman Subesi</td>\n",
       "      <td>Batman</td>\n",
       "      <td>None</td>\n",
       "      <td>3.01.2017 09:25</td>\n",
       "      <td>41,1351</td>\n",
       "      <td>37,8812</td>\n",
       "    </tr>\n",
       "    <tr>\n",
       "      <th>1</th>\n",
       "      <td>2</td>\n",
       "      <td>20868</td>\n",
       "      <td>KIRMIZI MERCIMEK</td>\n",
       "      <td>1,006</td>\n",
       "      <td>2,8</td>\n",
       "      <td>2,82</td>\n",
       "      <td>Batman Subesi</td>\n",
       "      <td>Batman</td>\n",
       "      <td>BAKLİYAT</td>\n",
       "      <td>3.01.2017 09:25</td>\n",
       "      <td>41,1351</td>\n",
       "      <td>37,8812</td>\n",
       "    </tr>\n",
       "    <tr>\n",
       "      <th>2</th>\n",
       "      <td>3</td>\n",
       "      <td>8583</td>\n",
       "      <td>TEST MATIK 1,5 KG NORMAL</td>\n",
       "      <td>1</td>\n",
       "      <td>4,95</td>\n",
       "      <td>4,95</td>\n",
       "      <td>Batman Subesi</td>\n",
       "      <td>Batman</td>\n",
       "      <td>TEST</td>\n",
       "      <td>3.01.2017 09:25</td>\n",
       "      <td>41,1351</td>\n",
       "      <td>37,8812</td>\n",
       "    </tr>\n",
       "    <tr>\n",
       "      <th>3</th>\n",
       "      <td>4</td>\n",
       "      <td>1454</td>\n",
       "      <td>BIZIM MAKARNA BONCUK</td>\n",
       "      <td>1</td>\n",
       "      <td>1,1</td>\n",
       "      <td>1,1</td>\n",
       "      <td>Batman Subesi</td>\n",
       "      <td>Batman</td>\n",
       "      <td>ÜLKER</td>\n",
       "      <td>3.01.2017 09:25</td>\n",
       "      <td>41,1351</td>\n",
       "      <td>37,8812</td>\n",
       "    </tr>\n",
       "    <tr>\n",
       "      <th>4</th>\n",
       "      <td>5</td>\n",
       "      <td>13519</td>\n",
       "      <td>FILIZ MAKARNA KISA KESME 500 GR</td>\n",
       "      <td>1</td>\n",
       "      <td>1,1</td>\n",
       "      <td>1,1</td>\n",
       "      <td>Batman Subesi</td>\n",
       "      <td>Batman</td>\n",
       "      <td>FİLİZ</td>\n",
       "      <td>3.01.2017 09:25</td>\n",
       "      <td>41,1351</td>\n",
       "      <td>37,8812</td>\n",
       "    </tr>\n",
       "  </tbody>\n",
       "</table>\n",
       "</div>"
      ],
      "text/plain": [
       "  LOGICALREF  ITEMCODE                         ITEMNAME AMOUNT PRICE  \\\n",
       "0          1         8                        TOZ SEKER     45  2,65   \n",
       "1          2     20868                 KIRMIZI MERCIMEK  1,006   2,8   \n",
       "2          3      8583         TEST MATIK 1,5 KG NORMAL      1  4,95   \n",
       "3          4      1454             BIZIM MAKARNA BONCUK      1   1,1   \n",
       "4          5     13519  FILIZ MAKARNA KISA KESME 500 GR      1   1,1   \n",
       "\n",
       "  LINENETTOTAL         BRANCH    CITY     BRAND        STARTDATE LONGITUDE  \\\n",
       "0          5,3  Batman Subesi  Batman      None  3.01.2017 09:25   41,1351   \n",
       "1         2,82  Batman Subesi  Batman  BAKLİYAT  3.01.2017 09:25   41,1351   \n",
       "2         4,95  Batman Subesi  Batman      TEST  3.01.2017 09:25   41,1351   \n",
       "3          1,1  Batman Subesi  Batman     ÜLKER  3.01.2017 09:25   41,1351   \n",
       "4          1,1  Batman Subesi  Batman     FİLİZ  3.01.2017 09:25   41,1351   \n",
       "\n",
       "  LATITUDE  \n",
       "0  37,8812  \n",
       "1  37,8812  \n",
       "2  37,8812  \n",
       "3  37,8812  \n",
       "4  37,8812  "
      ]
     },
     "execution_count": 11,
     "metadata": {},
     "output_type": "execute_result"
    }
   ],
   "source": [
    "df.limit(5).toPandas()"
   ]
  },
  {
   "cell_type": "code",
   "execution_count": 12,
   "id": "ab54edf8-8d0a-4a3c-b56b-17eefdfb1b7b",
   "metadata": {
    "tags": []
   },
   "outputs": [
    {
     "name": "stderr",
     "output_type": "stream",
     "text": [
      "                                                                                \r"
     ]
    },
    {
     "data": {
      "text/plain": [
       "999853"
      ]
     },
     "execution_count": 12,
     "metadata": {},
     "output_type": "execute_result"
    }
   ],
   "source": [
    "df.count()"
   ]
  },
  {
   "cell_type": "code",
   "execution_count": 13,
   "id": "8b10c866-a99b-4a30-aedd-0785f8526b7e",
   "metadata": {
    "tags": []
   },
   "outputs": [],
   "source": [
    "df1 = df.na.drop()"
   ]
  },
  {
   "cell_type": "code",
   "execution_count": 14,
   "id": "bfdeb6f4-3598-4e6b-9012-22ce3c503e1e",
   "metadata": {
    "tags": []
   },
   "outputs": [
    {
     "name": "stderr",
     "output_type": "stream",
     "text": [
      "                                                                                \r"
     ]
    },
    {
     "data": {
      "text/plain": [
       "942431"
      ]
     },
     "execution_count": 14,
     "metadata": {},
     "output_type": "execute_result"
    }
   ],
   "source": [
    "df1.count()"
   ]
  },
  {
   "cell_type": "code",
   "execution_count": 15,
   "id": "4841a408-e521-4de7-86d5-921c1c3fe056",
   "metadata": {
    "tags": []
   },
   "outputs": [
    {
     "name": "stdout",
     "output_type": "stream",
     "text": [
      "root\n",
      " |-- LOGICALREF: string (nullable = true)\n",
      " |-- ITEMCODE: integer (nullable = true)\n",
      " |-- ITEMNAME: string (nullable = true)\n",
      " |-- AMOUNT: string (nullable = true)\n",
      " |-- PRICE: string (nullable = true)\n",
      " |-- LINENETTOTAL: string (nullable = true)\n",
      " |-- BRANCH: string (nullable = true)\n",
      " |-- CITY: string (nullable = true)\n",
      " |-- BRAND: string (nullable = true)\n",
      " |-- STARTDATE: string (nullable = true)\n",
      " |-- LONGITUDE: string (nullable = true)\n",
      " |-- LATITUDE: string (nullable = true)\n",
      "\n"
     ]
    }
   ],
   "source": [
    "df1.printSchema()"
   ]
  },
  {
   "cell_type": "code",
   "execution_count": 14,
   "id": "744ac1cf-0ab8-4e65-bd6b-08c109bb48b0",
   "metadata": {
    "tags": []
   },
   "outputs": [
    {
     "data": {
      "text/html": [
       "<div>\n",
       "<style scoped>\n",
       "    .dataframe tbody tr th:only-of-type {\n",
       "        vertical-align: middle;\n",
       "    }\n",
       "\n",
       "    .dataframe tbody tr th {\n",
       "        vertical-align: top;\n",
       "    }\n",
       "\n",
       "    .dataframe thead th {\n",
       "        text-align: right;\n",
       "    }\n",
       "</style>\n",
       "<table border=\"1\" class=\"dataframe\">\n",
       "  <thead>\n",
       "    <tr style=\"text-align: right;\">\n",
       "      <th></th>\n",
       "      <th>LOGICALREF</th>\n",
       "      <th>ITEMCODE</th>\n",
       "      <th>ITEMNAME</th>\n",
       "      <th>AMOUNT</th>\n",
       "      <th>PRICE</th>\n",
       "      <th>LINENETTOTAL</th>\n",
       "      <th>BRANCH</th>\n",
       "      <th>CITY</th>\n",
       "      <th>BRAND</th>\n",
       "      <th>STARTDATE</th>\n",
       "      <th>LONGITUDE</th>\n",
       "      <th>LATITUDE</th>\n",
       "      <th>LOCATION</th>\n",
       "    </tr>\n",
       "  </thead>\n",
       "  <tbody>\n",
       "    <tr>\n",
       "      <th>0</th>\n",
       "      <td>2</td>\n",
       "      <td>20868</td>\n",
       "      <td>KIRMIZI MERCIMEK</td>\n",
       "      <td>1.006</td>\n",
       "      <td>2.80</td>\n",
       "      <td>2.82</td>\n",
       "      <td>Batman Subesi</td>\n",
       "      <td>Batman</td>\n",
       "      <td>BAKLİYAT</td>\n",
       "      <td>1483424700000</td>\n",
       "      <td>41,1351</td>\n",
       "      <td>37,8812</td>\n",
       "      <td>[41,1351, 37,8812]</td>\n",
       "    </tr>\n",
       "    <tr>\n",
       "      <th>1</th>\n",
       "      <td>3</td>\n",
       "      <td>8583</td>\n",
       "      <td>TEST MATIK 1,5 KG NORMAL</td>\n",
       "      <td>1.000</td>\n",
       "      <td>4.95</td>\n",
       "      <td>4.95</td>\n",
       "      <td>Batman Subesi</td>\n",
       "      <td>Batman</td>\n",
       "      <td>TEST</td>\n",
       "      <td>1483424700000</td>\n",
       "      <td>41,1351</td>\n",
       "      <td>37,8812</td>\n",
       "      <td>[41,1351, 37,8812]</td>\n",
       "    </tr>\n",
       "    <tr>\n",
       "      <th>2</th>\n",
       "      <td>4</td>\n",
       "      <td>1454</td>\n",
       "      <td>BIZIM MAKARNA BONCUK</td>\n",
       "      <td>1.000</td>\n",
       "      <td>1.10</td>\n",
       "      <td>1.10</td>\n",
       "      <td>Batman Subesi</td>\n",
       "      <td>Batman</td>\n",
       "      <td>ÜLKER</td>\n",
       "      <td>1483424700000</td>\n",
       "      <td>41,1351</td>\n",
       "      <td>37,8812</td>\n",
       "      <td>[41,1351, 37,8812]</td>\n",
       "    </tr>\n",
       "    <tr>\n",
       "      <th>3</th>\n",
       "      <td>5</td>\n",
       "      <td>13519</td>\n",
       "      <td>FILIZ MAKARNA KISA KESME 500 GR</td>\n",
       "      <td>1.000</td>\n",
       "      <td>1.10</td>\n",
       "      <td>1.10</td>\n",
       "      <td>Batman Subesi</td>\n",
       "      <td>Batman</td>\n",
       "      <td>FİLİZ</td>\n",
       "      <td>1483424700000</td>\n",
       "      <td>41,1351</td>\n",
       "      <td>37,8812</td>\n",
       "      <td>[41,1351, 37,8812]</td>\n",
       "    </tr>\n",
       "    <tr>\n",
       "      <th>4</th>\n",
       "      <td>6</td>\n",
       "      <td>8639</td>\n",
       "      <td>BINGO ULTRA CAM.SUYU 750 ML KLASIK</td>\n",
       "      <td>1.000</td>\n",
       "      <td>2.45</td>\n",
       "      <td>2.45</td>\n",
       "      <td>Batman Subesi</td>\n",
       "      <td>Batman</td>\n",
       "      <td>BİNGO</td>\n",
       "      <td>1483424700000</td>\n",
       "      <td>41,1351</td>\n",
       "      <td>37,8812</td>\n",
       "      <td>[41,1351, 37,8812]</td>\n",
       "    </tr>\n",
       "  </tbody>\n",
       "</table>\n",
       "</div>"
      ],
      "text/plain": [
       "   LOGICALREF  ITEMCODE                            ITEMNAME  AMOUNT  PRICE  \\\n",
       "0           2     20868                    KIRMIZI MERCIMEK   1.006   2.80   \n",
       "1           3      8583            TEST MATIK 1,5 KG NORMAL   1.000   4.95   \n",
       "2           4      1454                BIZIM MAKARNA BONCUK   1.000   1.10   \n",
       "3           5     13519     FILIZ MAKARNA KISA KESME 500 GR   1.000   1.10   \n",
       "4           6      8639  BINGO ULTRA CAM.SUYU 750 ML KLASIK   1.000   2.45   \n",
       "\n",
       "   LINENETTOTAL         BRANCH    CITY     BRAND      STARTDATE LONGITUDE  \\\n",
       "0          2.82  Batman Subesi  Batman  BAKLİYAT  1483424700000   41,1351   \n",
       "1          4.95  Batman Subesi  Batman      TEST  1483424700000   41,1351   \n",
       "2          1.10  Batman Subesi  Batman     ÜLKER  1483424700000   41,1351   \n",
       "3          1.10  Batman Subesi  Batman     FİLİZ  1483424700000   41,1351   \n",
       "4          2.45  Batman Subesi  Batman     BİNGO  1483424700000   41,1351   \n",
       "\n",
       "  LATITUDE            LOCATION  \n",
       "0  37,8812  [41,1351, 37,8812]  \n",
       "1  37,8812  [41,1351, 37,8812]  \n",
       "2  37,8812  [41,1351, 37,8812]  \n",
       "3  37,8812  [41,1351, 37,8812]  \n",
       "4  37,8812  [41,1351, 37,8812]  "
      ]
     },
     "execution_count": 14,
     "metadata": {},
     "output_type": "execute_result"
    }
   ],
   "source": [
    "df2.limit(5).toPandas()"
   ]
  },
  {
   "cell_type": "code",
   "execution_count": 16,
   "id": "3670ade0-0fee-4eb6-81e8-ec1b8bab264d",
   "metadata": {
    "tags": []
   },
   "outputs": [],
   "source": [
    "df2 = df1 \\\n",
    ".withColumn(\"LOGICALREF\", F.col(\"LOGICALREF\").cast(IntegerType())) \\\n",
    ".withColumn(\"ITEMCODE\", F.col(\"ITEMCODE\").cast(IntegerType())) \\\n",
    ".withColumn(\"AMOUNT\", F.regexp_replace(\"AMOUNT\", \",\", \".\").cast(FloatType())) \\\n",
    ".withColumn(\"PRICE\", F.regexp_replace(\"PRICE\", \",\", \".\").cast(FloatType())) \\\n",
    ".withColumn(\"LINENETTOTAL\", F.regexp_replace(\"LINENETTOTAL\", \",\", \".\").cast(FloatType())) \\\n",
    ".withColumn(\"STARTDATE\",  F.unix_timestamp( F.to_timestamp(F.col(\"STARTDATE\"), \"d.MM.yyyy HH:mm\")) * 1000 ) \\\n",
    ".withColumn(\"LONGITUDE\", F.regexp_replace(\"LONGITUDE\", \",\", \".\").substr(1, 6).cast(FloatType())) \\\n",
    ".withColumn(\"LATITUDE\", F.regexp_replace(\"LATITUDE\", \",\", \".\").substr(1, 6).cast(FloatType())) \\\n",
    ".withColumn(\"LOCATION\", F.array(  F.col(\"LONGITUDE\"), F.col(\"LATITUDE\"))) \\\n",
    "                         .filter(\"LONGITUDE < 100\") # filter wrong longitude"
   ]
  },
  {
   "cell_type": "code",
   "execution_count": 17,
   "id": "d6444eff-bbfd-4c0d-96ee-9eed241070db",
   "metadata": {
    "tags": []
   },
   "outputs": [
    {
     "name": "stdout",
     "output_type": "stream",
     "text": [
      "root\n",
      " |-- LOGICALREF: integer (nullable = true)\n",
      " |-- ITEMCODE: integer (nullable = true)\n",
      " |-- ITEMNAME: string (nullable = true)\n",
      " |-- AMOUNT: float (nullable = true)\n",
      " |-- PRICE: float (nullable = true)\n",
      " |-- LINENETTOTAL: float (nullable = true)\n",
      " |-- BRANCH: string (nullable = true)\n",
      " |-- CITY: string (nullable = true)\n",
      " |-- BRAND: string (nullable = true)\n",
      " |-- STARTDATE: long (nullable = true)\n",
      " |-- LONGITUDE: float (nullable = true)\n",
      " |-- LATITUDE: float (nullable = true)\n",
      " |-- LOCATION: array (nullable = false)\n",
      " |    |-- element: float (containsNull = true)\n",
      "\n"
     ]
    }
   ],
   "source": [
    "df2.printSchema()"
   ]
  },
  {
   "cell_type": "markdown",
   "id": "235dbc03-e5f7-4025-a954-6d2ed5fb09a0",
   "metadata": {
    "jp-MarkdownHeadingCollapsed": true,
    "tags": []
   },
   "source": [
    "### 4. Elasticsearch"
   ]
  },
  {
   "cell_type": "code",
   "execution_count": 29,
   "id": "dc136250-df2f-4b13-b7a5-aae8d97eab90",
   "metadata": {
    "tags": []
   },
   "outputs": [],
   "source": [
    "market_index =  {\n",
    "  \"settings\": {\n",
    "    \"index\": {\n",
    "      \"analysis\": {\n",
    "        \"analyzer\": {\n",
    "          \"custom_analyzer\":\n",
    "          {\n",
    "            \"type\":\"custom\",\n",
    "            \"tokenizer\":\"standard\",\n",
    "            \"filter\":[\n",
    "              \"lowercase\", \"custom_edge_ngram\"\n",
    "            ]\n",
    "          }\n",
    "        },\n",
    "        \"filter\": {\n",
    "          \"custom_edge_ngram\": {\n",
    "            \"type\": \"edge_ngram\",\n",
    "            \"min_gram\":2,\n",
    "            \"max_gram\": 10\n",
    "            }\n",
    "          }\n",
    "        }\n",
    "      }\n",
    "    },\n",
    "    \"mappings\": {\n",
    "    \"properties\": {\n",
    "      \"LOGICALREF\":  {\"type\": \"integer\"},  \n",
    "      \"ITEMCODE\":    {\"type\": \"integer\" }, \n",
    "      \"ITEMNAME\":    {\"type\": \"text\"},\n",
    "      \"AMOUNT\":      {\"type\": \"float\"},\n",
    "      \"PRICE\":       {\"type\": \"float\"},\n",
    "      \"LINENETTOTAL\":{\"type\": \"float\"},\n",
    "      \"BRANCH\":      {\"type\": \"keyword\"},\n",
    "      \"CITY\":        {\"type\": \"keyword\"},\n",
    "      \"BRAND\":       {\"type\": \"keyword\"},\n",
    "      \"STARTDATE\":   {\"type\": \"date\"},\n",
    "      \"LOCATION\":    {\"type\": \"geo_point\"}\n",
    "        \n",
    "    }\n",
    "  }\n",
    "  }"
   ]
  },
  {
   "cell_type": "code",
   "execution_count": 19,
   "id": "b7cc82cd-dc16-45cd-9f15-b33745787341",
   "metadata": {
    "tags": []
   },
   "outputs": [],
   "source": [
    "es = Elasticsearch()"
   ]
  },
  {
   "cell_type": "code",
   "execution_count": 30,
   "id": "a3645d37-d09f-4bde-9c2c-e53df97f2cb1",
   "metadata": {
    "tags": []
   },
   "outputs": [
    {
     "name": "stdout",
     "output_type": "stream",
     "text": [
      "No index\n"
     ]
    }
   ],
   "source": [
    "try:\n",
    "    es.indices.delete(\"market_index\")\n",
    "    print(\"market_index index deleted.\")\n",
    "except:\n",
    "    print(\"No index\")"
   ]
  },
  {
   "cell_type": "code",
   "execution_count": 31,
   "id": "4e7b5920-f910-4f62-a730-644ee16d0a0a",
   "metadata": {
    "tags": []
   },
   "outputs": [
    {
     "data": {
      "text/plain": [
       "{'acknowledged': True, 'shards_acknowledged': True, 'index': 'market_index'}"
      ]
     },
     "execution_count": 31,
     "metadata": {},
     "output_type": "execute_result"
    }
   ],
   "source": [
    "es.indices.create(\"market_index\", body=market_one_mil)"
   ]
  },
  {
   "cell_type": "markdown",
   "id": "b5fd15a8-51b8-4fb2-9a24-1b3c7040989f",
   "metadata": {
    "jp-MarkdownHeadingCollapsed": true,
    "tags": []
   },
   "source": [
    "### 5. Write to Elasticsearch"
   ]
  },
  {
   "cell_type": "code",
   "execution_count": 32,
   "id": "c5b5135e-de7a-462a-899a-5715af4b8df0",
   "metadata": {
    "tags": []
   },
   "outputs": [
    {
     "name": "stderr",
     "output_type": "stream",
     "text": [
      "[Stage 13:======================================>                   (2 + 1) / 3]\r"
     ]
    },
    {
     "name": "stdout",
     "output_type": "stream",
     "text": [
      "----- 35.742648124694824 secs -----\n"
     ]
    },
    {
     "name": "stderr",
     "output_type": "stream",
     "text": [
      "                                                                                \r"
     ]
    }
   ],
   "source": [
    "start_time = time.time()\n",
    "\n",
    "df2.drop(\"LONGITUDE\",\"LATITUDE\").write \\\n",
    "    .format(\"org.elasticsearch.spark.sql\") \\\n",
    "    .mode(\"overwrite\") \\\n",
    "    .option(\"es.nodes\", \"localhost\") \\\n",
    "    .option(\"es.port\",\"9200\") \\\n",
    "    .save(\"market_index\")\n",
    "\n",
    "\n",
    "print(\"----- %s secs -----\" %(time.time() - start_time))"
   ]
  },
  {
   "cell_type": "markdown",
   "id": "a9641ce9-e6e1-4832-925e-52b496ee7116",
   "metadata": {
    "jp-MarkdownHeadingCollapsed": true,
    "tags": []
   },
   "source": [
    "### 6. Read to Elasticsearch"
   ]
  },
  {
   "cell_type": "code",
   "execution_count": 39,
   "id": "75a2c67b-ea85-45e1-8791-fe39f9d9e55c",
   "metadata": {
    "tags": []
   },
   "outputs": [],
   "source": [
    "df_elastic = spark.read \\\n",
    "                  .format(\"org.elasticsearch.spark.sql\") \\\n",
    "                  .option(\"es.nodes\", \"localhost\") \\\n",
    "                  .option(\"es.port\",\"9200\") \\\n",
    "                  .load(\"market-one-mil\")"
   ]
  },
  {
   "cell_type": "code",
   "execution_count": 40,
   "id": "238f717a-9237-431d-8960-cf713d9de9b2",
   "metadata": {
    "tags": []
   },
   "outputs": [
    {
     "data": {
      "text/html": [
       "<div>\n",
       "<style scoped>\n",
       "    .dataframe tbody tr th:only-of-type {\n",
       "        vertical-align: middle;\n",
       "    }\n",
       "\n",
       "    .dataframe tbody tr th {\n",
       "        vertical-align: top;\n",
       "    }\n",
       "\n",
       "    .dataframe thead th {\n",
       "        text-align: right;\n",
       "    }\n",
       "</style>\n",
       "<table border=\"1\" class=\"dataframe\">\n",
       "  <thead>\n",
       "    <tr style=\"text-align: right;\">\n",
       "      <th></th>\n",
       "      <th>AMOUNT</th>\n",
       "      <th>BRANCH</th>\n",
       "      <th>BRAND</th>\n",
       "      <th>CITY</th>\n",
       "      <th>ITEMCODE</th>\n",
       "      <th>ITEMNAME</th>\n",
       "      <th>LINENETTOTAL</th>\n",
       "      <th>LOCATION</th>\n",
       "      <th>LOGICALREF</th>\n",
       "      <th>PRICE</th>\n",
       "      <th>STARTDATE</th>\n",
       "    </tr>\n",
       "  </thead>\n",
       "  <tbody>\n",
       "    <tr>\n",
       "      <th>0</th>\n",
       "      <td>1.000</td>\n",
       "      <td>Şanlıurfa Subesi</td>\n",
       "      <td>FRİTO</td>\n",
       "      <td>Şanlıurfa</td>\n",
       "      <td>21196</td>\n",
       "      <td>CHEETOS 44 GR PEYNIR&amp;SOGAN</td>\n",
       "      <td>1.00</td>\n",
       "      <td>[38.796, 37.159]</td>\n",
       "      <td>17081</td>\n",
       "      <td>1.00</td>\n",
       "      <td>2017-01-08 17:28:00</td>\n",
       "    </tr>\n",
       "    <tr>\n",
       "      <th>1</th>\n",
       "      <td>1.000</td>\n",
       "      <td>Şanlıurfa Subesi</td>\n",
       "      <td>FRİTO</td>\n",
       "      <td>Şanlıurfa</td>\n",
       "      <td>21195</td>\n",
       "      <td>LAY`S  KLASIK 125 GR.</td>\n",
       "      <td>2.50</td>\n",
       "      <td>[38.796, 37.159]</td>\n",
       "      <td>17082</td>\n",
       "      <td>2.50</td>\n",
       "      <td>2017-01-08 17:28:00</td>\n",
       "    </tr>\n",
       "    <tr>\n",
       "      <th>2</th>\n",
       "      <td>1.000</td>\n",
       "      <td>Şanlıurfa Subesi</td>\n",
       "      <td>ÜLKER</td>\n",
       "      <td>Şanlıurfa</td>\n",
       "      <td>3871</td>\n",
       "      <td>ULKER CUBUK KRAKER 5'LI</td>\n",
       "      <td>1.00</td>\n",
       "      <td>[38.796, 37.159]</td>\n",
       "      <td>17083</td>\n",
       "      <td>1.00</td>\n",
       "      <td>2017-01-08 17:28:00</td>\n",
       "    </tr>\n",
       "    <tr>\n",
       "      <th>3</th>\n",
       "      <td>1.000</td>\n",
       "      <td>Şanlıurfa Subesi</td>\n",
       "      <td>ÜLKER</td>\n",
       "      <td>Şanlıurfa</td>\n",
       "      <td>3871</td>\n",
       "      <td>ULKER CUBUK KRAKER 5'LI</td>\n",
       "      <td>1.00</td>\n",
       "      <td>[38.796, 37.159]</td>\n",
       "      <td>17084</td>\n",
       "      <td>1.00</td>\n",
       "      <td>2017-01-08 17:28:00</td>\n",
       "    </tr>\n",
       "    <tr>\n",
       "      <th>4</th>\n",
       "      <td>0.414</td>\n",
       "      <td>Şanlıurfa Subesi</td>\n",
       "      <td>EKİCİ</td>\n",
       "      <td>Şanlıurfa</td>\n",
       "      <td>21036</td>\n",
       "      <td>EKICI TAM YAGLI BEYAZ PEYNIR</td>\n",
       "      <td>5.36</td>\n",
       "      <td>[38.796, 37.159]</td>\n",
       "      <td>17085</td>\n",
       "      <td>12.95</td>\n",
       "      <td>2017-01-08 17:28:00</td>\n",
       "    </tr>\n",
       "  </tbody>\n",
       "</table>\n",
       "</div>"
      ],
      "text/plain": [
       "   AMOUNT            BRANCH  BRAND       CITY  ITEMCODE  \\\n",
       "0   1.000  Şanlıurfa Subesi  FRİTO  Şanlıurfa     21196   \n",
       "1   1.000  Şanlıurfa Subesi  FRİTO  Şanlıurfa     21195   \n",
       "2   1.000  Şanlıurfa Subesi  ÜLKER  Şanlıurfa      3871   \n",
       "3   1.000  Şanlıurfa Subesi  ÜLKER  Şanlıurfa      3871   \n",
       "4   0.414  Şanlıurfa Subesi  EKİCİ  Şanlıurfa     21036   \n",
       "\n",
       "                       ITEMNAME  LINENETTOTAL          LOCATION  LOGICALREF  \\\n",
       "0    CHEETOS 44 GR PEYNIR&SOGAN          1.00  [38.796, 37.159]       17081   \n",
       "1         LAY`S  KLASIK 125 GR.          2.50  [38.796, 37.159]       17082   \n",
       "2       ULKER CUBUK KRAKER 5'LI          1.00  [38.796, 37.159]       17083   \n",
       "3       ULKER CUBUK KRAKER 5'LI          1.00  [38.796, 37.159]       17084   \n",
       "4  EKICI TAM YAGLI BEYAZ PEYNIR          5.36  [38.796, 37.159]       17085   \n",
       "\n",
       "   PRICE           STARTDATE  \n",
       "0   1.00 2017-01-08 17:28:00  \n",
       "1   2.50 2017-01-08 17:28:00  \n",
       "2   1.00 2017-01-08 17:28:00  \n",
       "3   1.00 2017-01-08 17:28:00  \n",
       "4  12.95 2017-01-08 17:28:00  "
      ]
     },
     "execution_count": 40,
     "metadata": {},
     "output_type": "execute_result"
    }
   ],
   "source": [
    "df_elastic.limit(5).toPandas()"
   ]
  },
  {
   "cell_type": "code",
   "execution_count": 41,
   "id": "fda87935-f605-450e-b08e-7de9286026ec",
   "metadata": {
    "tags": []
   },
   "outputs": [
    {
     "name": "stderr",
     "output_type": "stream",
     "text": [
      "[Stage 20:>                                                         (0 + 1) / 1]\r"
     ]
    },
    {
     "name": "stdout",
     "output_type": "stream",
     "text": [
      "+-------------------+-------------------+\n",
      "|     min(STARTDATE)|     max(STARTDATE)|\n",
      "+-------------------+-------------------+\n",
      "|2017-01-03 09:25:00|2017-05-25 21:00:00|\n",
      "+-------------------+-------------------+\n",
      "\n"
     ]
    },
    {
     "name": "stderr",
     "output_type": "stream",
     "text": [
      "                                                                                \r"
     ]
    }
   ],
   "source": [
    "df_elastic.selectExpr(\"MIN(STARTDATE)\",\"MAX(STARTDATE)\").show()"
   ]
  },
  {
   "cell_type": "code",
   "execution_count": 42,
   "id": "5f253ce0-9d1d-4992-9678-44540b9edbf6",
   "metadata": {
    "tags": []
   },
   "outputs": [
    {
     "name": "stdout",
     "output_type": "stream",
     "text": [
      "root\n",
      " |-- AMOUNT: float (nullable = true)\n",
      " |-- BRANCH: string (nullable = true)\n",
      " |-- BRAND: string (nullable = true)\n",
      " |-- CITY: string (nullable = true)\n",
      " |-- ITEMCODE: integer (nullable = true)\n",
      " |-- ITEMNAME: string (nullable = true)\n",
      " |-- LINENETTOTAL: float (nullable = true)\n",
      " |-- LOCATION: array (nullable = true)\n",
      " |    |-- element: double (containsNull = true)\n",
      " |-- LOGICALREF: integer (nullable = true)\n",
      " |-- PRICE: float (nullable = true)\n",
      " |-- STARTDATE: timestamp (nullable = true)\n",
      "\n"
     ]
    }
   ],
   "source": [
    "df_elastic.printSchema()"
   ]
  },
  {
   "cell_type": "code",
   "execution_count": 43,
   "id": "134aecd8-6755-44f2-83db-9996713f8bc0",
   "metadata": {
    "tags": []
   },
   "outputs": [
    {
     "name": "stderr",
     "output_type": "stream",
     "text": [
      "                                                                                \r"
     ]
    },
    {
     "data": {
      "text/plain": [
       "936156"
      ]
     },
     "execution_count": 43,
     "metadata": {},
     "output_type": "execute_result"
    }
   ],
   "source": [
    "df_elastic.count()"
   ]
  },
  {
   "cell_type": "code",
   "execution_count": null,
   "id": "629b76fe-5adb-442c-884c-75cb57258ae5",
   "metadata": {},
   "outputs": [],
   "source": []
  }
 ],
 "metadata": {
  "kernelspec": {
   "display_name": "venvspark",
   "language": "python",
   "name": "venvspark"
  },
  "language_info": {
   "codemirror_mode": {
    "name": "ipython",
    "version": 3
   },
   "file_extension": ".py",
   "mimetype": "text/x-python",
   "name": "python",
   "nbconvert_exporter": "python",
   "pygments_lexer": "ipython3",
   "version": "3.8.12"
  }
 },
 "nbformat": 4,
 "nbformat_minor": 5
}
