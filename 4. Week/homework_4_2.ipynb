{
 "cells": [
  {
   "cell_type": "code",
   "execution_count": 21,
   "id": "01d12e0e-7d4f-4279-ba54-33bb49d97719",
   "metadata": {
    "tags": []
   },
   "outputs": [],
   "source": [
    "from pyspark.sql import SparkSession, functions as F\n",
    "from pyspark.sql.types import * \n",
    "from pyspark.sql.functions import when\n",
    "from pyspark.sql.functions import regexp_replace"
   ]
  },
  {
   "cell_type": "code",
   "execution_count": 7,
   "id": "bda80283-f4d0-4443-8673-3bff17a912e7",
   "metadata": {
    "tags": []
   },
   "outputs": [
    {
     "name": "stderr",
     "output_type": "stream",
     "text": [
      "WARNING: An illegal reflective access operation has occurred\n",
      "WARNING: Illegal reflective access by org.apache.spark.unsafe.Platform (file:/opt/manual/spark-3.1.1-bin-hadoop3.2/jars/spark-unsafe_2.12-3.1.1.jar) to constructor java.nio.DirectByteBuffer(long,int)\n",
      "WARNING: Please consider reporting this to the maintainers of org.apache.spark.unsafe.Platform\n",
      "WARNING: Use --illegal-access=warn to enable warnings of further illegal reflective access operations\n",
      "WARNING: All illegal access operations will be denied in a future release\n",
      "2023-03-01 20:57:03,428 WARN util.NativeCodeLoader: Unable to load native-hadoop library for your platform... using builtin-java classes where applicable\n",
      "Setting default log level to \"WARN\".\n",
      "To adjust logging level use sc.setLogLevel(newLevel). For SparkR, use setLogLevel(newLevel).\n"
     ]
    }
   ],
   "source": [
    "spark = SparkSession.builder \\\n",
    ".appName(\"Odev_4\") \\\n",
    ".getOrCreate()"
   ]
  },
  {
   "cell_type": "code",
   "execution_count": 9,
   "id": "a004f32e-f154-49a9-bc43-d1faf6a61ef7",
   "metadata": {
    "tags": []
   },
   "outputs": [
    {
     "name": "stderr",
     "output_type": "stream",
     "text": [
      "                                                                                \r"
     ]
    }
   ],
   "source": [
    "df = (spark.read\n",
    ".format(\"csv\")\n",
    ".option(\"header\", True)\n",
    ".option(\"inferSchema\", True)\n",
    ".load(\"file:///home/train/spark/tmdb_5000_movies_and_credits/tmdb_5000_credits.csv\"))"
   ]
  },
  {
   "cell_type": "code",
   "execution_count": 10,
   "id": "8655302b-40d2-47b3-aad1-f8d5ae630ae4",
   "metadata": {
    "tags": []
   },
   "outputs": [
    {
     "name": "stdout",
     "output_type": "stream",
     "text": [
      "+--------+--------------------+-------------------+--------------------+\n",
      "|movie_id|               title|               cast|                crew|\n",
      "+--------+--------------------+-------------------+--------------------+\n",
      "|   19995|              Avatar|\"[{\"\"cast_id\"\": 242| \"\"character\"\": \"...|\n",
      "|     285|Pirates of the Ca...|  \"[{\"\"cast_id\"\": 4| \"\"character\"\": \"...|\n",
      "|  206647|             Spectre|  \"[{\"\"cast_id\"\": 1| \"\"character\"\": \"...|\n",
      "|   49026|The Dark Knight R...|  \"[{\"\"cast_id\"\": 2| \"\"character\"\": \"...|\n",
      "|   49529|         John Carter|  \"[{\"\"cast_id\"\": 5| \"\"character\"\": \"...|\n",
      "|     559|        Spider-Man 3| \"[{\"\"cast_id\"\": 30| \"\"character\"\": \"...|\n",
      "|   38757|             Tangled| \"[{\"\"cast_id\"\": 34| \"\"character\"\": \"...|\n",
      "|   99861|Avengers: Age of ...| \"[{\"\"cast_id\"\": 76| \"\"character\"\": \"...|\n",
      "|     767|Harry Potter and ...|  \"[{\"\"cast_id\"\": 3| \"\"character\"\": \"...|\n",
      "|  209112|Batman v Superman...| \"[{\"\"cast_id\"\": 18| \"\"character\"\": \"...|\n",
      "|    1452|    Superman Returns|  \"[{\"\"cast_id\"\": 3| \"\"character\"\": \"...|\n",
      "|   10764|   Quantum of Solace|  \"[{\"\"cast_id\"\": 1| \"\"character\"\": \"...|\n",
      "|      58|Pirates of the Ca...| \"[{\"\"cast_id\"\": 37| \"\"character\"\": \"...|\n",
      "|   57201|     The Lone Ranger|  \"[{\"\"cast_id\"\": 4| \"\"character\"\": \"...|\n",
      "|   49521|        Man of Steel|  \"[{\"\"cast_id\"\": 2| \"\"character\"\": \"...|\n",
      "|    2454|The Chronicles of...|  \"[{\"\"cast_id\"\": 1| \"\"character\"\": \"...|\n",
      "|   24428|        The Avengers| \"[{\"\"cast_id\"\": 46| \"\"character\"\": \"...|\n",
      "|    1865|Pirates of the Ca...| \"[{\"\"cast_id\"\": 15| \"\"character\"\": \"...|\n",
      "|   41154|      Men in Black 3|  \"[{\"\"cast_id\"\": 4| \"\"character\"\": \"...|\n",
      "|  122917|The Hobbit: The B...| \"[{\"\"cast_id\"\": 10| \"\"character\"\": \"...|\n",
      "+--------+--------------------+-------------------+--------------------+\n",
      "only showing top 20 rows\n",
      "\n"
     ]
    }
   ],
   "source": [
    "df.show()"
   ]
  },
  {
   "cell_type": "code",
   "execution_count": 31,
   "id": "c5cb9e26-f92f-46ef-befb-60a8c7db878a",
   "metadata": {
    "tags": []
   },
   "outputs": [],
   "source": [
    "df3= df2.withColumn(\"cast\", F.translate(F.col(\"cast\"), \"[{+!$'\"\"%&*#+(\", \"          \"))"
   ]
  },
  {
   "cell_type": "code",
   "execution_count": 32,
   "id": "448b0479-41aa-48e3-af21-31c46d7d9994",
   "metadata": {
    "tags": []
   },
   "outputs": [
    {
     "name": "stdout",
     "output_type": "stream",
     "text": [
      "+--------+--------------------+-------------------+--------------------+\n",
      "|movie_id|               title|               cast|                crew|\n",
      "+--------+--------------------+-------------------+--------------------+\n",
      "|   19995|              Avatar|     cast_id  : 242| \"\"character\"\": \"...|\n",
      "|     285|Pirates of the Ca...|       cast_id  : 4| \"\"character\"\": \"...|\n",
      "|  206647|             Spectre|       cast_id  : 1| \"\"character\"\": \"...|\n",
      "|   49026|The Dark Knight R...|       cast_id  : 2| \"\"character\"\": \"...|\n",
      "|   49529|         John Carter|       cast_id  : 5| \"\"character\"\": \"...|\n",
      "|     559|        Spider-Man 3|      cast_id  : 30| \"\"character\"\": \"...|\n",
      "|   38757|             Tangled|      cast_id  : 34| \"\"character\"\": \"...|\n",
      "|   99861|Avengers: Age of ...|      cast_id  : 76| \"\"character\"\": \"...|\n",
      "|     767|Harry Potter and ...|       cast_id  : 3| \"\"character\"\": \"...|\n",
      "|  209112|Batman v Superman...|      cast_id  : 18| \"\"character\"\": \"...|\n",
      "|    1452|    Superman Returns|       cast_id  : 3| \"\"character\"\": \"...|\n",
      "|   10764|   Quantum of Solace|       cast_id  : 1| \"\"character\"\": \"...|\n",
      "|      58|Pirates of the Ca...|      cast_id  : 37| \"\"character\"\": \"...|\n",
      "|   57201|     The Lone Ranger|       cast_id  : 4| \"\"character\"\": \"...|\n",
      "|   49521|        Man of Steel|       cast_id  : 2| \"\"character\"\": \"...|\n",
      "|    2454|The Chronicles of...|       cast_id  : 1| \"\"character\"\": \"...|\n",
      "|   24428|        The Avengers|      cast_id  : 46| \"\"character\"\": \"...|\n",
      "|    1865|Pirates of the Ca...|      cast_id  : 15| \"\"character\"\": \"...|\n",
      "|   41154|      Men in Black 3|       cast_id  : 4| \"\"character\"\": \"...|\n",
      "|  122917|The Hobbit: The B...|      cast_id  : 10| \"\"character\"\": \"...|\n",
      "+--------+--------------------+-------------------+--------------------+\n",
      "only showing top 20 rows\n",
      "\n"
     ]
    }
   ],
   "source": [
    "df3.show()"
   ]
  },
  {
   "cell_type": "code",
   "execution_count": 28,
   "id": "3d5af9f1-1bff-47de-8453-7eebc13ee26a",
   "metadata": {
    "tags": []
   },
   "outputs": [],
   "source": [
    "df2= df1.withColumn(\"cast\", F.translate(\"cast\", '\"', \" \"))"
   ]
  },
  {
   "cell_type": "code",
   "execution_count": 23,
   "id": "1effcfc9-0356-4e91-b8e3-238ca34f6caf",
   "metadata": {
    "tags": []
   },
   "outputs": [
    {
     "name": "stdout",
     "output_type": "stream",
     "text": [
      "+--------+--------------------+-------------------+--------------------+\n",
      "|movie_id|               title|               cast|                crew|\n",
      "+--------+--------------------+-------------------+--------------------+\n",
      "|   19995|              Avatar| [{  cast_id  : 242| \"\"character\"\": \"...|\n",
      "|     285|Pirates of the Ca...|   [{  cast_id  : 4| \"\"character\"\": \"...|\n",
      "|  206647|             Spectre|   [{  cast_id  : 1| \"\"character\"\": \"...|\n",
      "|   49026|The Dark Knight R...|   [{  cast_id  : 2| \"\"character\"\": \"...|\n",
      "|   49529|         John Carter|   [{  cast_id  : 5| \"\"character\"\": \"...|\n",
      "|     559|        Spider-Man 3|  [{  cast_id  : 30| \"\"character\"\": \"...|\n",
      "|   38757|             Tangled|  [{  cast_id  : 34| \"\"character\"\": \"...|\n",
      "|   99861|Avengers: Age of ...|  [{  cast_id  : 76| \"\"character\"\": \"...|\n",
      "|     767|Harry Potter and ...|   [{  cast_id  : 3| \"\"character\"\": \"...|\n",
      "|  209112|Batman v Superman...|  [{  cast_id  : 18| \"\"character\"\": \"...|\n",
      "|    1452|    Superman Returns|   [{  cast_id  : 3| \"\"character\"\": \"...|\n",
      "|   10764|   Quantum of Solace|   [{  cast_id  : 1| \"\"character\"\": \"...|\n",
      "|      58|Pirates of the Ca...|  [{  cast_id  : 37| \"\"character\"\": \"...|\n",
      "|   57201|     The Lone Ranger|   [{  cast_id  : 4| \"\"character\"\": \"...|\n",
      "|   49521|        Man of Steel|   [{  cast_id  : 2| \"\"character\"\": \"...|\n",
      "|    2454|The Chronicles of...|   [{  cast_id  : 1| \"\"character\"\": \"...|\n",
      "|   24428|        The Avengers|  [{  cast_id  : 46| \"\"character\"\": \"...|\n",
      "|    1865|Pirates of the Ca...|  [{  cast_id  : 15| \"\"character\"\": \"...|\n",
      "|   41154|      Men in Black 3|   [{  cast_id  : 4| \"\"character\"\": \"...|\n",
      "|  122917|The Hobbit: The B...|  [{  cast_id  : 10| \"\"character\"\": \"...|\n",
      "+--------+--------------------+-------------------+--------------------+\n",
      "only showing top 20 rows\n",
      "\n"
     ]
    }
   ],
   "source": [
    "df2.show()"
   ]
  },
  {
   "cell_type": "code",
   "execution_count": 40,
   "id": "ec30340f-ad4b-4f2c-9b70-58f0e8be16c1",
   "metadata": {
    "tags": []
   },
   "outputs": [],
   "source": [
    "df4 = df3.withColumn(\"cast\", F.trim(F.translate(F.col(\"cast\"), \"cast_id:\", \"          \")))"
   ]
  },
  {
   "cell_type": "code",
   "execution_count": 41,
   "id": "efa21344-22b9-4d69-b0dd-ed7c1c186eab",
   "metadata": {
    "tags": []
   },
   "outputs": [
    {
     "name": "stdout",
     "output_type": "stream",
     "text": [
      "+--------+--------------------+----+--------------------+\n",
      "|movie_id|               title|cast|                crew|\n",
      "+--------+--------------------+----+--------------------+\n",
      "|   19995|              Avatar| 242| \"\"character\"\": \"...|\n",
      "|     285|Pirates of the Ca...|   4| \"\"character\"\": \"...|\n",
      "|  206647|             Spectre|   1| \"\"character\"\": \"...|\n",
      "|   49026|The Dark Knight R...|   2| \"\"character\"\": \"...|\n",
      "|   49529|         John Carter|   5| \"\"character\"\": \"...|\n",
      "|     559|        Spider-Man 3|  30| \"\"character\"\": \"...|\n",
      "|   38757|             Tangled|  34| \"\"character\"\": \"...|\n",
      "|   99861|Avengers: Age of ...|  76| \"\"character\"\": \"...|\n",
      "|     767|Harry Potter and ...|   3| \"\"character\"\": \"...|\n",
      "|  209112|Batman v Superman...|  18| \"\"character\"\": \"...|\n",
      "|    1452|    Superman Returns|   3| \"\"character\"\": \"...|\n",
      "|   10764|   Quantum of Solace|   1| \"\"character\"\": \"...|\n",
      "|      58|Pirates of the Ca...|  37| \"\"character\"\": \"...|\n",
      "|   57201|     The Lone Ranger|   4| \"\"character\"\": \"...|\n",
      "|   49521|        Man of Steel|   2| \"\"character\"\": \"...|\n",
      "|    2454|The Chronicles of...|   1| \"\"character\"\": \"...|\n",
      "|   24428|        The Avengers|  46| \"\"character\"\": \"...|\n",
      "|    1865|Pirates of the Ca...|  15| \"\"character\"\": \"...|\n",
      "|   41154|      Men in Black 3|   4| \"\"character\"\": \"...|\n",
      "|  122917|The Hobbit: The B...|  10| \"\"character\"\": \"...|\n",
      "+--------+--------------------+----+--------------------+\n",
      "only showing top 20 rows\n",
      "\n"
     ]
    }
   ],
   "source": [
    "df4.show()"
   ]
  },
  {
   "cell_type": "code",
   "execution_count": 48,
   "id": "3b957dab-0717-463e-aa19-87592b21f865",
   "metadata": {
    "tags": []
   },
   "outputs": [],
   "source": [
    "df5 = df4.withColumn('crew', \n",
    "                   when(df4.crew.contains('\"\"character\"\":'),regexp_replace(df4.crew,'\"\"character\"\":','')) \\\n",
    "                  .otherwise(df4.crew))"
   ]
  },
  {
   "cell_type": "code",
   "execution_count": 49,
   "id": "2df88fd3-d575-443c-b86c-ea696955b9c2",
   "metadata": {
    "tags": []
   },
   "outputs": [
    {
     "name": "stdout",
     "output_type": "stream",
     "text": [
      "+--------+--------------------+----+--------------------+\n",
      "|movie_id|               title|cast|                crew|\n",
      "+--------+--------------------+----+--------------------+\n",
      "|   19995|              Avatar| 242|      \"\"Jake Sully\"\"|\n",
      "|     285|Pirates of the Ca...|   4|  \"\"Captain Jack ...|\n",
      "|  206647|             Spectre|   1|      \"\"James Bond\"\"|\n",
      "|   49026|The Dark Knight R...|   2|  \"\"Bruce Wayne /...|\n",
      "|   49529|         John Carter|   5|     \"\"John Carter\"\"|\n",
      "|     559|        Spider-Man 3|  30|  \"\"Peter Parker ...|\n",
      "|   38757|             Tangled|  34|  \"\"Flynn Rider (...|\n",
      "|   99861|Avengers: Age of ...|  76|  \"\"Tony Stark / ...|\n",
      "|     767|Harry Potter and ...|   3|    \"\"Harry Potter\"\"|\n",
      "|  209112|Batman v Superman...|  18|  \"\"Bruce Wayne /...|\n",
      "|    1452|    Superman Returns|   3|  \"\"Superman / Cl...|\n",
      "|   10764|   Quantum of Solace|   1|      \"\"James Bond\"\"|\n",
      "|      58|Pirates of the Ca...|  37|  \"\"Captain Jack ...|\n",
      "|   57201|     The Lone Ranger|   4|           \"\"Tonto\"\"|\n",
      "|   49521|        Man of Steel|   2|  \"\"Clark Kent / ...|\n",
      "|    2454|The Chronicles of...|   1|  \"\"Prince Caspian\"\"|\n",
      "|   24428|        The Avengers|  46|  \"\"Tony Stark / ...|\n",
      "|    1865|Pirates of the Ca...|  15|  \"\"Captain Jack ...|\n",
      "|   41154|      Men in Black 3|   4|         \"\"Agent J\"\"|\n",
      "|  122917|The Hobbit: The B...|  10|   \"\"Bilbo Baggins\"\"|\n",
      "+--------+--------------------+----+--------------------+\n",
      "only showing top 20 rows\n",
      "\n"
     ]
    }
   ],
   "source": [
    "df5.show()"
   ]
  },
  {
   "cell_type": "code",
   "execution_count": 50,
   "id": "2f45e37d-fc4a-4d2e-89f4-ebe5f60de172",
   "metadata": {
    "tags": []
   },
   "outputs": [],
   "source": [
    "df6= df5.withColumn(\"crew\", F.translate(\"crew\", '\"', \" \"))"
   ]
  },
  {
   "cell_type": "code",
   "execution_count": 53,
   "id": "671f7cf6-52d2-41f5-b6e3-3fd0be7e59cf",
   "metadata": {
    "tags": []
   },
   "outputs": [
    {
     "data": {
      "text/html": [
       "<div>\n",
       "<style scoped>\n",
       "    .dataframe tbody tr th:only-of-type {\n",
       "        vertical-align: middle;\n",
       "    }\n",
       "\n",
       "    .dataframe tbody tr th {\n",
       "        vertical-align: top;\n",
       "    }\n",
       "\n",
       "    .dataframe thead th {\n",
       "        text-align: right;\n",
       "    }\n",
       "</style>\n",
       "<table border=\"1\" class=\"dataframe\">\n",
       "  <thead>\n",
       "    <tr style=\"text-align: right;\">\n",
       "      <th></th>\n",
       "      <th>movie_id</th>\n",
       "      <th>title</th>\n",
       "      <th>cast</th>\n",
       "      <th>crew</th>\n",
       "    </tr>\n",
       "  </thead>\n",
       "  <tbody>\n",
       "    <tr>\n",
       "      <th>0</th>\n",
       "      <td>19995</td>\n",
       "      <td>Avatar</td>\n",
       "      <td>242</td>\n",
       "      <td>Jake Sully</td>\n",
       "    </tr>\n",
       "    <tr>\n",
       "      <th>1</th>\n",
       "      <td>285</td>\n",
       "      <td>Pirates of the Caribbean: At World's End</td>\n",
       "      <td>4</td>\n",
       "      <td>Captain Jack Sparrow</td>\n",
       "    </tr>\n",
       "    <tr>\n",
       "      <th>2</th>\n",
       "      <td>206647</td>\n",
       "      <td>Spectre</td>\n",
       "      <td>1</td>\n",
       "      <td>James Bond</td>\n",
       "    </tr>\n",
       "    <tr>\n",
       "      <th>3</th>\n",
       "      <td>49026</td>\n",
       "      <td>The Dark Knight Rises</td>\n",
       "      <td>2</td>\n",
       "      <td>Bruce Wayne / Batman</td>\n",
       "    </tr>\n",
       "    <tr>\n",
       "      <th>4</th>\n",
       "      <td>49529</td>\n",
       "      <td>John Carter</td>\n",
       "      <td>5</td>\n",
       "      <td>John Carter</td>\n",
       "    </tr>\n",
       "    <tr>\n",
       "      <th>5</th>\n",
       "      <td>559</td>\n",
       "      <td>Spider-Man 3</td>\n",
       "      <td>30</td>\n",
       "      <td>Peter Parker / Spider-Man</td>\n",
       "    </tr>\n",
       "    <tr>\n",
       "      <th>6</th>\n",
       "      <td>38757</td>\n",
       "      <td>Tangled</td>\n",
       "      <td>34</td>\n",
       "      <td>Flynn Rider (voice)</td>\n",
       "    </tr>\n",
       "    <tr>\n",
       "      <th>7</th>\n",
       "      <td>99861</td>\n",
       "      <td>Avengers: Age of Ultron</td>\n",
       "      <td>76</td>\n",
       "      <td>Tony Stark / Iron Man</td>\n",
       "    </tr>\n",
       "    <tr>\n",
       "      <th>8</th>\n",
       "      <td>767</td>\n",
       "      <td>Harry Potter and the Half-Blood Prince</td>\n",
       "      <td>3</td>\n",
       "      <td>Harry Potter</td>\n",
       "    </tr>\n",
       "    <tr>\n",
       "      <th>9</th>\n",
       "      <td>209112</td>\n",
       "      <td>Batman v Superman: Dawn of Justice</td>\n",
       "      <td>18</td>\n",
       "      <td>Bruce Wayne / Batman</td>\n",
       "    </tr>\n",
       "  </tbody>\n",
       "</table>\n",
       "</div>"
      ],
      "text/plain": [
       "   movie_id                                     title cast  \\\n",
       "0     19995                                    Avatar  242   \n",
       "1       285  Pirates of the Caribbean: At World's End    4   \n",
       "2    206647                                   Spectre    1   \n",
       "3     49026                     The Dark Knight Rises    2   \n",
       "4     49529                               John Carter    5   \n",
       "5       559                              Spider-Man 3   30   \n",
       "6     38757                                   Tangled   34   \n",
       "7     99861                   Avengers: Age of Ultron   76   \n",
       "8       767    Harry Potter and the Half-Blood Prince    3   \n",
       "9    209112        Batman v Superman: Dawn of Justice   18   \n",
       "\n",
       "                              crew  \n",
       "0                     Jake Sully    \n",
       "1           Captain Jack Sparrow    \n",
       "2                     James Bond    \n",
       "3           Bruce Wayne / Batman    \n",
       "4                    John Carter    \n",
       "5      Peter Parker / Spider-Man    \n",
       "6            Flynn Rider (voice)    \n",
       "7          Tony Stark / Iron Man    \n",
       "8                   Harry Potter    \n",
       "9           Bruce Wayne / Batman    "
      ]
     },
     "execution_count": 53,
     "metadata": {},
     "output_type": "execute_result"
    }
   ],
   "source": [
    "df6.toPandas().head(10)"
   ]
  },
  {
   "cell_type": "code",
   "execution_count": 54,
   "id": "40db2a59-06ab-4e23-aee4-69debdfcd254",
   "metadata": {
    "tags": []
   },
   "outputs": [],
   "source": [
    "df6.createTempView(\"movie_table\")"
   ]
  },
  {
   "cell_type": "code",
   "execution_count": 80,
   "id": "a012ccc9-c0d7-47da-9acf-1bb66baa59a6",
   "metadata": {
    "tags": []
   },
   "outputs": [
    {
     "name": "stderr",
     "output_type": "stream",
     "text": [
      "                                                                                \r"
     ]
    }
   ],
   "source": [
    "df6.write.csv(\"file:////home/train/datasets/credit.csv\", header=True)"
   ]
  },
  {
   "cell_type": "code",
   "execution_count": null,
   "id": "8e7dd7cb-0add-4862-bfd4-42b80e2aadd0",
   "metadata": {},
   "outputs": [],
   "source": []
  }
 ],
 "metadata": {
  "kernelspec": {
   "display_name": "venvspark",
   "language": "python",
   "name": "venvspark"
  },
  "language_info": {
   "codemirror_mode": {
    "name": "ipython",
    "version": 3
   },
   "file_extension": ".py",
   "mimetype": "text/x-python",
   "name": "python",
   "nbconvert_exporter": "python",
   "pygments_lexer": "ipython3",
   "version": "3.8.12"
  }
 },
 "nbformat": 4,
 "nbformat_minor": 5
}
