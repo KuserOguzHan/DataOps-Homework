{
 "cells": [
  {
   "cell_type": "code",
   "execution_count": 1,
   "id": "582efe67-5325-419e-b69a-810f0e30120c",
   "metadata": {
    "tags": []
   },
   "outputs": [],
   "source": [
    "import findspark\n",
    "findspark.init(\"/opt/manual/spark\")\n",
    "from pyspark.sql import SparkSession\n",
    "from pyspark.sql.types import *\n",
    "from pyspark.sql import functions as F"
   ]
  },
  {
   "cell_type": "code",
   "execution_count": 2,
   "id": "9c7a3ad1-c9cd-4fe5-bd5a-adb0ca28d353",
   "metadata": {
    "tags": []
   },
   "outputs": [
    {
     "name": "stderr",
     "output_type": "stream",
     "text": [
      "WARNING: An illegal reflective access operation has occurred\n",
      "WARNING: Illegal reflective access by org.apache.spark.unsafe.Platform (file:/opt/manual/spark-3.1.1-bin-hadoop3.2/jars/spark-unsafe_2.12-3.1.1.jar) to constructor java.nio.DirectByteBuffer(long,int)\n",
      "WARNING: Please consider reporting this to the maintainers of org.apache.spark.unsafe.Platform\n",
      "WARNING: Use --illegal-access=warn to enable warnings of further illegal reflective access operations\n",
      "WARNING: All illegal access operations will be denied in a future release\n",
      "2023-04-05 16:17:34,780 WARN util.NativeCodeLoader: Unable to load native-hadoop library for your platform... using builtin-java classes where applicable\n",
      "Setting default log level to \"WARN\".\n",
      "To adjust logging level use sc.setLogLevel(newLevel). For SparkR, use setLogLevel(newLevel).\n"
     ]
    }
   ],
   "source": [
    "spark = SparkSession \\\n",
    ".builder \\\n",
    ".master(\"local[2]\") \\\n",
    ".appName(\"Homework4_1\") \\\n",
    ".config(\"spark.executer.memory\",\"2g\") \\\n",
    ".config(\"spark.driver.memory\",\"1g\") \\\n",
    ".enableHiveSupport() \\\n",
    ".getOrCreate()"
   ]
  },
  {
   "cell_type": "code",
   "execution_count": null,
   "id": "32d53373-8e2c-40da-9459-c0e40ef7187d",
   "metadata": {},
   "outputs": [],
   "source": [
    "# Check the dataset\n",
    "'''\n",
    "[train@trainvm ~]$ ls -l ~/datasets/\n",
    "'''\n",
    "\n",
    "# We have disticnt six csv file "
   ]
  },
  {
   "cell_type": "code",
   "execution_count": 3,
   "id": "07820cd1-4ad3-4a38-8460-528ef218b8fc",
   "metadata": {
    "tags": []
   },
   "outputs": [],
   "source": [
    "data_path = \"file:///home/train/datasets/retail_db\""
   ]
  },
  {
   "cell_type": "code",
   "execution_count": 24,
   "id": "e219274c-7799-43b9-9356-7e7cba215514",
   "metadata": {
    "tags": []
   },
   "outputs": [
    {
     "name": "stdout",
     "output_type": "stream",
     "text": [
      "+----------+--------------------+-------------------+\n",
      "|categoryId|categoryDepartmentId|       categoryName|\n",
      "+----------+--------------------+-------------------+\n",
      "|         1|                   2|           Football|\n",
      "|         2|                   2|             Soccer|\n",
      "|         3|                   2|Baseball & Softball|\n",
      "|         4|                   2|         Basketball|\n",
      "|         5|                   2|           Lacrosse|\n",
      "|         6|                   2|   Tennis & Racquet|\n",
      "|         7|                   2|             Hockey|\n",
      "|         8|                   2|        More Sports|\n",
      "|         9|                   3|   Cardio Equipment|\n",
      "|        10|                   3|  Strength Training|\n",
      "+----------+--------------------+-------------------+\n",
      "only showing top 10 rows\n",
      "\n"
     ]
    }
   ],
   "source": [
    "categories = spark.read.option(\"inferSchema\",True).csv(data_path+\"/categories.csv\", header=True)\n",
    "categories.show(10)"
   ]
  },
  {
   "cell_type": "code",
   "execution_count": 5,
   "id": "8b779dd9-b2a1-4b60-aab5-c140ceeed8a4",
   "metadata": {
    "tags": []
   },
   "outputs": [
    {
     "name": "stdout",
     "output_type": "stream",
     "text": [
      "root\n",
      " |-- categoryId: integer (nullable = true)\n",
      " |-- categoryDepartmentId: integer (nullable = true)\n",
      " |-- categoryName: string (nullable = true)\n",
      "\n"
     ]
    }
   ],
   "source": [
    "categories.printSchema()"
   ]
  },
  {
   "cell_type": "code",
   "execution_count": 10,
   "id": "0a9597e1-8fe6-4c2b-be6e-70a26d8ae5b5",
   "metadata": {
    "tags": []
   },
   "outputs": [
    {
     "data": {
      "text/html": [
       "<div>\n",
       "<style scoped>\n",
       "    .dataframe tbody tr th:only-of-type {\n",
       "        vertical-align: middle;\n",
       "    }\n",
       "\n",
       "    .dataframe tbody tr th {\n",
       "        vertical-align: top;\n",
       "    }\n",
       "\n",
       "    .dataframe thead th {\n",
       "        text-align: right;\n",
       "    }\n",
       "</style>\n",
       "<table border=\"1\" class=\"dataframe\">\n",
       "  <thead>\n",
       "    <tr style=\"text-align: right;\">\n",
       "      <th></th>\n",
       "      <th>customerId</th>\n",
       "      <th>customerFName</th>\n",
       "      <th>customerLName</th>\n",
       "      <th>customerEmail</th>\n",
       "      <th>customerPassword</th>\n",
       "      <th>customerStreet</th>\n",
       "      <th>customerCity</th>\n",
       "      <th>customerState</th>\n",
       "      <th>customerZipcode</th>\n",
       "    </tr>\n",
       "  </thead>\n",
       "  <tbody>\n",
       "    <tr>\n",
       "      <th>0</th>\n",
       "      <td>1</td>\n",
       "      <td>Richard</td>\n",
       "      <td>Hernandez</td>\n",
       "      <td>XXXXXXXXX</td>\n",
       "      <td>XXXXXXXXX</td>\n",
       "      <td>6303 Heather Plaza</td>\n",
       "      <td>Brownsville</td>\n",
       "      <td>TX</td>\n",
       "      <td>78521</td>\n",
       "    </tr>\n",
       "    <tr>\n",
       "      <th>1</th>\n",
       "      <td>2</td>\n",
       "      <td>Mary</td>\n",
       "      <td>Barrett</td>\n",
       "      <td>XXXXXXXXX</td>\n",
       "      <td>XXXXXXXXX</td>\n",
       "      <td>9526 Noble Embers Ridge</td>\n",
       "      <td>Littleton</td>\n",
       "      <td>CO</td>\n",
       "      <td>80126</td>\n",
       "    </tr>\n",
       "    <tr>\n",
       "      <th>2</th>\n",
       "      <td>3</td>\n",
       "      <td>Ann</td>\n",
       "      <td>Smith</td>\n",
       "      <td>XXXXXXXXX</td>\n",
       "      <td>XXXXXXXXX</td>\n",
       "      <td>3422 Blue Pioneer Bend</td>\n",
       "      <td>Caguas</td>\n",
       "      <td>PR</td>\n",
       "      <td>725</td>\n",
       "    </tr>\n",
       "  </tbody>\n",
       "</table>\n",
       "</div>"
      ],
      "text/plain": [
       "   customerId customerFName customerLName customerEmail customerPassword  \\\n",
       "0           1       Richard     Hernandez     XXXXXXXXX        XXXXXXXXX   \n",
       "1           2          Mary       Barrett     XXXXXXXXX        XXXXXXXXX   \n",
       "2           3           Ann         Smith     XXXXXXXXX        XXXXXXXXX   \n",
       "\n",
       "            customerStreet customerCity customerState  customerZipcode  \n",
       "0       6303 Heather Plaza  Brownsville            TX            78521  \n",
       "1  9526 Noble Embers Ridge    Littleton            CO            80126  \n",
       "2   3422 Blue Pioneer Bend       Caguas            PR              725  "
      ]
     },
     "execution_count": 10,
     "metadata": {},
     "output_type": "execute_result"
    }
   ],
   "source": [
    "customers = spark.read.option(\"inferSchema\",True).csv(data_path+\"/customers.csv\", header=True)\n",
    "customers.limit(3).toPandas()"
   ]
  },
  {
   "cell_type": "code",
   "execution_count": 11,
   "id": "3ac5a017-c292-4ab1-8556-9879b0ca8be2",
   "metadata": {
    "tags": []
   },
   "outputs": [
    {
     "name": "stdout",
     "output_type": "stream",
     "text": [
      "root\n",
      " |-- customerId: integer (nullable = true)\n",
      " |-- customerFName: string (nullable = true)\n",
      " |-- customerLName: string (nullable = true)\n",
      " |-- customerEmail: string (nullable = true)\n",
      " |-- customerPassword: string (nullable = true)\n",
      " |-- customerStreet: string (nullable = true)\n",
      " |-- customerCity: string (nullable = true)\n",
      " |-- customerState: string (nullable = true)\n",
      " |-- customerZipcode: integer (nullable = true)\n",
      "\n"
     ]
    }
   ],
   "source": [
    "customers.printSchema()"
   ]
  },
  {
   "cell_type": "code",
   "execution_count": 6,
   "id": "701bf57c-108d-4a4d-abd4-14eb9bd6d9af",
   "metadata": {
    "tags": []
   },
   "outputs": [
    {
     "name": "stdout",
     "output_type": "stream",
     "text": [
      "+------------+--------------+\n",
      "|departmentId|departmentName|\n",
      "+------------+--------------+\n",
      "|           2|       Fitness|\n",
      "|           3|      Footwear|\n",
      "|           4|       Apparel|\n",
      "+------------+--------------+\n",
      "only showing top 3 rows\n",
      "\n"
     ]
    }
   ],
   "source": [
    "departments = spark.read.option(\"inferSchema\",True).csv(data_path+\"/departments.csv\", header=True)\n",
    "departments.show(3)"
   ]
  },
  {
   "cell_type": "code",
   "execution_count": 12,
   "id": "78d26d0f-258c-414d-a4a5-c41e7ea09a57",
   "metadata": {
    "tags": []
   },
   "outputs": [
    {
     "name": "stdout",
     "output_type": "stream",
     "text": [
      "root\n",
      " |-- departmentId: integer (nullable = true)\n",
      " |-- departmentName: string (nullable = true)\n",
      "\n"
     ]
    }
   ],
   "source": [
    "departments.printSchema()"
   ]
  },
  {
   "cell_type": "code",
   "execution_count": 8,
   "id": "6bc43b16-4bc3-400d-a9fe-18ddd948a35f",
   "metadata": {
    "tags": []
   },
   "outputs": [
    {
     "name": "stdout",
     "output_type": "stream",
     "text": [
      "+---------+-----------------+--------------------+------------------+------------+--------------------+\n",
      "|productId|productCategoryId|         productName|productDescription|productPrice|        productImage|\n",
      "+---------+-----------------+--------------------+------------------+------------+--------------------+\n",
      "|        1|                2|Quest Q64 10 FT. ...|              null|       59.98|http://images.acm...|\n",
      "|        2|                2|Under Armour Men'...|              null|      129.99|http://images.acm...|\n",
      "|        3|                2|Under Armour Men'...|              null|       89.99|http://images.acm...|\n",
      "+---------+-----------------+--------------------+------------------+------------+--------------------+\n",
      "only showing top 3 rows\n",
      "\n"
     ]
    }
   ],
   "source": [
    "products = spark.read.option(\"inferSchema\",True).csv(data_path+\"/products.csv\", header=True)\n",
    "products.show(3)"
   ]
  },
  {
   "cell_type": "code",
   "execution_count": 9,
   "id": "40e3b964-8997-4ec5-9c7c-97703153f2f2",
   "metadata": {
    "tags": []
   },
   "outputs": [
    {
     "name": "stdout",
     "output_type": "stream",
     "text": [
      "root\n",
      " |-- productId: integer (nullable = true)\n",
      " |-- productCategoryId: integer (nullable = true)\n",
      " |-- productName: string (nullable = true)\n",
      " |-- productDescription: string (nullable = true)\n",
      " |-- productPrice: double (nullable = true)\n",
      " |-- productImage: string (nullable = true)\n",
      "\n"
     ]
    }
   ],
   "source": [
    "products.printSchema()"
   ]
  },
  {
   "cell_type": "code",
   "execution_count": 13,
   "id": "91f185c8-f9ce-408b-ae5d-e2d0082a9158",
   "metadata": {
    "tags": []
   },
   "outputs": [
    {
     "name": "stdout",
     "output_type": "stream",
     "text": [
      "+-------+--------------------+---------------+---------------+\n",
      "|orderId|           orderDate|orderCustomerId|    orderStatus|\n",
      "+-------+--------------------+---------------+---------------+\n",
      "|      1|2013-07-25 00:00:...|          11599|         CLOSED|\n",
      "|      2|2013-07-25 00:00:...|            256|PENDING_PAYMENT|\n",
      "|      3|2013-07-25 00:00:...|          12111|       COMPLETE|\n",
      "+-------+--------------------+---------------+---------------+\n",
      "only showing top 3 rows\n",
      "\n"
     ]
    }
   ],
   "source": [
    "orders = spark.read.option(\"inferSchema\",True).csv(data_path+\"/orders.csv\", header=True)\n",
    "orders.show(3)"
   ]
  },
  {
   "cell_type": "code",
   "execution_count": 14,
   "id": "c477a86f-c8a7-42ff-9fd9-be6f1bf19bb1",
   "metadata": {
    "tags": []
   },
   "outputs": [
    {
     "name": "stdout",
     "output_type": "stream",
     "text": [
      "root\n",
      " |-- orderId: integer (nullable = true)\n",
      " |-- orderDate: string (nullable = true)\n",
      " |-- orderCustomerId: integer (nullable = true)\n",
      " |-- orderStatus: string (nullable = true)\n",
      "\n"
     ]
    }
   ],
   "source": [
    "orders.printSchema()"
   ]
  },
  {
   "cell_type": "code",
   "execution_count": 15,
   "id": "7752e2f5-f472-4530-9fd3-5c813320b44f",
   "metadata": {
    "tags": []
   },
   "outputs": [
    {
     "name": "stderr",
     "output_type": "stream",
     "text": [
      "                                                                                \r"
     ]
    },
    {
     "name": "stdout",
     "output_type": "stream",
     "text": [
      "+-------------+----------------+------------------+-----------------+-----------------+---------------------+\n",
      "|orderItemName|orderItemOrderId|orderItemProductId|orderItemQuantity|orderItemSubTotal|orderItemProductPrice|\n",
      "+-------------+----------------+------------------+-----------------+-----------------+---------------------+\n",
      "|            1|               1|               957|                1|           299.98|               299.98|\n",
      "|            2|               2|              1073|                1|           199.99|               199.99|\n",
      "|            3|               2|               502|                5|            250.0|                 50.0|\n",
      "+-------------+----------------+------------------+-----------------+-----------------+---------------------+\n",
      "only showing top 3 rows\n",
      "\n"
     ]
    }
   ],
   "source": [
    "order_items = spark.read.option(\"inferSchema\",True).csv(data_path+\"/order_items.csv\", header=True)\n",
    "order_items.show(3)"
   ]
  },
  {
   "cell_type": "code",
   "execution_count": 16,
   "id": "a849e597-d9b6-4049-b662-4f007890215e",
   "metadata": {
    "tags": []
   },
   "outputs": [
    {
     "name": "stdout",
     "output_type": "stream",
     "text": [
      "root\n",
      " |-- orderItemName: integer (nullable = true)\n",
      " |-- orderItemOrderId: integer (nullable = true)\n",
      " |-- orderItemProductId: integer (nullable = true)\n",
      " |-- orderItemQuantity: integer (nullable = true)\n",
      " |-- orderItemSubTotal: double (nullable = true)\n",
      " |-- orderItemProductPrice: double (nullable = true)\n",
      "\n"
     ]
    }
   ],
   "source": [
    "order_items.printSchema()"
   ]
  },
  {
   "cell_type": "code",
   "execution_count": 17,
   "id": "80a68080-53f3-42dd-ba28-5ed055af5e27",
   "metadata": {
    "tags": []
   },
   "outputs": [],
   "source": [
    "# Q1.\n",
    "\n",
    "# Find how many unique orderItemOrderIds are in the order_items table?"
   ]
  },
  {
   "cell_type": "code",
   "execution_count": 18,
   "id": "c7421f86-5851-4a8e-8ecb-4c242df43059",
   "metadata": {
    "tags": []
   },
   "outputs": [
    {
     "name": "stderr",
     "output_type": "stream",
     "text": [
      "                                                                                \r"
     ]
    },
    {
     "data": {
      "text/plain": [
       "57431"
      ]
     },
     "execution_count": 18,
     "metadata": {},
     "output_type": "execute_result"
    }
   ],
   "source": [
    "order_items.select(\"orderItemOrderId\").distinct().count()"
   ]
  },
  {
   "cell_type": "code",
   "execution_count": 19,
   "id": "22ed76ff-8d17-4948-99fb-07f9dd234dce",
   "metadata": {
    "tags": []
   },
   "outputs": [],
   "source": [
    "# Q2.\n",
    "\n",
    "# Find how many rows are in the orders and order_items tables?\n"
   ]
  },
  {
   "cell_type": "code",
   "execution_count": 20,
   "id": "afc0715c-c944-4e6f-be1e-91d970d0ef6c",
   "metadata": {
    "tags": []
   },
   "outputs": [
    {
     "data": {
      "text/plain": [
       "68883"
      ]
     },
     "execution_count": 20,
     "metadata": {},
     "output_type": "execute_result"
    }
   ],
   "source": [
    "orders.count()"
   ]
  },
  {
   "cell_type": "code",
   "execution_count": 23,
   "id": "aeb7018d-c479-4630-8060-3024d18db70f",
   "metadata": {
    "tags": []
   },
   "outputs": [
    {
     "data": {
      "text/plain": [
       "172198"
      ]
     },
     "execution_count": 23,
     "metadata": {},
     "output_type": "execute_result"
    }
   ],
   "source": [
    "order_items.count()"
   ]
  },
  {
   "cell_type": "code",
   "execution_count": 22,
   "id": "cd6b415f-efcc-4013-bec7-8dc3f4f6faca",
   "metadata": {
    "tags": []
   },
   "outputs": [],
   "source": [
    "# Q3.\n",
    "\n",
    "# Write the most canceled (descending order) products to the local disk in parquet format in terms of total sales amount."
   ]
  },
  {
   "cell_type": "code",
   "execution_count": 25,
   "id": "aa0095ac-d238-472b-bdf4-64c89b51bb62",
   "metadata": {
    "tags": []
   },
   "outputs": [],
   "source": [
    "# Step 1. We need the \"products\" data to see which products. ------------------------------->\"products\"\n",
    "#         We need to use categories data to see which catagories---------------------------->\"catagories\"\n",
    "\n",
    "# Step 2. We need to know order information. So I will use \"order_items\" data.-------------->\"order_items\"\n",
    "\n",
    "# Step 3. We will join steps1 and steps2 and achieve \"Cancelled Products\".\n"
   ]
  },
  {
   "cell_type": "code",
   "execution_count": 26,
   "id": "09be2940-9c56-4812-8a74-c0e9c35601a9",
   "metadata": {
    "tags": []
   },
   "outputs": [
    {
     "data": {
      "text/html": [
       "<div>\n",
       "<style scoped>\n",
       "    .dataframe tbody tr th:only-of-type {\n",
       "        vertical-align: middle;\n",
       "    }\n",
       "\n",
       "    .dataframe tbody tr th {\n",
       "        vertical-align: top;\n",
       "    }\n",
       "\n",
       "    .dataframe thead th {\n",
       "        text-align: right;\n",
       "    }\n",
       "</style>\n",
       "<table border=\"1\" class=\"dataframe\">\n",
       "  <thead>\n",
       "    <tr style=\"text-align: right;\">\n",
       "      <th></th>\n",
       "      <th>productId</th>\n",
       "      <th>productName</th>\n",
       "      <th>categoryName</th>\n",
       "    </tr>\n",
       "  </thead>\n",
       "  <tbody>\n",
       "    <tr>\n",
       "      <th>0</th>\n",
       "      <td>1</td>\n",
       "      <td>Quest Q64 10 FT. x 10 FT. Slant Leg Instant U</td>\n",
       "      <td>Soccer</td>\n",
       "    </tr>\n",
       "    <tr>\n",
       "      <th>1</th>\n",
       "      <td>2</td>\n",
       "      <td>Under Armour Men's Highlight MC Football Clea</td>\n",
       "      <td>Soccer</td>\n",
       "    </tr>\n",
       "    <tr>\n",
       "      <th>2</th>\n",
       "      <td>3</td>\n",
       "      <td>Under Armour Men's Renegade D Mid Football Cl</td>\n",
       "      <td>Soccer</td>\n",
       "    </tr>\n",
       "    <tr>\n",
       "      <th>3</th>\n",
       "      <td>4</td>\n",
       "      <td>Under Armour Men's Renegade D Mid Football Cl</td>\n",
       "      <td>Soccer</td>\n",
       "    </tr>\n",
       "    <tr>\n",
       "      <th>4</th>\n",
       "      <td>5</td>\n",
       "      <td>Riddell Youth Revolution Speed Custom Footbal</td>\n",
       "      <td>Soccer</td>\n",
       "    </tr>\n",
       "  </tbody>\n",
       "</table>\n",
       "</div>"
      ],
      "text/plain": [
       "   productId                                    productName categoryName\n",
       "0          1  Quest Q64 10 FT. x 10 FT. Slant Leg Instant U       Soccer\n",
       "1          2  Under Armour Men's Highlight MC Football Clea       Soccer\n",
       "2          3  Under Armour Men's Renegade D Mid Football Cl       Soccer\n",
       "3          4  Under Armour Men's Renegade D Mid Football Cl       Soccer\n",
       "4          5  Riddell Youth Revolution Speed Custom Footbal       Soccer"
      ]
     },
     "execution_count": 26,
     "metadata": {},
     "output_type": "execute_result"
    }
   ],
   "source": [
    "cat_products = products.join(categories, products['productCategoryId'] == categories['categoryId']) \\\n",
    "                       .select(\"productId\",\"productName\", \"categoryName\")\n",
    "\n",
    "cat_products.limit(5).toPandas().head()"
   ]
  },
  {
   "cell_type": "code",
   "execution_count": 27,
   "id": "f3f1c365-007d-4b99-a22c-436e7a3caff3",
   "metadata": {
    "tags": []
   },
   "outputs": [
    {
     "data": {
      "text/html": [
       "<div>\n",
       "<style scoped>\n",
       "    .dataframe tbody tr th:only-of-type {\n",
       "        vertical-align: middle;\n",
       "    }\n",
       "\n",
       "    .dataframe tbody tr th {\n",
       "        vertical-align: top;\n",
       "    }\n",
       "\n",
       "    .dataframe thead th {\n",
       "        text-align: right;\n",
       "    }\n",
       "</style>\n",
       "<table border=\"1\" class=\"dataframe\">\n",
       "  <thead>\n",
       "    <tr style=\"text-align: right;\">\n",
       "      <th></th>\n",
       "      <th>orderId</th>\n",
       "      <th>orderItemProductId</th>\n",
       "      <th>orderItemSubTotal</th>\n",
       "      <th>orderStatus</th>\n",
       "    </tr>\n",
       "  </thead>\n",
       "  <tbody>\n",
       "    <tr>\n",
       "      <th>0</th>\n",
       "      <td>1</td>\n",
       "      <td>957</td>\n",
       "      <td>299.98</td>\n",
       "      <td>CLOSED</td>\n",
       "    </tr>\n",
       "    <tr>\n",
       "      <th>1</th>\n",
       "      <td>2</td>\n",
       "      <td>1073</td>\n",
       "      <td>199.99</td>\n",
       "      <td>PENDING_PAYMENT</td>\n",
       "    </tr>\n",
       "    <tr>\n",
       "      <th>2</th>\n",
       "      <td>2</td>\n",
       "      <td>502</td>\n",
       "      <td>250.00</td>\n",
       "      <td>PENDING_PAYMENT</td>\n",
       "    </tr>\n",
       "    <tr>\n",
       "      <th>3</th>\n",
       "      <td>2</td>\n",
       "      <td>403</td>\n",
       "      <td>129.99</td>\n",
       "      <td>PENDING_PAYMENT</td>\n",
       "    </tr>\n",
       "    <tr>\n",
       "      <th>4</th>\n",
       "      <td>4</td>\n",
       "      <td>897</td>\n",
       "      <td>49.98</td>\n",
       "      <td>CLOSED</td>\n",
       "    </tr>\n",
       "  </tbody>\n",
       "</table>\n",
       "</div>"
      ],
      "text/plain": [
       "   orderId  orderItemProductId  orderItemSubTotal      orderStatus\n",
       "0        1                 957             299.98           CLOSED\n",
       "1        2                1073             199.99  PENDING_PAYMENT\n",
       "2        2                 502             250.00  PENDING_PAYMENT\n",
       "3        2                 403             129.99  PENDING_PAYMENT\n",
       "4        4                 897              49.98           CLOSED"
      ]
     },
     "execution_count": 27,
     "metadata": {},
     "output_type": "execute_result"
    }
   ],
   "source": [
    "orders_and_items = order_items.join(orders, order_items['orderItemOrderId'] == orders['orderId']) \\\n",
    "                              .select(\"orderId\",\"orderItemProductId\",\"orderItemSubTotal\",\"orderStatus\")\n",
    "\n",
    "orders_and_items.limit(5).toPandas().head()"
   ]
  },
  {
   "cell_type": "code",
   "execution_count": 28,
   "id": "2ffff74c-b4c3-42ed-ae8f-f8e9e6cab0a0",
   "metadata": {
    "tags": []
   },
   "outputs": [
    {
     "name": "stderr",
     "output_type": "stream",
     "text": [
      "                                                                                \r"
     ]
    },
    {
     "data": {
      "text/html": [
       "<div>\n",
       "<style scoped>\n",
       "    .dataframe tbody tr th:only-of-type {\n",
       "        vertical-align: middle;\n",
       "    }\n",
       "\n",
       "    .dataframe tbody tr th {\n",
       "        vertical-align: top;\n",
       "    }\n",
       "\n",
       "    .dataframe thead th {\n",
       "        text-align: right;\n",
       "    }\n",
       "</style>\n",
       "<table border=\"1\" class=\"dataframe\">\n",
       "  <thead>\n",
       "    <tr style=\"text-align: right;\">\n",
       "      <th></th>\n",
       "      <th>orderId</th>\n",
       "      <th>orderItemProductId</th>\n",
       "      <th>orderItemSubTotal</th>\n",
       "      <th>orderStatus</th>\n",
       "      <th>productId</th>\n",
       "      <th>productName</th>\n",
       "      <th>categoryName</th>\n",
       "    </tr>\n",
       "  </thead>\n",
       "  <tbody>\n",
       "    <tr>\n",
       "      <th>0</th>\n",
       "      <td>57760</td>\n",
       "      <td>858</td>\n",
       "      <td>199.99</td>\n",
       "      <td>PENDING_PAYMENT</td>\n",
       "      <td>858</td>\n",
       "      <td>GolfBuddy VT3 GPS Watch</td>\n",
       "      <td>Kids' Golf Clubs</td>\n",
       "    </tr>\n",
       "    <tr>\n",
       "      <th>1</th>\n",
       "      <td>57847</td>\n",
       "      <td>858</td>\n",
       "      <td>199.99</td>\n",
       "      <td>COMPLETE</td>\n",
       "      <td>858</td>\n",
       "      <td>GolfBuddy VT3 GPS Watch</td>\n",
       "      <td>Kids' Golf Clubs</td>\n",
       "    </tr>\n",
       "    <tr>\n",
       "      <th>2</th>\n",
       "      <td>58071</td>\n",
       "      <td>858</td>\n",
       "      <td>199.99</td>\n",
       "      <td>PENDING</td>\n",
       "      <td>858</td>\n",
       "      <td>GolfBuddy VT3 GPS Watch</td>\n",
       "      <td>Kids' Golf Clubs</td>\n",
       "    </tr>\n",
       "    <tr>\n",
       "      <th>3</th>\n",
       "      <td>58170</td>\n",
       "      <td>858</td>\n",
       "      <td>199.99</td>\n",
       "      <td>PENDING</td>\n",
       "      <td>858</td>\n",
       "      <td>GolfBuddy VT3 GPS Watch</td>\n",
       "      <td>Kids' Golf Clubs</td>\n",
       "    </tr>\n",
       "    <tr>\n",
       "      <th>4</th>\n",
       "      <td>58585</td>\n",
       "      <td>858</td>\n",
       "      <td>199.99</td>\n",
       "      <td>CANCELED</td>\n",
       "      <td>858</td>\n",
       "      <td>GolfBuddy VT3 GPS Watch</td>\n",
       "      <td>Kids' Golf Clubs</td>\n",
       "    </tr>\n",
       "    <tr>\n",
       "      <th>5</th>\n",
       "      <td>58589</td>\n",
       "      <td>858</td>\n",
       "      <td>199.99</td>\n",
       "      <td>COMPLETE</td>\n",
       "      <td>858</td>\n",
       "      <td>GolfBuddy VT3 GPS Watch</td>\n",
       "      <td>Kids' Golf Clubs</td>\n",
       "    </tr>\n",
       "    <tr>\n",
       "      <th>6</th>\n",
       "      <td>58695</td>\n",
       "      <td>858</td>\n",
       "      <td>199.99</td>\n",
       "      <td>COMPLETE</td>\n",
       "      <td>858</td>\n",
       "      <td>GolfBuddy VT3 GPS Watch</td>\n",
       "      <td>Kids' Golf Clubs</td>\n",
       "    </tr>\n",
       "    <tr>\n",
       "      <th>7</th>\n",
       "      <td>58774</td>\n",
       "      <td>858</td>\n",
       "      <td>199.99</td>\n",
       "      <td>PENDING</td>\n",
       "      <td>858</td>\n",
       "      <td>GolfBuddy VT3 GPS Watch</td>\n",
       "      <td>Kids' Golf Clubs</td>\n",
       "    </tr>\n",
       "    <tr>\n",
       "      <th>8</th>\n",
       "      <td>58797</td>\n",
       "      <td>858</td>\n",
       "      <td>199.99</td>\n",
       "      <td>COMPLETE</td>\n",
       "      <td>858</td>\n",
       "      <td>GolfBuddy VT3 GPS Watch</td>\n",
       "      <td>Kids' Golf Clubs</td>\n",
       "    </tr>\n",
       "    <tr>\n",
       "      <th>9</th>\n",
       "      <td>58926</td>\n",
       "      <td>858</td>\n",
       "      <td>199.99</td>\n",
       "      <td>PENDING_PAYMENT</td>\n",
       "      <td>858</td>\n",
       "      <td>GolfBuddy VT3 GPS Watch</td>\n",
       "      <td>Kids' Golf Clubs</td>\n",
       "    </tr>\n",
       "    <tr>\n",
       "      <th>10</th>\n",
       "      <td>59169</td>\n",
       "      <td>858</td>\n",
       "      <td>199.99</td>\n",
       "      <td>PROCESSING</td>\n",
       "      <td>858</td>\n",
       "      <td>GolfBuddy VT3 GPS Watch</td>\n",
       "      <td>Kids' Golf Clubs</td>\n",
       "    </tr>\n",
       "    <tr>\n",
       "      <th>11</th>\n",
       "      <td>59273</td>\n",
       "      <td>858</td>\n",
       "      <td>199.99</td>\n",
       "      <td>PROCESSING</td>\n",
       "      <td>858</td>\n",
       "      <td>GolfBuddy VT3 GPS Watch</td>\n",
       "      <td>Kids' Golf Clubs</td>\n",
       "    </tr>\n",
       "    <tr>\n",
       "      <th>12</th>\n",
       "      <td>59542</td>\n",
       "      <td>858</td>\n",
       "      <td>199.99</td>\n",
       "      <td>PENDING</td>\n",
       "      <td>858</td>\n",
       "      <td>GolfBuddy VT3 GPS Watch</td>\n",
       "      <td>Kids' Golf Clubs</td>\n",
       "    </tr>\n",
       "    <tr>\n",
       "      <th>13</th>\n",
       "      <td>59893</td>\n",
       "      <td>858</td>\n",
       "      <td>199.99</td>\n",
       "      <td>PENDING_PAYMENT</td>\n",
       "      <td>858</td>\n",
       "      <td>GolfBuddy VT3 GPS Watch</td>\n",
       "      <td>Kids' Golf Clubs</td>\n",
       "    </tr>\n",
       "    <tr>\n",
       "      <th>14</th>\n",
       "      <td>60113</td>\n",
       "      <td>858</td>\n",
       "      <td>199.99</td>\n",
       "      <td>COMPLETE</td>\n",
       "      <td>858</td>\n",
       "      <td>GolfBuddy VT3 GPS Watch</td>\n",
       "      <td>Kids' Golf Clubs</td>\n",
       "    </tr>\n",
       "    <tr>\n",
       "      <th>15</th>\n",
       "      <td>60276</td>\n",
       "      <td>858</td>\n",
       "      <td>199.99</td>\n",
       "      <td>COMPLETE</td>\n",
       "      <td>858</td>\n",
       "      <td>GolfBuddy VT3 GPS Watch</td>\n",
       "      <td>Kids' Golf Clubs</td>\n",
       "    </tr>\n",
       "    <tr>\n",
       "      <th>16</th>\n",
       "      <td>60373</td>\n",
       "      <td>858</td>\n",
       "      <td>199.99</td>\n",
       "      <td>PENDING_PAYMENT</td>\n",
       "      <td>858</td>\n",
       "      <td>GolfBuddy VT3 GPS Watch</td>\n",
       "      <td>Kids' Golf Clubs</td>\n",
       "    </tr>\n",
       "    <tr>\n",
       "      <th>17</th>\n",
       "      <td>60616</td>\n",
       "      <td>858</td>\n",
       "      <td>199.99</td>\n",
       "      <td>COMPLETE</td>\n",
       "      <td>858</td>\n",
       "      <td>GolfBuddy VT3 GPS Watch</td>\n",
       "      <td>Kids' Golf Clubs</td>\n",
       "    </tr>\n",
       "    <tr>\n",
       "      <th>18</th>\n",
       "      <td>60716</td>\n",
       "      <td>858</td>\n",
       "      <td>199.99</td>\n",
       "      <td>PENDING_PAYMENT</td>\n",
       "      <td>858</td>\n",
       "      <td>GolfBuddy VT3 GPS Watch</td>\n",
       "      <td>Kids' Golf Clubs</td>\n",
       "    </tr>\n",
       "    <tr>\n",
       "      <th>19</th>\n",
       "      <td>61231</td>\n",
       "      <td>858</td>\n",
       "      <td>199.99</td>\n",
       "      <td>PROCESSING</td>\n",
       "      <td>858</td>\n",
       "      <td>GolfBuddy VT3 GPS Watch</td>\n",
       "      <td>Kids' Golf Clubs</td>\n",
       "    </tr>\n",
       "    <tr>\n",
       "      <th>20</th>\n",
       "      <td>61437</td>\n",
       "      <td>858</td>\n",
       "      <td>199.99</td>\n",
       "      <td>CLOSED</td>\n",
       "      <td>858</td>\n",
       "      <td>GolfBuddy VT3 GPS Watch</td>\n",
       "      <td>Kids' Golf Clubs</td>\n",
       "    </tr>\n",
       "    <tr>\n",
       "      <th>21</th>\n",
       "      <td>61562</td>\n",
       "      <td>858</td>\n",
       "      <td>199.99</td>\n",
       "      <td>PROCESSING</td>\n",
       "      <td>858</td>\n",
       "      <td>GolfBuddy VT3 GPS Watch</td>\n",
       "      <td>Kids' Golf Clubs</td>\n",
       "    </tr>\n",
       "    <tr>\n",
       "      <th>22</th>\n",
       "      <td>61963</td>\n",
       "      <td>858</td>\n",
       "      <td>199.99</td>\n",
       "      <td>PENDING_PAYMENT</td>\n",
       "      <td>858</td>\n",
       "      <td>GolfBuddy VT3 GPS Watch</td>\n",
       "      <td>Kids' Golf Clubs</td>\n",
       "    </tr>\n",
       "    <tr>\n",
       "      <th>23</th>\n",
       "      <td>62122</td>\n",
       "      <td>858</td>\n",
       "      <td>199.99</td>\n",
       "      <td>COMPLETE</td>\n",
       "      <td>858</td>\n",
       "      <td>GolfBuddy VT3 GPS Watch</td>\n",
       "      <td>Kids' Golf Clubs</td>\n",
       "    </tr>\n",
       "    <tr>\n",
       "      <th>24</th>\n",
       "      <td>62252</td>\n",
       "      <td>858</td>\n",
       "      <td>199.99</td>\n",
       "      <td>PROCESSING</td>\n",
       "      <td>858</td>\n",
       "      <td>GolfBuddy VT3 GPS Watch</td>\n",
       "      <td>Kids' Golf Clubs</td>\n",
       "    </tr>\n",
       "  </tbody>\n",
       "</table>\n",
       "</div>"
      ],
      "text/plain": [
       "    orderId  orderItemProductId  orderItemSubTotal      orderStatus  \\\n",
       "0     57760                 858             199.99  PENDING_PAYMENT   \n",
       "1     57847                 858             199.99         COMPLETE   \n",
       "2     58071                 858             199.99          PENDING   \n",
       "3     58170                 858             199.99          PENDING   \n",
       "4     58585                 858             199.99         CANCELED   \n",
       "5     58589                 858             199.99         COMPLETE   \n",
       "6     58695                 858             199.99         COMPLETE   \n",
       "7     58774                 858             199.99          PENDING   \n",
       "8     58797                 858             199.99         COMPLETE   \n",
       "9     58926                 858             199.99  PENDING_PAYMENT   \n",
       "10    59169                 858             199.99       PROCESSING   \n",
       "11    59273                 858             199.99       PROCESSING   \n",
       "12    59542                 858             199.99          PENDING   \n",
       "13    59893                 858             199.99  PENDING_PAYMENT   \n",
       "14    60113                 858             199.99         COMPLETE   \n",
       "15    60276                 858             199.99         COMPLETE   \n",
       "16    60373                 858             199.99  PENDING_PAYMENT   \n",
       "17    60616                 858             199.99         COMPLETE   \n",
       "18    60716                 858             199.99  PENDING_PAYMENT   \n",
       "19    61231                 858             199.99       PROCESSING   \n",
       "20    61437                 858             199.99           CLOSED   \n",
       "21    61562                 858             199.99       PROCESSING   \n",
       "22    61963                 858             199.99  PENDING_PAYMENT   \n",
       "23    62122                 858             199.99         COMPLETE   \n",
       "24    62252                 858             199.99       PROCESSING   \n",
       "\n",
       "    productId              productName      categoryName  \n",
       "0         858  GolfBuddy VT3 GPS Watch  Kids' Golf Clubs  \n",
       "1         858  GolfBuddy VT3 GPS Watch  Kids' Golf Clubs  \n",
       "2         858  GolfBuddy VT3 GPS Watch  Kids' Golf Clubs  \n",
       "3         858  GolfBuddy VT3 GPS Watch  Kids' Golf Clubs  \n",
       "4         858  GolfBuddy VT3 GPS Watch  Kids' Golf Clubs  \n",
       "5         858  GolfBuddy VT3 GPS Watch  Kids' Golf Clubs  \n",
       "6         858  GolfBuddy VT3 GPS Watch  Kids' Golf Clubs  \n",
       "7         858  GolfBuddy VT3 GPS Watch  Kids' Golf Clubs  \n",
       "8         858  GolfBuddy VT3 GPS Watch  Kids' Golf Clubs  \n",
       "9         858  GolfBuddy VT3 GPS Watch  Kids' Golf Clubs  \n",
       "10        858  GolfBuddy VT3 GPS Watch  Kids' Golf Clubs  \n",
       "11        858  GolfBuddy VT3 GPS Watch  Kids' Golf Clubs  \n",
       "12        858  GolfBuddy VT3 GPS Watch  Kids' Golf Clubs  \n",
       "13        858  GolfBuddy VT3 GPS Watch  Kids' Golf Clubs  \n",
       "14        858  GolfBuddy VT3 GPS Watch  Kids' Golf Clubs  \n",
       "15        858  GolfBuddy VT3 GPS Watch  Kids' Golf Clubs  \n",
       "16        858  GolfBuddy VT3 GPS Watch  Kids' Golf Clubs  \n",
       "17        858  GolfBuddy VT3 GPS Watch  Kids' Golf Clubs  \n",
       "18        858  GolfBuddy VT3 GPS Watch  Kids' Golf Clubs  \n",
       "19        858  GolfBuddy VT3 GPS Watch  Kids' Golf Clubs  \n",
       "20        858  GolfBuddy VT3 GPS Watch  Kids' Golf Clubs  \n",
       "21        858  GolfBuddy VT3 GPS Watch  Kids' Golf Clubs  \n",
       "22        858  GolfBuddy VT3 GPS Watch  Kids' Golf Clubs  \n",
       "23        858  GolfBuddy VT3 GPS Watch  Kids' Golf Clubs  \n",
       "24        858  GolfBuddy VT3 GPS Watch  Kids' Golf Clubs  "
      ]
     },
     "execution_count": 28,
     "metadata": {},
     "output_type": "execute_result"
    }
   ],
   "source": [
    "cancelled_table = orders_and_items.join(cat_products, orders_and_items['orderItemProductId'] == cat_products['productId'])\n",
    "\n",
    "cancelled_table.limit(25).toPandas().head(25)"
   ]
  },
  {
   "cell_type": "code",
   "execution_count": 30,
   "id": "0dde233f-c9ee-4d7b-9a48-75adeda9f50f",
   "metadata": {
    "tags": []
   },
   "outputs": [
    {
     "name": "stderr",
     "output_type": "stream",
     "text": [
      "                                                                                \r"
     ]
    },
    {
     "data": {
      "text/html": [
       "<div>\n",
       "<style scoped>\n",
       "    .dataframe tbody tr th:only-of-type {\n",
       "        vertical-align: middle;\n",
       "    }\n",
       "\n",
       "    .dataframe tbody tr th {\n",
       "        vertical-align: top;\n",
       "    }\n",
       "\n",
       "    .dataframe thead th {\n",
       "        text-align: right;\n",
       "    }\n",
       "</style>\n",
       "<table border=\"1\" class=\"dataframe\">\n",
       "  <thead>\n",
       "    <tr style=\"text-align: right;\">\n",
       "      <th></th>\n",
       "      <th>productName</th>\n",
       "      <th>Totalprice</th>\n",
       "    </tr>\n",
       "  </thead>\n",
       "  <tbody>\n",
       "    <tr>\n",
       "      <th>0</th>\n",
       "      <td>Field &amp; Stream Sportsman 16 Gun Fire Safe</td>\n",
       "      <td>134393.28</td>\n",
       "    </tr>\n",
       "    <tr>\n",
       "      <th>1</th>\n",
       "      <td>Perfect Fitness Perfect Rip Deck</td>\n",
       "      <td>85785.70</td>\n",
       "    </tr>\n",
       "    <tr>\n",
       "      <th>2</th>\n",
       "      <td>Nike Men's Free 5.0+ Running Shoe</td>\n",
       "      <td>80691.93</td>\n",
       "    </tr>\n",
       "    <tr>\n",
       "      <th>3</th>\n",
       "      <td>Diamondback Women's Serene Classic Comfort Bi</td>\n",
       "      <td>80094.66</td>\n",
       "    </tr>\n",
       "    <tr>\n",
       "      <th>4</th>\n",
       "      <td>Pelican Sunstream 100 Kayak</td>\n",
       "      <td>66196.69</td>\n",
       "    </tr>\n",
       "    <tr>\n",
       "      <th>5</th>\n",
       "      <td>Nike Men's Dri-FIT Victory Golf Polo</td>\n",
       "      <td>65750.00</td>\n",
       "    </tr>\n",
       "    <tr>\n",
       "      <th>6</th>\n",
       "      <td>Nike Men's CJ Elite 2 TD Football Cleat</td>\n",
       "      <td>60705.33</td>\n",
       "    </tr>\n",
       "    <tr>\n",
       "      <th>7</th>\n",
       "      <td>O'Brien Men's Neoprene Life Vest</td>\n",
       "      <td>58126.74</td>\n",
       "    </tr>\n",
       "    <tr>\n",
       "      <th>8</th>\n",
       "      <td>Under Armour Girls' Toddler Spine Surge Runni</td>\n",
       "      <td>26153.46</td>\n",
       "    </tr>\n",
       "    <tr>\n",
       "      <th>9</th>\n",
       "      <td>LIJA Women's Eyelet Sleeveless Golf Polo</td>\n",
       "      <td>2145.00</td>\n",
       "    </tr>\n",
       "  </tbody>\n",
       "</table>\n",
       "</div>"
      ],
      "text/plain": [
       "                                     productName  Totalprice\n",
       "0      Field & Stream Sportsman 16 Gun Fire Safe   134393.28\n",
       "1               Perfect Fitness Perfect Rip Deck    85785.70\n",
       "2              Nike Men's Free 5.0+ Running Shoe    80691.93\n",
       "3  Diamondback Women's Serene Classic Comfort Bi    80094.66\n",
       "4                    Pelican Sunstream 100 Kayak    66196.69\n",
       "5           Nike Men's Dri-FIT Victory Golf Polo    65750.00\n",
       "6        Nike Men's CJ Elite 2 TD Football Cleat    60705.33\n",
       "7               O'Brien Men's Neoprene Life Vest    58126.74\n",
       "8  Under Armour Girls' Toddler Spine Surge Runni    26153.46\n",
       "9       LIJA Women's Eyelet Sleeveless Golf Polo     2145.00"
      ]
     },
     "execution_count": 30,
     "metadata": {},
     "output_type": "execute_result"
    }
   ],
   "source": [
    "most_cancelled_products = cancelled_table.filter(\"orderStatus == 'CANCELED'\") \\\n",
    "                                         .groupBy(\"productName\").agg(F.sum(\"orderItemSubTotal\").alias(\"Totalprice\")) \\\n",
    "                                         .orderBy(F.desc(\"TotalPrice\"))\n",
    "\n",
    "most_cancelled_products.limit(10).toPandas().head(10)"
   ]
  },
  {
   "cell_type": "code",
   "execution_count": 65,
   "id": "1c735ff8-7c66-42a7-9597-35e6b9d8b33b",
   "metadata": {
    "tags": []
   },
   "outputs": [],
   "source": [
    "output_path = \"file:///home/train/pyspark_output_data\""
   ]
  },
  {
   "cell_type": "code",
   "execution_count": 66,
   "id": "3137429e-fa97-45be-a4b3-4dc63da0a833",
   "metadata": {
    "tags": []
   },
   "outputs": [
    {
     "data": {
      "text/html": [
       "<div>\n",
       "<style scoped>\n",
       "    .dataframe tbody tr th:only-of-type {\n",
       "        vertical-align: middle;\n",
       "    }\n",
       "\n",
       "    .dataframe tbody tr th {\n",
       "        vertical-align: top;\n",
       "    }\n",
       "\n",
       "    .dataframe thead th {\n",
       "        text-align: right;\n",
       "    }\n",
       "</style>\n",
       "<table border=\"1\" class=\"dataframe\">\n",
       "  <thead>\n",
       "    <tr style=\"text-align: right;\">\n",
       "      <th></th>\n",
       "      <th>productName</th>\n",
       "      <th>Totalprice</th>\n",
       "    </tr>\n",
       "  </thead>\n",
       "  <tbody>\n",
       "    <tr>\n",
       "      <th>0</th>\n",
       "      <td>Field &amp; Stream Sportsman 16 Gun Fire Safe</td>\n",
       "      <td>134393.28</td>\n",
       "    </tr>\n",
       "    <tr>\n",
       "      <th>1</th>\n",
       "      <td>Perfect Fitness Perfect Rip Deck</td>\n",
       "      <td>85785.70</td>\n",
       "    </tr>\n",
       "    <tr>\n",
       "      <th>2</th>\n",
       "      <td>Nike Men's Free 5.0+ Running Shoe</td>\n",
       "      <td>80691.93</td>\n",
       "    </tr>\n",
       "    <tr>\n",
       "      <th>3</th>\n",
       "      <td>Diamondback Women's Serene Classic Comfort Bi</td>\n",
       "      <td>80094.66</td>\n",
       "    </tr>\n",
       "    <tr>\n",
       "      <th>4</th>\n",
       "      <td>Pelican Sunstream 100 Kayak</td>\n",
       "      <td>66196.69</td>\n",
       "    </tr>\n",
       "    <tr>\n",
       "      <th>5</th>\n",
       "      <td>Nike Men's Dri-FIT Victory Golf Polo</td>\n",
       "      <td>65750.00</td>\n",
       "    </tr>\n",
       "    <tr>\n",
       "      <th>6</th>\n",
       "      <td>Nike Men's CJ Elite 2 TD Football Cleat</td>\n",
       "      <td>60705.33</td>\n",
       "    </tr>\n",
       "    <tr>\n",
       "      <th>7</th>\n",
       "      <td>O'Brien Men's Neoprene Life Vest</td>\n",
       "      <td>58126.74</td>\n",
       "    </tr>\n",
       "    <tr>\n",
       "      <th>8</th>\n",
       "      <td>Under Armour Girls' Toddler Spine Surge Runni</td>\n",
       "      <td>26153.46</td>\n",
       "    </tr>\n",
       "    <tr>\n",
       "      <th>9</th>\n",
       "      <td>LIJA Women's Eyelet Sleeveless Golf Polo</td>\n",
       "      <td>2145.00</td>\n",
       "    </tr>\n",
       "  </tbody>\n",
       "</table>\n",
       "</div>"
      ],
      "text/plain": [
       "                                     productName  Totalprice\n",
       "0      Field & Stream Sportsman 16 Gun Fire Safe   134393.28\n",
       "1               Perfect Fitness Perfect Rip Deck    85785.70\n",
       "2              Nike Men's Free 5.0+ Running Shoe    80691.93\n",
       "3  Diamondback Women's Serene Classic Comfort Bi    80094.66\n",
       "4                    Pelican Sunstream 100 Kayak    66196.69\n",
       "5           Nike Men's Dri-FIT Victory Golf Polo    65750.00\n",
       "6        Nike Men's CJ Elite 2 TD Football Cleat    60705.33\n",
       "7               O'Brien Men's Neoprene Life Vest    58126.74\n",
       "8  Under Armour Girls' Toddler Spine Surge Runni    26153.46\n",
       "9       LIJA Women's Eyelet Sleeveless Golf Polo     2145.00"
      ]
     },
     "execution_count": 66,
     "metadata": {},
     "output_type": "execute_result"
    }
   ],
   "source": [
    "spark.read.parquet(output_path+\"/most_cancelled_products_parquet\") \\\n",
    ".limit(10).toPandas().head(10)"
   ]
  },
  {
   "cell_type": "code",
   "execution_count": 31,
   "id": "5b968dc9-6d87-4847-bccf-0f010a390bc4",
   "metadata": {},
   "outputs": [],
   "source": [
    "# Q4. \n",
    "\n",
    "# In which month of which year (in Turkish) was the highest total sales?\n"
   ]
  },
  {
   "cell_type": "code",
   "execution_count": null,
   "id": "773c36fc-2df2-49d6-bb72-380ad06c826f",
   "metadata": {},
   "outputs": [],
   "source": [
    "# Step 1. I will join date of order_items and orders.\n",
    "\n",
    "# Step 2. I will replace date format."
   ]
  },
  {
   "cell_type": "code",
   "execution_count": 32,
   "id": "0e9bba8b-3595-4ea0-aa70-5a4dff35fad8",
   "metadata": {
    "tags": []
   },
   "outputs": [
    {
     "data": {
      "text/html": [
       "<div>\n",
       "<style scoped>\n",
       "    .dataframe tbody tr th:only-of-type {\n",
       "        vertical-align: middle;\n",
       "    }\n",
       "\n",
       "    .dataframe tbody tr th {\n",
       "        vertical-align: top;\n",
       "    }\n",
       "\n",
       "    .dataframe thead th {\n",
       "        text-align: right;\n",
       "    }\n",
       "</style>\n",
       "<table border=\"1\" class=\"dataframe\">\n",
       "  <thead>\n",
       "    <tr style=\"text-align: right;\">\n",
       "      <th></th>\n",
       "      <th>orderId</th>\n",
       "      <th>orderItemProductId</th>\n",
       "      <th>orderItemSubTotal</th>\n",
       "      <th>orderStatus</th>\n",
       "      <th>orderDate</th>\n",
       "    </tr>\n",
       "  </thead>\n",
       "  <tbody>\n",
       "    <tr>\n",
       "      <th>0</th>\n",
       "      <td>1</td>\n",
       "      <td>957</td>\n",
       "      <td>299.98</td>\n",
       "      <td>CLOSED</td>\n",
       "      <td>2013-07-25 00:00:00.0</td>\n",
       "    </tr>\n",
       "    <tr>\n",
       "      <th>1</th>\n",
       "      <td>2</td>\n",
       "      <td>1073</td>\n",
       "      <td>199.99</td>\n",
       "      <td>PENDING_PAYMENT</td>\n",
       "      <td>2013-07-25 00:00:00.0</td>\n",
       "    </tr>\n",
       "    <tr>\n",
       "      <th>2</th>\n",
       "      <td>2</td>\n",
       "      <td>502</td>\n",
       "      <td>250.00</td>\n",
       "      <td>PENDING_PAYMENT</td>\n",
       "      <td>2013-07-25 00:00:00.0</td>\n",
       "    </tr>\n",
       "    <tr>\n",
       "      <th>3</th>\n",
       "      <td>2</td>\n",
       "      <td>403</td>\n",
       "      <td>129.99</td>\n",
       "      <td>PENDING_PAYMENT</td>\n",
       "      <td>2013-07-25 00:00:00.0</td>\n",
       "    </tr>\n",
       "    <tr>\n",
       "      <th>4</th>\n",
       "      <td>4</td>\n",
       "      <td>897</td>\n",
       "      <td>49.98</td>\n",
       "      <td>CLOSED</td>\n",
       "      <td>2013-07-25 00:00:00.0</td>\n",
       "    </tr>\n",
       "  </tbody>\n",
       "</table>\n",
       "</div>"
      ],
      "text/plain": [
       "   orderId  orderItemProductId  orderItemSubTotal      orderStatus  \\\n",
       "0        1                 957             299.98           CLOSED   \n",
       "1        2                1073             199.99  PENDING_PAYMENT   \n",
       "2        2                 502             250.00  PENDING_PAYMENT   \n",
       "3        2                 403             129.99  PENDING_PAYMENT   \n",
       "4        4                 897              49.98           CLOSED   \n",
       "\n",
       "               orderDate  \n",
       "0  2013-07-25 00:00:00.0  \n",
       "1  2013-07-25 00:00:00.0  \n",
       "2  2013-07-25 00:00:00.0  \n",
       "3  2013-07-25 00:00:00.0  \n",
       "4  2013-07-25 00:00:00.0  "
      ]
     },
     "execution_count": 32,
     "metadata": {},
     "output_type": "execute_result"
    }
   ],
   "source": [
    "orders_and_items_date = order_items.join(orders, order_items['orderItemOrderId'] == orders['orderId']) \\\n",
    "                                   .select(\"orderId\",\"orderItemProductId\",\"orderItemSubTotal\",\"orderStatus\",\"orderDate\")\n",
    "\n",
    "orders_and_items_date.limit(5).toPandas().head()"
   ]
  },
  {
   "cell_type": "code",
   "execution_count": 35,
   "id": "62cc2eb1-b0ed-4f4a-989f-22abb211690d",
   "metadata": {
    "tags": []
   },
   "outputs": [
    {
     "data": {
      "text/html": [
       "<div>\n",
       "<style scoped>\n",
       "    .dataframe tbody tr th:only-of-type {\n",
       "        vertical-align: middle;\n",
       "    }\n",
       "\n",
       "    .dataframe tbody tr th {\n",
       "        vertical-align: top;\n",
       "    }\n",
       "\n",
       "    .dataframe thead th {\n",
       "        text-align: right;\n",
       "    }\n",
       "</style>\n",
       "<table border=\"1\" class=\"dataframe\">\n",
       "  <thead>\n",
       "    <tr style=\"text-align: right;\">\n",
       "      <th></th>\n",
       "      <th>orderId</th>\n",
       "      <th>orderItemProductId</th>\n",
       "      <th>orderItemSubTotal</th>\n",
       "      <th>orderStatus</th>\n",
       "      <th>orderDate</th>\n",
       "      <th>Year</th>\n",
       "      <th>Month</th>\n",
       "    </tr>\n",
       "  </thead>\n",
       "  <tbody>\n",
       "    <tr>\n",
       "      <th>0</th>\n",
       "      <td>1</td>\n",
       "      <td>957</td>\n",
       "      <td>299.98</td>\n",
       "      <td>CLOSED</td>\n",
       "      <td>2013-07-25</td>\n",
       "      <td>2013</td>\n",
       "      <td>7</td>\n",
       "    </tr>\n",
       "    <tr>\n",
       "      <th>1</th>\n",
       "      <td>2</td>\n",
       "      <td>1073</td>\n",
       "      <td>199.99</td>\n",
       "      <td>PENDING_PAYMENT</td>\n",
       "      <td>2013-07-25</td>\n",
       "      <td>2013</td>\n",
       "      <td>7</td>\n",
       "    </tr>\n",
       "    <tr>\n",
       "      <th>2</th>\n",
       "      <td>2</td>\n",
       "      <td>502</td>\n",
       "      <td>250.00</td>\n",
       "      <td>PENDING_PAYMENT</td>\n",
       "      <td>2013-07-25</td>\n",
       "      <td>2013</td>\n",
       "      <td>7</td>\n",
       "    </tr>\n",
       "    <tr>\n",
       "      <th>3</th>\n",
       "      <td>2</td>\n",
       "      <td>403</td>\n",
       "      <td>129.99</td>\n",
       "      <td>PENDING_PAYMENT</td>\n",
       "      <td>2013-07-25</td>\n",
       "      <td>2013</td>\n",
       "      <td>7</td>\n",
       "    </tr>\n",
       "    <tr>\n",
       "      <th>4</th>\n",
       "      <td>4</td>\n",
       "      <td>897</td>\n",
       "      <td>49.98</td>\n",
       "      <td>CLOSED</td>\n",
       "      <td>2013-07-25</td>\n",
       "      <td>2013</td>\n",
       "      <td>7</td>\n",
       "    </tr>\n",
       "  </tbody>\n",
       "</table>\n",
       "</div>"
      ],
      "text/plain": [
       "   orderId  orderItemProductId  orderItemSubTotal      orderStatus  orderDate  \\\n",
       "0        1                 957             299.98           CLOSED 2013-07-25   \n",
       "1        2                1073             199.99  PENDING_PAYMENT 2013-07-25   \n",
       "2        2                 502             250.00  PENDING_PAYMENT 2013-07-25   \n",
       "3        2                 403             129.99  PENDING_PAYMENT 2013-07-25   \n",
       "4        4                 897              49.98           CLOSED 2013-07-25   \n",
       "\n",
       "   Year  Month  \n",
       "0  2013      7  \n",
       "1  2013      7  \n",
       "2  2013      7  \n",
       "3  2013      7  \n",
       "4  2013      7  "
      ]
     },
     "execution_count": 35,
     "metadata": {},
     "output_type": "execute_result"
    }
   ],
   "source": [
    "df_year_and_month = orders_and_items_date.withColumn(\"orderDate\", \n",
    "                                        F.to_timestamp(F.col(\"orderDate\"), \"yyyy-MM-dd HH:mm:ss.S\")) \\\n",
    "                                         .withColumn(\"Year\", F.year(F.col(\"orderDate\"))) \\\n",
    "                                         .withColumn(\"Month\", F.month(F.col(\"orderDate\")))\n",
    "\n",
    "df_year_and_month.limit(5).toPandas()"
   ]
  },
  {
   "cell_type": "code",
   "execution_count": 67,
   "id": "6f768fc2-49b5-49e3-822d-fbdff911ced9",
   "metadata": {
    "tags": []
   },
   "outputs": [
    {
     "name": "stderr",
     "output_type": "stream",
     "text": [
      "                                                                                \r"
     ]
    },
    {
     "data": {
      "text/html": [
       "<div>\n",
       "<style scoped>\n",
       "    .dataframe tbody tr th:only-of-type {\n",
       "        vertical-align: middle;\n",
       "    }\n",
       "\n",
       "    .dataframe tbody tr th {\n",
       "        vertical-align: top;\n",
       "    }\n",
       "\n",
       "    .dataframe thead th {\n",
       "        text-align: right;\n",
       "    }\n",
       "</style>\n",
       "<table border=\"1\" class=\"dataframe\">\n",
       "  <thead>\n",
       "    <tr style=\"text-align: right;\">\n",
       "      <th></th>\n",
       "      <th>Year</th>\n",
       "      <th>Month</th>\n",
       "      <th>Sum_SubTotal</th>\n",
       "    </tr>\n",
       "  </thead>\n",
       "  <tbody>\n",
       "    <tr>\n",
       "      <th>0</th>\n",
       "      <td>2013</td>\n",
       "      <td>11</td>\n",
       "      <td>3105843.27</td>\n",
       "    </tr>\n",
       "    <tr>\n",
       "      <th>1</th>\n",
       "      <td>2014</td>\n",
       "      <td>1</td>\n",
       "      <td>2870834.18</td>\n",
       "    </tr>\n",
       "    <tr>\n",
       "      <th>2</th>\n",
       "      <td>2013</td>\n",
       "      <td>12</td>\n",
       "      <td>2869997.88</td>\n",
       "    </tr>\n",
       "    <tr>\n",
       "      <th>3</th>\n",
       "      <td>2013</td>\n",
       "      <td>9</td>\n",
       "      <td>2866553.33</td>\n",
       "    </tr>\n",
       "    <tr>\n",
       "      <th>4</th>\n",
       "      <td>2014</td>\n",
       "      <td>3</td>\n",
       "      <td>2805006.32</td>\n",
       "    </tr>\n",
       "    <tr>\n",
       "      <th>5</th>\n",
       "      <td>2013</td>\n",
       "      <td>8</td>\n",
       "      <td>2769236.03</td>\n",
       "    </tr>\n",
       "    <tr>\n",
       "      <th>6</th>\n",
       "      <td>2014</td>\n",
       "      <td>4</td>\n",
       "      <td>2758912.47</td>\n",
       "    </tr>\n",
       "    <tr>\n",
       "      <th>7</th>\n",
       "      <td>2014</td>\n",
       "      <td>2</td>\n",
       "      <td>2712838.58</td>\n",
       "    </tr>\n",
       "    <tr>\n",
       "      <th>8</th>\n",
       "      <td>2014</td>\n",
       "      <td>5</td>\n",
       "      <td>2695699.48</td>\n",
       "    </tr>\n",
       "    <tr>\n",
       "      <th>9</th>\n",
       "      <td>2014</td>\n",
       "      <td>6</td>\n",
       "      <td>2657013.04</td>\n",
       "    </tr>\n",
       "  </tbody>\n",
       "</table>\n",
       "</div>"
      ],
      "text/plain": [
       "   Year  Month  Sum_SubTotal\n",
       "0  2013     11    3105843.27\n",
       "1  2014      1    2870834.18\n",
       "2  2013     12    2869997.88\n",
       "3  2013      9    2866553.33\n",
       "4  2014      3    2805006.32\n",
       "5  2013      8    2769236.03\n",
       "6  2014      4    2758912.47\n",
       "7  2014      2    2712838.58\n",
       "8  2014      5    2695699.48\n",
       "9  2014      6    2657013.04"
      ]
     },
     "execution_count": 67,
     "metadata": {},
     "output_type": "execute_result"
    }
   ],
   "source": [
    "df_year_and_month.filter(\"orderStatus not in ('CANCELED')\") \\\n",
    "                 .groupBy('Year','Month').agg(F.sum(\"orderItemSubTotal\").alias(\"Sum_SubTotal\")) \\\n",
    "                 .orderBy(F.desc(\"Sum_SubTotal\")) \\\n",
    "                 .limit(10).toPandas()"
   ]
  },
  {
   "cell_type": "code",
   "execution_count": 68,
   "id": "dc3a970b-9d32-4122-8ad2-cf0bf2eea453",
   "metadata": {
    "tags": []
   },
   "outputs": [
    {
     "name": "stderr",
     "output_type": "stream",
     "text": [
      "                                                                                \r"
     ]
    },
    {
     "data": {
      "text/html": [
       "<div>\n",
       "<style scoped>\n",
       "    .dataframe tbody tr th:only-of-type {\n",
       "        vertical-align: middle;\n",
       "    }\n",
       "\n",
       "    .dataframe tbody tr th {\n",
       "        vertical-align: top;\n",
       "    }\n",
       "\n",
       "    .dataframe thead th {\n",
       "        text-align: right;\n",
       "    }\n",
       "</style>\n",
       "<table border=\"1\" class=\"dataframe\">\n",
       "  <thead>\n",
       "    <tr style=\"text-align: right;\">\n",
       "      <th></th>\n",
       "      <th>Year</th>\n",
       "      <th>Month</th>\n",
       "      <th>Sum_SubTotal</th>\n",
       "    </tr>\n",
       "  </thead>\n",
       "  <tbody>\n",
       "    <tr>\n",
       "      <th>0</th>\n",
       "      <td>2013</td>\n",
       "      <td>11</td>\n",
       "      <td>3105843.27</td>\n",
       "    </tr>\n",
       "    <tr>\n",
       "      <th>1</th>\n",
       "      <td>2014</td>\n",
       "      <td>1</td>\n",
       "      <td>2870834.18</td>\n",
       "    </tr>\n",
       "    <tr>\n",
       "      <th>2</th>\n",
       "      <td>2013</td>\n",
       "      <td>12</td>\n",
       "      <td>2869997.88</td>\n",
       "    </tr>\n",
       "    <tr>\n",
       "      <th>3</th>\n",
       "      <td>2013</td>\n",
       "      <td>9</td>\n",
       "      <td>2866553.33</td>\n",
       "    </tr>\n",
       "    <tr>\n",
       "      <th>4</th>\n",
       "      <td>2014</td>\n",
       "      <td>3</td>\n",
       "      <td>2805006.32</td>\n",
       "    </tr>\n",
       "    <tr>\n",
       "      <th>5</th>\n",
       "      <td>2013</td>\n",
       "      <td>8</td>\n",
       "      <td>2769236.03</td>\n",
       "    </tr>\n",
       "    <tr>\n",
       "      <th>6</th>\n",
       "      <td>2014</td>\n",
       "      <td>4</td>\n",
       "      <td>2758912.47</td>\n",
       "    </tr>\n",
       "    <tr>\n",
       "      <th>7</th>\n",
       "      <td>2014</td>\n",
       "      <td>2</td>\n",
       "      <td>2712838.58</td>\n",
       "    </tr>\n",
       "    <tr>\n",
       "      <th>8</th>\n",
       "      <td>2014</td>\n",
       "      <td>5</td>\n",
       "      <td>2695699.48</td>\n",
       "    </tr>\n",
       "    <tr>\n",
       "      <th>9</th>\n",
       "      <td>2014</td>\n",
       "      <td>6</td>\n",
       "      <td>2657013.04</td>\n",
       "    </tr>\n",
       "  </tbody>\n",
       "</table>\n",
       "</div>"
      ],
      "text/plain": [
       "   Year  Month  Sum_SubTotal\n",
       "0  2013     11    3105843.27\n",
       "1  2014      1    2870834.18\n",
       "2  2013     12    2869997.88\n",
       "3  2013      9    2866553.33\n",
       "4  2014      3    2805006.32\n",
       "5  2013      8    2769236.03\n",
       "6  2014      4    2758912.47\n",
       "7  2014      2    2712838.58\n",
       "8  2014      5    2695699.48\n",
       "9  2014      6    2657013.04"
      ]
     },
     "execution_count": 68,
     "metadata": {},
     "output_type": "execute_result"
    }
   ],
   "source": [
    "df_year_and_month.filter(\"orderStatus not in ('CANCELED')\") \\\n",
    "                 .groupBy('Year','Month').agg(F.sum(\"orderItemSubTotal\").alias(\"Sum_SubTotal\")) \\\n",
    "                 .orderBy(F.desc(\"Sum_SubTotal\")) \\\n",
    "                 .limit(10).toPandas()"
   ]
  },
  {
   "cell_type": "code",
   "execution_count": 69,
   "id": "39101d89-1b3e-499a-ae69-cea01d289fa9",
   "metadata": {
    "tags": []
   },
   "outputs": [],
   "source": [
    "def month_to_tr(input_month):\n",
    "    month_converter = {\n",
    "        1: \"Ocak\",\n",
    "        2: \"Şubat\",\n",
    "        3: \"Mart\",\n",
    "        4: \"Nisan\",\n",
    "        5: \"Mayıs\",\n",
    "        6: \"Haziran\",\n",
    "        7: \"Temmuz\",\n",
    "        8: \"Ağustos\",\n",
    "        9: \"Eylül\",\n",
    "        10: \"Ekim\",\n",
    "        11: \"Kasım\",\n",
    "        12: \"Aralık\"\n",
    "    }\n",
    "    \n",
    "    return month_converter.get(input_month)"
   ]
  },
  {
   "cell_type": "code",
   "execution_count": 50,
   "id": "ab31f335-64e3-49a4-ad71-9b5a3d357415",
   "metadata": {
    "tags": []
   },
   "outputs": [
    {
     "data": {
      "text/plain": [
       "'Temmuz'"
      ]
     },
     "execution_count": 50,
     "metadata": {},
     "output_type": "execute_result"
    }
   ],
   "source": [
    "month_to_tr(7)"
   ]
  },
  {
   "cell_type": "code",
   "execution_count": 40,
   "id": "2fe53c77-dc88-49cb-af94-f376cd1423c5",
   "metadata": {
    "tags": []
   },
   "outputs": [],
   "source": [
    "month_to_tr_udf = spark.udf.register(\"month_to_tr_udf\", month_to_tr, StringType())"
   ]
  },
  {
   "cell_type": "code",
   "execution_count": 70,
   "id": "f3b1abd3-3bfe-48f3-a202-238f2d499ef0",
   "metadata": {
    "tags": []
   },
   "outputs": [
    {
     "name": "stderr",
     "output_type": "stream",
     "text": [
      "                                                                                \r"
     ]
    },
    {
     "data": {
      "text/html": [
       "<div>\n",
       "<style scoped>\n",
       "    .dataframe tbody tr th:only-of-type {\n",
       "        vertical-align: middle;\n",
       "    }\n",
       "\n",
       "    .dataframe tbody tr th {\n",
       "        vertical-align: top;\n",
       "    }\n",
       "\n",
       "    .dataframe thead th {\n",
       "        text-align: right;\n",
       "    }\n",
       "</style>\n",
       "<table border=\"1\" class=\"dataframe\">\n",
       "  <thead>\n",
       "    <tr style=\"text-align: right;\">\n",
       "      <th></th>\n",
       "      <th>Year</th>\n",
       "      <th>Month</th>\n",
       "      <th>Sum_SubTotal</th>\n",
       "      <th>Month_TR</th>\n",
       "    </tr>\n",
       "  </thead>\n",
       "  <tbody>\n",
       "    <tr>\n",
       "      <th>0</th>\n",
       "      <td>2013</td>\n",
       "      <td>11</td>\n",
       "      <td>3105843.27</td>\n",
       "      <td>Kasım</td>\n",
       "    </tr>\n",
       "    <tr>\n",
       "      <th>1</th>\n",
       "      <td>2014</td>\n",
       "      <td>1</td>\n",
       "      <td>2870834.18</td>\n",
       "      <td>Ocak</td>\n",
       "    </tr>\n",
       "    <tr>\n",
       "      <th>2</th>\n",
       "      <td>2013</td>\n",
       "      <td>12</td>\n",
       "      <td>2869997.88</td>\n",
       "      <td>Aralık</td>\n",
       "    </tr>\n",
       "    <tr>\n",
       "      <th>3</th>\n",
       "      <td>2013</td>\n",
       "      <td>9</td>\n",
       "      <td>2866553.33</td>\n",
       "      <td>Eylül</td>\n",
       "    </tr>\n",
       "    <tr>\n",
       "      <th>4</th>\n",
       "      <td>2014</td>\n",
       "      <td>3</td>\n",
       "      <td>2805006.32</td>\n",
       "      <td>Mart</td>\n",
       "    </tr>\n",
       "    <tr>\n",
       "      <th>5</th>\n",
       "      <td>2013</td>\n",
       "      <td>8</td>\n",
       "      <td>2769236.03</td>\n",
       "      <td>Ağustos</td>\n",
       "    </tr>\n",
       "    <tr>\n",
       "      <th>6</th>\n",
       "      <td>2014</td>\n",
       "      <td>4</td>\n",
       "      <td>2758912.47</td>\n",
       "      <td>Nisan</td>\n",
       "    </tr>\n",
       "    <tr>\n",
       "      <th>7</th>\n",
       "      <td>2014</td>\n",
       "      <td>2</td>\n",
       "      <td>2712838.58</td>\n",
       "      <td>Şubat</td>\n",
       "    </tr>\n",
       "    <tr>\n",
       "      <th>8</th>\n",
       "      <td>2014</td>\n",
       "      <td>5</td>\n",
       "      <td>2695699.48</td>\n",
       "      <td>Mayıs</td>\n",
       "    </tr>\n",
       "    <tr>\n",
       "      <th>9</th>\n",
       "      <td>2014</td>\n",
       "      <td>6</td>\n",
       "      <td>2657013.04</td>\n",
       "      <td>Haziran</td>\n",
       "    </tr>\n",
       "  </tbody>\n",
       "</table>\n",
       "</div>"
      ],
      "text/plain": [
       "   Year  Month  Sum_SubTotal Month_TR\n",
       "0  2013     11    3105843.27    Kasım\n",
       "1  2014      1    2870834.18     Ocak\n",
       "2  2013     12    2869997.88   Aralık\n",
       "3  2013      9    2866553.33    Eylül\n",
       "4  2014      3    2805006.32     Mart\n",
       "5  2013      8    2769236.03  Ağustos\n",
       "6  2014      4    2758912.47    Nisan\n",
       "7  2014      2    2712838.58    Şubat\n",
       "8  2014      5    2695699.48    Mayıs\n",
       "9  2014      6    2657013.04  Haziran"
      ]
     },
     "execution_count": 70,
     "metadata": {},
     "output_type": "execute_result"
    }
   ],
   "source": [
    "df_year_and_month.filter(\"orderStatus not in ('CANCELED')\") \\\n",
    "                 .groupBy('Year','Month').agg(F.sum(\"orderItemSubTotal\").alias(\"Sum_SubTotal\")) \\\n",
    "                 .orderBy(F.desc(\"Sum_SubTotal\")) \\\n",
    "                 .withColumn(\"Month_TR\", month_to_tr_udf(F.col(\"Month\"))) \\\n",
    "                 .limit(10).toPandas()"
   ]
  },
  {
   "cell_type": "code",
   "execution_count": 42,
   "id": "6e24e3a7-d1d2-43a9-aa13-7bb5911944eb",
   "metadata": {
    "tags": []
   },
   "outputs": [],
   "source": [
    "# Q6 \n",
    "\n",
    "# On which day of the week (in Turkish) was the highest total sales?"
   ]
  },
  {
   "cell_type": "code",
   "execution_count": 43,
   "id": "62b32a15-1a38-4ba9-8d5a-9bf856dda61f",
   "metadata": {
    "tags": []
   },
   "outputs": [
    {
     "data": {
      "text/html": [
       "<div>\n",
       "<style scoped>\n",
       "    .dataframe tbody tr th:only-of-type {\n",
       "        vertical-align: middle;\n",
       "    }\n",
       "\n",
       "    .dataframe tbody tr th {\n",
       "        vertical-align: top;\n",
       "    }\n",
       "\n",
       "    .dataframe thead th {\n",
       "        text-align: right;\n",
       "    }\n",
       "</style>\n",
       "<table border=\"1\" class=\"dataframe\">\n",
       "  <thead>\n",
       "    <tr style=\"text-align: right;\">\n",
       "      <th></th>\n",
       "      <th>orderId</th>\n",
       "      <th>orderItemProductId</th>\n",
       "      <th>orderItemSubTotal</th>\n",
       "      <th>orderStatus</th>\n",
       "      <th>orderDate</th>\n",
       "      <th>Day</th>\n",
       "    </tr>\n",
       "  </thead>\n",
       "  <tbody>\n",
       "    <tr>\n",
       "      <th>0</th>\n",
       "      <td>1</td>\n",
       "      <td>957</td>\n",
       "      <td>299.98</td>\n",
       "      <td>CLOSED</td>\n",
       "      <td>2013-07-25</td>\n",
       "      <td>5</td>\n",
       "    </tr>\n",
       "    <tr>\n",
       "      <th>1</th>\n",
       "      <td>2</td>\n",
       "      <td>1073</td>\n",
       "      <td>199.99</td>\n",
       "      <td>PENDING_PAYMENT</td>\n",
       "      <td>2013-07-25</td>\n",
       "      <td>5</td>\n",
       "    </tr>\n",
       "    <tr>\n",
       "      <th>2</th>\n",
       "      <td>2</td>\n",
       "      <td>502</td>\n",
       "      <td>250.00</td>\n",
       "      <td>PENDING_PAYMENT</td>\n",
       "      <td>2013-07-25</td>\n",
       "      <td>5</td>\n",
       "    </tr>\n",
       "    <tr>\n",
       "      <th>3</th>\n",
       "      <td>2</td>\n",
       "      <td>403</td>\n",
       "      <td>129.99</td>\n",
       "      <td>PENDING_PAYMENT</td>\n",
       "      <td>2013-07-25</td>\n",
       "      <td>5</td>\n",
       "    </tr>\n",
       "    <tr>\n",
       "      <th>4</th>\n",
       "      <td>4</td>\n",
       "      <td>897</td>\n",
       "      <td>49.98</td>\n",
       "      <td>CLOSED</td>\n",
       "      <td>2013-07-25</td>\n",
       "      <td>5</td>\n",
       "    </tr>\n",
       "  </tbody>\n",
       "</table>\n",
       "</div>"
      ],
      "text/plain": [
       "   orderId  orderItemProductId  orderItemSubTotal      orderStatus  orderDate  \\\n",
       "0        1                 957             299.98           CLOSED 2013-07-25   \n",
       "1        2                1073             199.99  PENDING_PAYMENT 2013-07-25   \n",
       "2        2                 502             250.00  PENDING_PAYMENT 2013-07-25   \n",
       "3        2                 403             129.99  PENDING_PAYMENT 2013-07-25   \n",
       "4        4                 897              49.98           CLOSED 2013-07-25   \n",
       "\n",
       "   Day  \n",
       "0    5  \n",
       "1    5  \n",
       "2    5  \n",
       "3    5  \n",
       "4    5  "
      ]
     },
     "execution_count": 43,
     "metadata": {},
     "output_type": "execute_result"
    }
   ],
   "source": [
    "df_day_of_week = orders_and_items_date.withColumn(\"orderDate\", \n",
    "                                     F.to_timestamp(F.col(\"orderDate\"), \"yyyy-MM-dd HH:mm:ss.S\")) \\\n",
    "                                      .withColumn(\"Day\", F.dayofweek(F.col(\"orderDate\")))\n",
    "\n",
    "df_day_of_week.limit(5).toPandas()"
   ]
  },
  {
   "cell_type": "code",
   "execution_count": 44,
   "id": "db0442d6-2229-412c-9048-f7a073759da8",
   "metadata": {
    "tags": []
   },
   "outputs": [
    {
     "name": "stderr",
     "output_type": "stream",
     "text": [
      "                                                                                \r"
     ]
    },
    {
     "data": {
      "text/html": [
       "<div>\n",
       "<style scoped>\n",
       "    .dataframe tbody tr th:only-of-type {\n",
       "        vertical-align: middle;\n",
       "    }\n",
       "\n",
       "    .dataframe tbody tr th {\n",
       "        vertical-align: top;\n",
       "    }\n",
       "\n",
       "    .dataframe thead th {\n",
       "        text-align: right;\n",
       "    }\n",
       "</style>\n",
       "<table border=\"1\" class=\"dataframe\">\n",
       "  <thead>\n",
       "    <tr style=\"text-align: right;\">\n",
       "      <th></th>\n",
       "      <th>Day</th>\n",
       "      <th>Sum_SubTotal</th>\n",
       "    </tr>\n",
       "  </thead>\n",
       "  <tbody>\n",
       "    <tr>\n",
       "      <th>0</th>\n",
       "      <td>6</td>\n",
       "      <td>5.065099e+06</td>\n",
       "    </tr>\n",
       "    <tr>\n",
       "      <th>1</th>\n",
       "      <td>5</td>\n",
       "      <td>4.878165e+06</td>\n",
       "    </tr>\n",
       "    <tr>\n",
       "      <th>2</th>\n",
       "      <td>7</td>\n",
       "      <td>4.862228e+06</td>\n",
       "    </tr>\n",
       "    <tr>\n",
       "      <th>3</th>\n",
       "      <td>3</td>\n",
       "      <td>4.809500e+06</td>\n",
       "    </tr>\n",
       "    <tr>\n",
       "      <th>4</th>\n",
       "      <td>4</td>\n",
       "      <td>4.805157e+06</td>\n",
       "    </tr>\n",
       "    <tr>\n",
       "      <th>5</th>\n",
       "      <td>1</td>\n",
       "      <td>4.750555e+06</td>\n",
       "    </tr>\n",
       "    <tr>\n",
       "      <th>6</th>\n",
       "      <td>2</td>\n",
       "      <td>4.455886e+06</td>\n",
       "    </tr>\n",
       "  </tbody>\n",
       "</table>\n",
       "</div>"
      ],
      "text/plain": [
       "   Day  Sum_SubTotal\n",
       "0    6  5.065099e+06\n",
       "1    5  4.878165e+06\n",
       "2    7  4.862228e+06\n",
       "3    3  4.809500e+06\n",
       "4    4  4.805157e+06\n",
       "5    1  4.750555e+06\n",
       "6    2  4.455886e+06"
      ]
     },
     "execution_count": 44,
     "metadata": {},
     "output_type": "execute_result"
    }
   ],
   "source": [
    "df_day_of_week.filter(\"orderStatus not in ('CANCELED')\") \\\n",
    "              .groupBy('Day').agg(F.sum(\"orderItemSubTotal\").alias(\"Sum_SubTotal\")) \\\n",
    "              .orderBy(F.desc(\"Sum_SubTotal\")) \\\n",
    "              .limit(10).toPandas()"
   ]
  },
  {
   "cell_type": "code",
   "execution_count": 45,
   "id": "2fd7632a-a74c-4750-a087-952042368c03",
   "metadata": {
    "tags": []
   },
   "outputs": [],
   "source": [
    "# convert day to TR with udf\n",
    "def day_to_tr(input_day):\n",
    "    day_converter = {\n",
    "        1: \"Pazartesi\",\n",
    "        2: \"Salı\",\n",
    "        3: \"Çarşamba\",\n",
    "        4: \"Perşembe\",\n",
    "        5: \"Cuma\",\n",
    "        6: \"Cumartesi\",\n",
    "        7: \"Pazar\"\n",
    "    }\n",
    "    \n",
    "    return day_converter.get(input_day)"
   ]
  },
  {
   "cell_type": "code",
   "execution_count": 51,
   "id": "bbf22801-1bb4-40a6-abd8-20dfc69e414f",
   "metadata": {
    "tags": []
   },
   "outputs": [
    {
     "data": {
      "text/plain": [
       "'Pazar'"
      ]
     },
     "execution_count": 51,
     "metadata": {},
     "output_type": "execute_result"
    }
   ],
   "source": [
    "day_to_tr(7)"
   ]
  },
  {
   "cell_type": "code",
   "execution_count": 48,
   "id": "36c941e7-3eef-4c81-a654-7a4664c5be5a",
   "metadata": {
    "tags": []
   },
   "outputs": [
    {
     "name": "stderr",
     "output_type": "stream",
     "text": [
      "2023-04-05 21:24:24,256 WARN analysis.SimpleFunctionRegistry: The function day_to_tr_udf replaced a previously registered function.\n"
     ]
    }
   ],
   "source": [
    "day_to_tr_udf = spark.udf.register(\"day_to_tr_udf\", day_to_tr, StringType())"
   ]
  },
  {
   "cell_type": "code",
   "execution_count": 49,
   "id": "eecc2e0c-a78a-4420-b3a7-1f840f6f9cd1",
   "metadata": {
    "tags": []
   },
   "outputs": [
    {
     "name": "stderr",
     "output_type": "stream",
     "text": [
      "                                                                                \r"
     ]
    },
    {
     "data": {
      "text/html": [
       "<div>\n",
       "<style scoped>\n",
       "    .dataframe tbody tr th:only-of-type {\n",
       "        vertical-align: middle;\n",
       "    }\n",
       "\n",
       "    .dataframe tbody tr th {\n",
       "        vertical-align: top;\n",
       "    }\n",
       "\n",
       "    .dataframe thead th {\n",
       "        text-align: right;\n",
       "    }\n",
       "</style>\n",
       "<table border=\"1\" class=\"dataframe\">\n",
       "  <thead>\n",
       "    <tr style=\"text-align: right;\">\n",
       "      <th></th>\n",
       "      <th>Day</th>\n",
       "      <th>Sum_SubTotal</th>\n",
       "      <th>Day_TR</th>\n",
       "    </tr>\n",
       "  </thead>\n",
       "  <tbody>\n",
       "    <tr>\n",
       "      <th>0</th>\n",
       "      <td>6</td>\n",
       "      <td>5.065099e+06</td>\n",
       "      <td>Cumartesi</td>\n",
       "    </tr>\n",
       "    <tr>\n",
       "      <th>1</th>\n",
       "      <td>5</td>\n",
       "      <td>4.878165e+06</td>\n",
       "      <td>Cuma</td>\n",
       "    </tr>\n",
       "    <tr>\n",
       "      <th>2</th>\n",
       "      <td>7</td>\n",
       "      <td>4.862228e+06</td>\n",
       "      <td>Pazar</td>\n",
       "    </tr>\n",
       "    <tr>\n",
       "      <th>3</th>\n",
       "      <td>3</td>\n",
       "      <td>4.809500e+06</td>\n",
       "      <td>Çarşamba</td>\n",
       "    </tr>\n",
       "    <tr>\n",
       "      <th>4</th>\n",
       "      <td>4</td>\n",
       "      <td>4.805157e+06</td>\n",
       "      <td>Perşembe</td>\n",
       "    </tr>\n",
       "    <tr>\n",
       "      <th>5</th>\n",
       "      <td>1</td>\n",
       "      <td>4.750555e+06</td>\n",
       "      <td>Pazartesi</td>\n",
       "    </tr>\n",
       "    <tr>\n",
       "      <th>6</th>\n",
       "      <td>2</td>\n",
       "      <td>4.455886e+06</td>\n",
       "      <td>Salı</td>\n",
       "    </tr>\n",
       "  </tbody>\n",
       "</table>\n",
       "</div>"
      ],
      "text/plain": [
       "   Day  Sum_SubTotal     Day_TR\n",
       "0    6  5.065099e+06  Cumartesi\n",
       "1    5  4.878165e+06       Cuma\n",
       "2    7  4.862228e+06      Pazar\n",
       "3    3  4.809500e+06   Çarşamba\n",
       "4    4  4.805157e+06   Perşembe\n",
       "5    1  4.750555e+06  Pazartesi\n",
       "6    2  4.455886e+06       Salı"
      ]
     },
     "execution_count": 49,
     "metadata": {},
     "output_type": "execute_result"
    }
   ],
   "source": [
    "df_day_of_week.filter(\"orderStatus not in ('CANCELED')\") \\\n",
    "              .groupBy('Day').agg(F.sum(\"orderItemSubTotal\").alias(\"Sum_SubTotal\")) \\\n",
    "              .orderBy(F.desc(\"Sum_SubTotal\")) \\\n",
    "              .withColumn(\"Day_TR\", day_to_tr_udf(F.col(\"Day\"))) \\\n",
    "              .limit(10).toPandas()"
   ]
  },
  {
   "cell_type": "code",
   "execution_count": 52,
   "id": "94341001-002d-425f-ab07-722b00117496",
   "metadata": {
    "tags": []
   },
   "outputs": [],
   "source": [
    "# Q7.Create the largest possible table from all these tables and write it in a table called retail_all in the hive test1 database.\n"
   ]
  },
  {
   "cell_type": "code",
   "execution_count": null,
   "id": "c24fd7af-4b62-4a23-b37d-52c9b4f0bc1f",
   "metadata": {},
   "outputs": [],
   "source": [
    "# Step1 We will join categories and departments table\n",
    "\n",
    "# Step2 We will join order and orders_items table \n",
    "\n",
    "# Step3 We will join resolt of step1 and step2\n"
   ]
  },
  {
   "cell_type": "code",
   "execution_count": 53,
   "id": "72ae49a3-27cb-4d4a-b34c-4cefa6eb98a4",
   "metadata": {
    "tags": []
   },
   "outputs": [
    {
     "name": "stdout",
     "output_type": "stream",
     "text": [
      "categories.csv\tdepartments.csv  orders.csv\n",
      "customers.csv\torder_items.csv  products.csv\n"
     ]
    }
   ],
   "source": [
    "! ls /home/train/datasets/retail_db/"
   ]
  },
  {
   "cell_type": "code",
   "execution_count": 54,
   "id": "cf6ca4b1-c950-4afc-80d1-750c37b4ce45",
   "metadata": {
    "tags": []
   },
   "outputs": [
    {
     "data": {
      "text/html": [
       "<div>\n",
       "<style scoped>\n",
       "    .dataframe tbody tr th:only-of-type {\n",
       "        vertical-align: middle;\n",
       "    }\n",
       "\n",
       "    .dataframe tbody tr th {\n",
       "        vertical-align: top;\n",
       "    }\n",
       "\n",
       "    .dataframe thead th {\n",
       "        text-align: right;\n",
       "    }\n",
       "</style>\n",
       "<table border=\"1\" class=\"dataframe\">\n",
       "  <thead>\n",
       "    <tr style=\"text-align: right;\">\n",
       "      <th></th>\n",
       "      <th>productId</th>\n",
       "      <th>productCategoryId</th>\n",
       "      <th>productName</th>\n",
       "      <th>productDescription</th>\n",
       "      <th>productPrice</th>\n",
       "      <th>productImage</th>\n",
       "      <th>categoryId</th>\n",
       "      <th>categoryDepartmentId</th>\n",
       "      <th>categoryName</th>\n",
       "      <th>departmentId</th>\n",
       "      <th>departmentName</th>\n",
       "    </tr>\n",
       "  </thead>\n",
       "  <tbody>\n",
       "    <tr>\n",
       "      <th>0</th>\n",
       "      <td>1</td>\n",
       "      <td>2</td>\n",
       "      <td>Quest Q64 10 FT. x 10 FT. Slant Leg Instant U</td>\n",
       "      <td>None</td>\n",
       "      <td>59.98</td>\n",
       "      <td>http://images.acmesports.sports/Quest+Q64+10+F...</td>\n",
       "      <td>2</td>\n",
       "      <td>2</td>\n",
       "      <td>Soccer</td>\n",
       "      <td>2</td>\n",
       "      <td>Fitness</td>\n",
       "    </tr>\n",
       "  </tbody>\n",
       "</table>\n",
       "</div>"
      ],
      "text/plain": [
       "   productId  productCategoryId  \\\n",
       "0          1                  2   \n",
       "\n",
       "                                     productName productDescription  \\\n",
       "0  Quest Q64 10 FT. x 10 FT. Slant Leg Instant U               None   \n",
       "\n",
       "   productPrice                                       productImage  \\\n",
       "0         59.98  http://images.acmesports.sports/Quest+Q64+10+F...   \n",
       "\n",
       "   categoryId  categoryDepartmentId categoryName  departmentId departmentName  \n",
       "0           2                     2       Soccer             2        Fitness  "
      ]
     },
     "execution_count": 54,
     "metadata": {},
     "output_type": "execute_result"
    }
   ],
   "source": [
    "cat_dep_prod = products.join(categories, products.productCategoryId == categories.categoryId, \"left\") \\\n",
    "                       .join(departments, categories.categoryDepartmentId == departments.departmentId, \"left\")\n",
    "\n",
    "\n",
    "cat_dep_prod.limit(1).toPandas()"
   ]
  },
  {
   "cell_type": "code",
   "execution_count": 55,
   "id": "4c3adf6e-979a-44b0-a62f-bbd705f0b5e1",
   "metadata": {
    "tags": []
   },
   "outputs": [
    {
     "data": {
      "text/plain": [
       "1345"
      ]
     },
     "execution_count": 55,
     "metadata": {},
     "output_type": "execute_result"
    }
   ],
   "source": [
    "cat_dep_prod.count()"
   ]
  },
  {
   "cell_type": "code",
   "execution_count": 61,
   "id": "f70d53ba-1168-42cb-9e86-581592efc3e8",
   "metadata": {
    "tags": []
   },
   "outputs": [
    {
     "data": {
      "text/html": [
       "<div>\n",
       "<style scoped>\n",
       "    .dataframe tbody tr th:only-of-type {\n",
       "        vertical-align: middle;\n",
       "    }\n",
       "\n",
       "    .dataframe tbody tr th {\n",
       "        vertical-align: top;\n",
       "    }\n",
       "\n",
       "    .dataframe thead th {\n",
       "        text-align: right;\n",
       "    }\n",
       "</style>\n",
       "<table border=\"1\" class=\"dataframe\">\n",
       "  <thead>\n",
       "    <tr style=\"text-align: right;\">\n",
       "      <th></th>\n",
       "      <th>orderItemName</th>\n",
       "      <th>orderItemOrderId</th>\n",
       "      <th>orderItemProductId</th>\n",
       "      <th>orderItemQuantity</th>\n",
       "      <th>orderItemSubTotal</th>\n",
       "      <th>orderItemProductPrice</th>\n",
       "      <th>orderId</th>\n",
       "      <th>orderDate</th>\n",
       "      <th>orderCustomerId</th>\n",
       "      <th>orderStatus</th>\n",
       "      <th>customerId</th>\n",
       "      <th>customerFName</th>\n",
       "      <th>customerLName</th>\n",
       "      <th>customerEmail</th>\n",
       "      <th>customerPassword</th>\n",
       "      <th>customerStreet</th>\n",
       "      <th>customerCity</th>\n",
       "      <th>customerState</th>\n",
       "      <th>customerZipcode</th>\n",
       "    </tr>\n",
       "  </thead>\n",
       "  <tbody>\n",
       "    <tr>\n",
       "      <th>0</th>\n",
       "      <td>1</td>\n",
       "      <td>1</td>\n",
       "      <td>957</td>\n",
       "      <td>1</td>\n",
       "      <td>299.98</td>\n",
       "      <td>299.98</td>\n",
       "      <td>1</td>\n",
       "      <td>2013-07-25 00:00:00.0</td>\n",
       "      <td>11599</td>\n",
       "      <td>CLOSED</td>\n",
       "      <td>11599</td>\n",
       "      <td>Mary</td>\n",
       "      <td>Malone</td>\n",
       "      <td>XXXXXXXXX</td>\n",
       "      <td>XXXXXXXXX</td>\n",
       "      <td>8708 Indian Horse Highway</td>\n",
       "      <td>Hickory</td>\n",
       "      <td>NC</td>\n",
       "      <td>28601</td>\n",
       "    </tr>\n",
       "  </tbody>\n",
       "</table>\n",
       "</div>"
      ],
      "text/plain": [
       "   orderItemName  orderItemOrderId  orderItemProductId  orderItemQuantity  \\\n",
       "0              1                 1                 957                  1   \n",
       "\n",
       "   orderItemSubTotal  orderItemProductPrice  orderId              orderDate  \\\n",
       "0             299.98                 299.98        1  2013-07-25 00:00:00.0   \n",
       "\n",
       "   orderCustomerId orderStatus  customerId customerFName customerLName  \\\n",
       "0            11599      CLOSED       11599          Mary        Malone   \n",
       "\n",
       "  customerEmail customerPassword             customerStreet customerCity  \\\n",
       "0     XXXXXXXXX        XXXXXXXXX  8708 Indian Horse Highway      Hickory   \n",
       "\n",
       "  customerState  customerZipcode  \n",
       "0            NC            28601  "
      ]
     },
     "execution_count": 61,
     "metadata": {},
     "output_type": "execute_result"
    }
   ],
   "source": [
    "orders_and_items_cust = order_items.join(orders, order_items['orderItemOrderId'] == orders['orderId']) \\\n",
    "                                   .join(customers, orders.orderCustomerId == customers.customerId)\n",
    " \n",
    "orders_and_items_cust.limit(1).toPandas()"
   ]
  },
  {
   "cell_type": "code",
   "execution_count": 62,
   "id": "b6103500-5fb0-4ede-9f5b-c9f840bdf55a",
   "metadata": {
    "tags": []
   },
   "outputs": [
    {
     "data": {
      "text/plain": [
       "172198"
      ]
     },
     "execution_count": 62,
     "metadata": {},
     "output_type": "execute_result"
    }
   ],
   "source": [
    "orders_and_items_cust.count()"
   ]
  },
  {
   "cell_type": "code",
   "execution_count": 63,
   "id": "fdd9e186-b372-4950-81d2-234cb9372408",
   "metadata": {
    "tags": []
   },
   "outputs": [
    {
     "name": "stderr",
     "output_type": "stream",
     "text": [
      "                                                                                \r"
     ]
    },
    {
     "data": {
      "text/html": [
       "<div>\n",
       "<style scoped>\n",
       "    .dataframe tbody tr th:only-of-type {\n",
       "        vertical-align: middle;\n",
       "    }\n",
       "\n",
       "    .dataframe tbody tr th {\n",
       "        vertical-align: top;\n",
       "    }\n",
       "\n",
       "    .dataframe thead th {\n",
       "        text-align: right;\n",
       "    }\n",
       "</style>\n",
       "<table border=\"1\" class=\"dataframe\">\n",
       "  <thead>\n",
       "    <tr style=\"text-align: right;\">\n",
       "      <th></th>\n",
       "      <th>orderItemName</th>\n",
       "      <th>orderItemOrderId</th>\n",
       "      <th>orderItemProductId</th>\n",
       "      <th>orderItemQuantity</th>\n",
       "      <th>orderItemSubTotal</th>\n",
       "      <th>orderItemProductPrice</th>\n",
       "      <th>orderId</th>\n",
       "      <th>orderDate</th>\n",
       "      <th>orderCustomerId</th>\n",
       "      <th>orderStatus</th>\n",
       "      <th>...</th>\n",
       "      <th>productCategoryId</th>\n",
       "      <th>productName</th>\n",
       "      <th>productDescription</th>\n",
       "      <th>productPrice</th>\n",
       "      <th>productImage</th>\n",
       "      <th>categoryId</th>\n",
       "      <th>categoryDepartmentId</th>\n",
       "      <th>categoryName</th>\n",
       "      <th>departmentId</th>\n",
       "      <th>departmentName</th>\n",
       "    </tr>\n",
       "  </thead>\n",
       "  <tbody>\n",
       "    <tr>\n",
       "      <th>0</th>\n",
       "      <td>144513</td>\n",
       "      <td>57760</td>\n",
       "      <td>858</td>\n",
       "      <td>1</td>\n",
       "      <td>199.99</td>\n",
       "      <td>199.99</td>\n",
       "      <td>57760</td>\n",
       "      <td>2013-07-25 00:00:00.0</td>\n",
       "      <td>8330</td>\n",
       "      <td>PENDING_PAYMENT</td>\n",
       "      <td>...</td>\n",
       "      <td>38</td>\n",
       "      <td>GolfBuddy VT3 GPS Watch</td>\n",
       "      <td>None</td>\n",
       "      <td>199.99</td>\n",
       "      <td>http://images.acmesports.sports/GolfBuddy+VT3+...</td>\n",
       "      <td>38</td>\n",
       "      <td>6</td>\n",
       "      <td>Kids' Golf Clubs</td>\n",
       "      <td>6</td>\n",
       "      <td>Outdoors</td>\n",
       "    </tr>\n",
       "    <tr>\n",
       "      <th>1</th>\n",
       "      <td>144738</td>\n",
       "      <td>57847</td>\n",
       "      <td>858</td>\n",
       "      <td>1</td>\n",
       "      <td>199.99</td>\n",
       "      <td>199.99</td>\n",
       "      <td>57847</td>\n",
       "      <td>2013-07-28 00:00:00.0</td>\n",
       "      <td>9548</td>\n",
       "      <td>COMPLETE</td>\n",
       "      <td>...</td>\n",
       "      <td>38</td>\n",
       "      <td>GolfBuddy VT3 GPS Watch</td>\n",
       "      <td>None</td>\n",
       "      <td>199.99</td>\n",
       "      <td>http://images.acmesports.sports/GolfBuddy+VT3+...</td>\n",
       "      <td>38</td>\n",
       "      <td>6</td>\n",
       "      <td>Kids' Golf Clubs</td>\n",
       "      <td>6</td>\n",
       "      <td>Outdoors</td>\n",
       "    </tr>\n",
       "  </tbody>\n",
       "</table>\n",
       "<p>2 rows × 30 columns</p>\n",
       "</div>"
      ],
      "text/plain": [
       "   orderItemName  orderItemOrderId  orderItemProductId  orderItemQuantity  \\\n",
       "0         144513             57760                 858                  1   \n",
       "1         144738             57847                 858                  1   \n",
       "\n",
       "   orderItemSubTotal  orderItemProductPrice  orderId              orderDate  \\\n",
       "0             199.99                 199.99    57760  2013-07-25 00:00:00.0   \n",
       "1             199.99                 199.99    57847  2013-07-28 00:00:00.0   \n",
       "\n",
       "   orderCustomerId      orderStatus  ...  productCategoryId  \\\n",
       "0             8330  PENDING_PAYMENT  ...                 38   \n",
       "1             9548         COMPLETE  ...                 38   \n",
       "\n",
       "               productName productDescription productPrice  \\\n",
       "0  GolfBuddy VT3 GPS Watch               None       199.99   \n",
       "1  GolfBuddy VT3 GPS Watch               None       199.99   \n",
       "\n",
       "                                        productImage categoryId  \\\n",
       "0  http://images.acmesports.sports/GolfBuddy+VT3+...         38   \n",
       "1  http://images.acmesports.sports/GolfBuddy+VT3+...         38   \n",
       "\n",
       "  categoryDepartmentId      categoryName  departmentId  departmentName  \n",
       "0                    6  Kids' Golf Clubs             6        Outdoors  \n",
       "1                    6  Kids' Golf Clubs             6        Outdoors  \n",
       "\n",
       "[2 rows x 30 columns]"
      ]
     },
     "execution_count": 63,
     "metadata": {},
     "output_type": "execute_result"
    }
   ],
   "source": [
    "all_in_one = orders_and_items_cust.join(cat_dep_prod, orders_and_items_cust.orderItemProductId == cat_dep_prod.productId)\n",
    "\n",
    "all_in_one.limit(2).toPandas()"
   ]
  },
  {
   "cell_type": "code",
   "execution_count": 60,
   "id": "46e5885a-ef0a-4129-bfbd-c973d7e28999",
   "metadata": {
    "tags": []
   },
   "outputs": [
    {
     "name": "stderr",
     "output_type": "stream",
     "text": [
      "                                                                                \r"
     ]
    },
    {
     "data": {
      "text/plain": [
       "172198"
      ]
     },
     "execution_count": 60,
     "metadata": {},
     "output_type": "execute_result"
    }
   ],
   "source": [
    "all_in_one.count()"
   ]
  },
  {
   "cell_type": "code",
   "execution_count": 64,
   "id": "16b1a936-788b-4994-b5e3-917b04024f44",
   "metadata": {
    "tags": []
   },
   "outputs": [
    {
     "name": "stderr",
     "output_type": "stream",
     "text": [
      "2023-04-05 21:49:33,959 WARN conf.HiveConf: HiveConf of name hive.stats.jdbc.timeout does not exist\n",
      "2023-04-05 21:49:33,960 WARN conf.HiveConf: HiveConf of name hive.stats.retries.wait does not exist\n",
      "2023-04-05 21:49:36,674 WARN util.package: Truncated the string representation of a plan since it was too large. This behavior can be adjusted by setting 'spark.sql.debug.maxToStringFields'.\n",
      "2023-04-05 21:50:05,058 WARN session.SessionState: METASTORE_FILTER_HOOK will be ignored, since hive.security.authorization.manager is set to instance of HiveAuthorizerFactory.\n",
      "2023-04-05 21:50:05,117 WARN conf.HiveConf: HiveConf of name hive.internal.ss.authz.settings.applied.marker does not exist\n",
      "2023-04-05 21:50:05,117 WARN conf.HiveConf: HiveConf of name hive.stats.jdbc.timeout does not exist\n",
      "2023-04-05 21:50:05,117 WARN conf.HiveConf: HiveConf of name hive.stats.retries.wait does not exist\n",
      "2023-04-05 21:50:05,551 WARN metastore.ObjectStore: Failed to get database global_temp, returning NoSuchObjectException\n"
     ]
    }
   ],
   "source": [
    "all_in_one.write.format(\"orc\") \\\n",
    ".mode(\"overwrite\") \\\n",
    ".saveAsTable(\"test1.retail_all\")\n"
   ]
  },
  {
   "cell_type": "code",
   "execution_count": null,
   "id": "d7e69e26-cead-40b8-8fdd-1aba07416e06",
   "metadata": {},
   "outputs": [],
   "source": []
  }
 ],
 "metadata": {
  "kernelspec": {
   "display_name": "venvspark",
   "language": "python",
   "name": "venvspark"
  },
  "language_info": {
   "codemirror_mode": {
    "name": "ipython",
    "version": 3
   },
   "file_extension": ".py",
   "mimetype": "text/x-python",
   "name": "python",
   "nbconvert_exporter": "python",
   "pygments_lexer": "ipython3",
   "version": "3.8.12"
  }
 },
 "nbformat": 4,
 "nbformat_minor": 5
}
