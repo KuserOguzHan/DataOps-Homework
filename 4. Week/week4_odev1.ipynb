{
 "cells": [
  {
   "cell_type": "code",
   "execution_count": 1,
   "id": "967c6bbf-3671-464b-adfd-ba0c9517901b",
   "metadata": {
    "tags": []
   },
   "outputs": [],
   "source": [
    "from pyspark.sql import SparkSession"
   ]
  },
  {
   "cell_type": "code",
   "execution_count": 2,
   "id": "e114cd35-6548-49cf-9ce9-d95ec9f114ab",
   "metadata": {
    "tags": []
   },
   "outputs": [],
   "source": [
    "from pyspark.sql import functions as F"
   ]
  },
  {
   "cell_type": "code",
   "execution_count": 4,
   "id": "1fc529a3-b832-4efb-a2d9-53ba1065b318",
   "metadata": {
    "tags": []
   },
   "outputs": [],
   "source": [
    "spark = SparkSession.builder \\\n",
    ".appName(\"filter\") \\\n",
    ".master(\"local[2]\") \\\n",
    ".getOrCreate()"
   ]
  },
  {
   "cell_type": "markdown",
   "id": "11981250-9a5f-4716-a741-4b83a95721c7",
   "metadata": {},
   "source": [
    "# 1.1 `order_items` tablosunda kaç tane **tekil** `orderItemOrderId` var"
   ]
  },
  {
   "cell_type": "code",
   "execution_count": 5,
   "id": "43fb92bd-882f-4c1c-aecf-c04e635cf00a",
   "metadata": {
    "tags": []
   },
   "outputs": [
    {
     "name": "stdout",
     "output_type": "stream",
     "text": [
      "--2023-03-01 01:45:26--  https://raw.githubusercontent.com/erkansirin78/datasets/master/retail_db/order_items.csv\n",
      "Resolving raw.githubusercontent.com (raw.githubusercontent.com)... 185.199.110.133, 185.199.109.133, 185.199.111.133, ...\n",
      "Connecting to raw.githubusercontent.com (raw.githubusercontent.com)|185.199.110.133|:443... connected.\n",
      "HTTP request sent, awaiting response... 200 OK\n",
      "Length: 5408988 (5.2M) [text/plain]\n",
      "Saving to: ‘/home/train/datasets/order_items.csv’\n",
      "\n",
      "100%[======================================>] 5,408,988   2.72MB/s   in 1.9s   \n",
      "\n",
      "2023-03-01 01:45:29 (2.72 MB/s) - ‘/home/train/datasets/order_items.csv’ saved [5408988/5408988]\n",
      "\n"
     ]
    }
   ],
   "source": [
    "! wget -P /home/train/datasets/ \\\n",
    "https://raw.githubusercontent.com/erkansirin78/datasets/master/retail_db/order_items.csv"
   ]
  },
  {
   "cell_type": "code",
   "execution_count": 6,
   "id": "45311eb5-2131-4e3e-b763-43e3d703a198",
   "metadata": {
    "tags": []
   },
   "outputs": [
    {
     "name": "stderr",
     "output_type": "stream",
     "text": [
      "                                                                                \r"
     ]
    }
   ],
   "source": [
    "df_order_items = spark.read \\\n",
    ".format(\"csv\") \\\n",
    ".option(\"header\", True) \\\n",
    ".option(\"sep\", \",\") \\\n",
    ".option(\"inferSchema\", True) \\\n",
    ".load(\"file:///home/train/datasets/order_items.csv\")"
   ]
  },
  {
   "cell_type": "code",
   "execution_count": 7,
   "id": "c8f5639e-ed89-4c63-826d-7d2ff58b1a2b",
   "metadata": {
    "tags": []
   },
   "outputs": [
    {
     "name": "stdout",
     "output_type": "stream",
     "text": [
      "+-------------+----------------+------------------+-----------------+-----------------+---------------------+\n",
      "|orderItemName|orderItemOrderId|orderItemProductId|orderItemQuantity|orderItemSubTotal|orderItemProductPrice|\n",
      "+-------------+----------------+------------------+-----------------+-----------------+---------------------+\n",
      "|            1|               1|               957|                1|           299.98|               299.98|\n",
      "|            2|               2|              1073|                1|           199.99|               199.99|\n",
      "|            3|               2|               502|                5|            250.0|                 50.0|\n",
      "|            4|               2|               403|                1|           129.99|               129.99|\n",
      "|            5|               4|               897|                2|            49.98|                24.99|\n",
      "|            6|               4|               365|                5|           299.95|                59.99|\n",
      "|            7|               4|               502|                3|            150.0|                 50.0|\n",
      "|            8|               4|              1014|                4|           199.92|                49.98|\n",
      "|            9|               5|               957|                1|           299.98|               299.98|\n",
      "|           10|               5|               365|                5|           299.95|                59.99|\n",
      "|           11|               5|              1014|                2|            99.96|                49.98|\n",
      "|           12|               5|               957|                1|           299.98|               299.98|\n",
      "|           13|               5|               403|                1|           129.99|               129.99|\n",
      "|           14|               7|              1073|                1|           199.99|               199.99|\n",
      "|           15|               7|               957|                1|           299.98|               299.98|\n",
      "|           16|               7|               926|                5|            79.95|                15.99|\n",
      "|           17|               8|               365|                3|           179.97|                59.99|\n",
      "|           18|               8|               365|                5|           299.95|                59.99|\n",
      "|           19|               8|              1014|                4|           199.92|                49.98|\n",
      "|           20|               8|               502|                1|             50.0|                 50.0|\n",
      "+-------------+----------------+------------------+-----------------+-----------------+---------------------+\n",
      "only showing top 20 rows\n",
      "\n"
     ]
    }
   ],
   "source": [
    "df_order_items.show()"
   ]
  },
  {
   "cell_type": "code",
   "execution_count": 8,
   "id": "fb902abb-16a8-4ab5-a768-3d3fe2dfe799",
   "metadata": {
    "tags": []
   },
   "outputs": [
    {
     "name": "stderr",
     "output_type": "stream",
     "text": [
      "[Stage 4:=====================================================> (194 + 3) / 200]\r"
     ]
    },
    {
     "name": "stdout",
     "output_type": "stream",
     "text": [
      "+--------------------------------+\n",
      "|count(DISTINCT orderItemOrderId)|\n",
      "+--------------------------------+\n",
      "|                           57431|\n",
      "+--------------------------------+\n",
      "\n"
     ]
    },
    {
     "name": "stderr",
     "output_type": "stream",
     "text": [
      "                                                                                \r"
     ]
    }
   ],
   "source": [
    "from pyspark.sql.functions import countDistinct\n",
    "df2=df_order_items.select(countDistinct(\"orderItemOrderId\"))\n",
    "df2.show()"
   ]
  },
  {
   "cell_type": "markdown",
   "id": "f1119d62-7034-47b2-a3b4-e1a73105ee9f",
   "metadata": {},
   "source": [
    "# 1.2`orders` ve `order_items` tablolarında kaç satır var"
   ]
  },
  {
   "cell_type": "code",
   "execution_count": 10,
   "id": "ee506a56-fce4-41a3-8334-949f9d3bb74c",
   "metadata": {
    "tags": []
   },
   "outputs": [
    {
     "name": "stderr",
     "output_type": "stream",
     "text": [
      "                                                                                \r"
     ]
    },
    {
     "name": "stdout",
     "output_type": "stream",
     "text": [
      "<class 'pandas.core.frame.DataFrame'>\n",
      "RangeIndex: 172198 entries, 0 to 172197\n",
      "Data columns (total 6 columns):\n",
      " #   Column                 Non-Null Count   Dtype  \n",
      "---  ------                 --------------   -----  \n",
      " 0   orderItemName          172198 non-null  int32  \n",
      " 1   orderItemOrderId       172198 non-null  int32  \n",
      " 2   orderItemProductId     172198 non-null  int32  \n",
      " 3   orderItemQuantity      172198 non-null  int32  \n",
      " 4   orderItemSubTotal      172198 non-null  float64\n",
      " 5   orderItemProductPrice  172198 non-null  float64\n",
      "dtypes: float64(2), int32(4)\n",
      "memory usage: 5.3 MB\n"
     ]
    }
   ],
   "source": [
    "df_order_items.toPandas().info()"
   ]
  },
  {
   "cell_type": "code",
   "execution_count": 11,
   "id": "41f67ccf-4957-49c0-a4b4-3e4b41140a84",
   "metadata": {
    "tags": []
   },
   "outputs": [
    {
     "name": "stdout",
     "output_type": "stream",
     "text": [
      "--2023-03-01 01:55:59--  https://raw.githubusercontent.com/erkansirin78/datasets/master/retail_db/orders.csv\n",
      "Resolving raw.githubusercontent.com (raw.githubusercontent.com)... 185.199.108.133, 185.199.110.133, 185.199.109.133, ...\n",
      "Connecting to raw.githubusercontent.com (raw.githubusercontent.com)|185.199.108.133|:443... connected.\n",
      "HTTP request sent, awaiting response... 200 OK\n",
      "Length: 2999990 (2.9M) [text/plain]\n",
      "Saving to: ‘/home/train/datasets/orders.csv’\n",
      "\n",
      "100%[======================================>] 2,999,990   2.93MB/s   in 1.0s   \n",
      "\n",
      "2023-03-01 01:56:01 (2.93 MB/s) - ‘/home/train/datasets/orders.csv’ saved [2999990/2999990]\n",
      "\n"
     ]
    }
   ],
   "source": [
    "! wget -P /home/train/datasets/ \\\n",
    "https://raw.githubusercontent.com/erkansirin78/datasets/master/retail_db/orders.csv"
   ]
  },
  {
   "cell_type": "code",
   "execution_count": 12,
   "id": "cfb5af71-8a6c-47cf-925d-374d35ca0661",
   "metadata": {
    "tags": []
   },
   "outputs": [],
   "source": [
    "df_orders = spark.read \\\n",
    ".format(\"csv\") \\\n",
    ".option(\"header\", True) \\\n",
    ".option(\"sep\", \",\") \\\n",
    ".option(\"inferSchema\", True) \\\n",
    ".load(\"file:///home/train/datasets/orders.csv\")"
   ]
  },
  {
   "cell_type": "code",
   "execution_count": 13,
   "id": "dfea35f5-768f-4988-829d-5f224bb9eef1",
   "metadata": {
    "tags": []
   },
   "outputs": [
    {
     "name": "stdout",
     "output_type": "stream",
     "text": [
      "+-------+--------------------+---------------+---------------+\n",
      "|orderId|           orderDate|orderCustomerId|    orderStatus|\n",
      "+-------+--------------------+---------------+---------------+\n",
      "|      1|2013-07-25 00:00:...|          11599|         CLOSED|\n",
      "|      2|2013-07-25 00:00:...|            256|PENDING_PAYMENT|\n",
      "|      3|2013-07-25 00:00:...|          12111|       COMPLETE|\n",
      "|      4|2013-07-25 00:00:...|           8827|         CLOSED|\n",
      "|      5|2013-07-25 00:00:...|          11318|       COMPLETE|\n",
      "|      6|2013-07-25 00:00:...|           7130|       COMPLETE|\n",
      "|      7|2013-07-25 00:00:...|           4530|       COMPLETE|\n",
      "|      8|2013-07-25 00:00:...|           2911|     PROCESSING|\n",
      "|      9|2013-07-25 00:00:...|           5657|PENDING_PAYMENT|\n",
      "|     10|2013-07-25 00:00:...|           5648|PENDING_PAYMENT|\n",
      "|     11|2013-07-25 00:00:...|            918| PAYMENT_REVIEW|\n",
      "|     12|2013-07-25 00:00:...|           1837|         CLOSED|\n",
      "|     13|2013-07-25 00:00:...|           9149|PENDING_PAYMENT|\n",
      "|     14|2013-07-25 00:00:...|           9842|     PROCESSING|\n",
      "|     15|2013-07-25 00:00:...|           2568|       COMPLETE|\n",
      "|     16|2013-07-25 00:00:...|           7276|PENDING_PAYMENT|\n",
      "|     17|2013-07-25 00:00:...|           2667|       COMPLETE|\n",
      "|     18|2013-07-25 00:00:...|           1205|         CLOSED|\n",
      "|     19|2013-07-25 00:00:...|           9488|PENDING_PAYMENT|\n",
      "|     20|2013-07-25 00:00:...|           9198|     PROCESSING|\n",
      "+-------+--------------------+---------------+---------------+\n",
      "only showing top 20 rows\n",
      "\n"
     ]
    }
   ],
   "source": [
    "df_orders.show()"
   ]
  },
  {
   "cell_type": "code",
   "execution_count": 14,
   "id": "b03ce4e7-7a60-4270-9774-e2ad9383ad7d",
   "metadata": {
    "tags": []
   },
   "outputs": [
    {
     "name": "stdout",
     "output_type": "stream",
     "text": [
      "<class 'pandas.core.frame.DataFrame'>\n",
      "RangeIndex: 68883 entries, 0 to 68882\n",
      "Data columns (total 4 columns):\n",
      " #   Column           Non-Null Count  Dtype \n",
      "---  ------           --------------  ----- \n",
      " 0   orderId          68883 non-null  int32 \n",
      " 1   orderDate        68883 non-null  object\n",
      " 2   orderCustomerId  68883 non-null  int32 \n",
      " 3   orderStatus      68883 non-null  object\n",
      "dtypes: int32(2), object(2)\n",
      "memory usage: 1.6+ MB\n"
     ]
    }
   ],
   "source": [
    "df_orders.toPandas().info()"
   ]
  },
  {
   "cell_type": "markdown",
   "id": "f3d37c68-711b-486a-8570-23c78dc99c56",
   "metadata": {},
   "source": [
    "# 1.3 Toplam satış tutarı bakımından en çok iptal edilen (azalan sıra) ürünleri lokal diske `parquet` formatında yazınız."
   ]
  },
  {
   "cell_type": "code",
   "execution_count": 15,
   "id": "1f1db117-0c5e-48b4-9f6e-a10a1df0d78c",
   "metadata": {
    "tags": []
   },
   "outputs": [],
   "source": [
    "canceled_items = df_orders.filter(df_orders.orderStatus == \"CANCELED\")"
   ]
  },
  {
   "cell_type": "code",
   "execution_count": 16,
   "id": "acb26596-3b2a-4c3c-927a-5ddc9c4d0485",
   "metadata": {
    "tags": []
   },
   "outputs": [],
   "source": [
    "joined_data = df_order_items.join(canceled_items, df_order_items.orderItemOrderId == canceled_items.orderId)"
   ]
  },
  {
   "cell_type": "code",
   "execution_count": 20,
   "id": "a179b412-5a15-4bc7-8e38-38d98156fa9e",
   "metadata": {
    "tags": []
   },
   "outputs": [
    {
     "name": "stdout",
     "output_type": "stream",
     "text": [
      "--2023-03-01 02:05:24--  https://raw.githubusercontent.com/erkansirin78/datasets/master/retail_db/products.csv\n",
      "Resolving raw.githubusercontent.com (raw.githubusercontent.com)... 185.199.108.133, 185.199.111.133, 185.199.109.133, ...\n",
      "Connecting to raw.githubusercontent.com (raw.githubusercontent.com)|185.199.108.133|:443... connected.\n",
      "HTTP request sent, awaiting response... 200 OK\n",
      "Length: 174240 (170K) [text/plain]\n",
      "Saving to: ‘/home/train/datasets/products.csv’\n",
      "\n",
      "100%[======================================>] 174,240     --.-K/s   in 0.1s    \n",
      "\n",
      "2023-03-01 02:05:25 (1.47 MB/s) - ‘/home/train/datasets/products.csv’ saved [174240/174240]\n",
      "\n"
     ]
    }
   ],
   "source": [
    "! wget -P /home/train/datasets/ \\\n",
    "https://raw.githubusercontent.com/erkansirin78/datasets/master/retail_db/products.csv"
   ]
  },
  {
   "cell_type": "code",
   "execution_count": 21,
   "id": "13a1c1c5-eda5-40a4-9623-fd69eff67e52",
   "metadata": {
    "tags": []
   },
   "outputs": [],
   "source": [
    "df_products = spark.read \\\n",
    ".format(\"csv\") \\\n",
    ".option(\"header\", True) \\\n",
    ".option(\"sep\", \",\") \\\n",
    ".option(\"inferSchema\", True) \\\n",
    ".load(\"file:///home/train/datasets/products.csv\")"
   ]
  },
  {
   "cell_type": "code",
   "execution_count": 22,
   "id": "dd62f02e-75ef-4ceb-904d-c59f04eee4e4",
   "metadata": {
    "tags": []
   },
   "outputs": [],
   "source": [
    "joined_data1 = df_products.join(joined_data, df_products.productId == joined_data.orderItemProductId)"
   ]
  },
  {
   "cell_type": "code",
   "execution_count": 23,
   "id": "ff9d3f27-e29b-46a8-8554-94355e44c8fe",
   "metadata": {
    "tags": []
   },
   "outputs": [
    {
     "name": "stdout",
     "output_type": "stream",
     "text": [
      "+---------+-----------------+--------------------+------------------+------------+--------------------+-------------+----------------+------------------+-----------------+-----------------+---------------------+-------+--------------------+---------------+-----------+\n",
      "|productId|productCategoryId|         productName|productDescription|productPrice|        productImage|orderItemName|orderItemOrderId|orderItemProductId|orderItemQuantity|orderItemSubTotal|orderItemProductPrice|orderId|           orderDate|orderCustomerId|orderStatus|\n",
      "+---------+-----------------+--------------------+------------------+------------+--------------------+-------------+----------------+------------------+-----------------+-----------------+---------------------+-------+--------------------+---------------+-----------+\n",
      "|      403|               18|Nike Men's CJ Eli...|              null|      129.99|http://images.acm...|          124|              50|               403|                1|           129.99|               129.99|     50|2013-07-25 00:00:...|           5225|   CANCELED|\n",
      "|      957|               43|Diamondback Women...|              null|      299.98|http://images.acm...|          125|              50|               957|                1|           299.98|               299.98|     50|2013-07-25 00:00:...|           5225|   CANCELED|\n",
      "|     1014|               46|O'Brien Men's Neo...|              null|       49.98|http://images.acm...|          254|             112|              1014|                2|            99.96|                49.98|    112|2013-07-26 00:00:...|           5375|   CANCELED|\n",
      "|      642|               29|Columbia Men's PF...|              null|        30.0|http://images.acm...|          255|             112|               642|                4|            120.0|                 30.0|    112|2013-07-26 00:00:...|           5375|   CANCELED|\n",
      "|      365|               17|Perfect Fitness P...|              null|       59.99|http://images.acm...|          256|             112|               365|                2|           119.98|                59.99|    112|2013-07-26 00:00:...|           5375|   CANCELED|\n",
      "|     1004|               45|Field & Stream Sp...|              null|      399.98|http://images.acm...|          257|             112|              1004|                1|           399.98|               399.98|    112|2013-07-26 00:00:...|           5375|   CANCELED|\n",
      "|      365|               17|Perfect Fitness P...|              null|       59.99|http://images.acm...|          258|             112|               365|                4|           239.96|                59.99|    112|2013-07-26 00:00:...|           5375|   CANCELED|\n",
      "|      403|               18|Nike Men's CJ Eli...|              null|      129.99|http://images.acm...|         1304|             527|               403|                1|           129.99|               129.99|    527|2013-07-28 00:00:...|           5426|   CANCELED|\n",
      "|     1014|               46|O'Brien Men's Neo...|              null|       49.98|http://images.acm...|         1305|             527|              1014|                1|            49.98|                49.98|    527|2013-07-28 00:00:...|           5426|   CANCELED|\n",
      "|     1073|               48|Pelican Sunstream...|              null|      199.99|http://images.acm...|         1306|             527|              1073|                1|           199.99|               199.99|    527|2013-07-28 00:00:...|           5426|   CANCELED|\n",
      "|     1014|               46|O'Brien Men's Neo...|              null|       49.98|http://images.acm...|         1307|             527|              1014|                3|           149.94|                49.98|    527|2013-07-28 00:00:...|           5426|   CANCELED|\n",
      "|     1014|               46|O'Brien Men's Neo...|              null|       49.98|http://images.acm...|         1382|             552|              1014|                1|            49.98|                49.98|    552|2013-07-28 00:00:...|           1445|   CANCELED|\n",
      "|      365|               17|Perfect Fitness P...|              null|       59.99|http://images.acm...|         1482|             607|               365|                5|           299.95|                59.99|    607|2013-07-28 00:00:...|           6376|   CANCELED|\n",
      "|     1014|               46|O'Brien Men's Neo...|              null|       49.98|http://images.acm...|         1483|             607|              1014|                3|           149.94|                49.98|    607|2013-07-28 00:00:...|           6376|   CANCELED|\n",
      "|      403|               18|Nike Men's CJ Eli...|              null|      129.99|http://images.acm...|         1484|             607|               403|                1|           129.99|               129.99|    607|2013-07-28 00:00:...|           6376|   CANCELED|\n",
      "|      365|               17|Perfect Fitness P...|              null|       59.99|http://images.acm...|         1485|             607|               365|                4|           239.96|                59.99|    607|2013-07-28 00:00:...|           6376|   CANCELED|\n",
      "|     1014|               46|O'Brien Men's Neo...|              null|       49.98|http://images.acm...|         1590|             649|              1014|                1|            49.98|                49.98|    649|2013-07-28 00:00:...|           7261|   CANCELED|\n",
      "|     1073|               48|Pelican Sunstream...|              null|      199.99|http://images.acm...|         1591|             649|              1073|                1|           199.99|               199.99|    649|2013-07-28 00:00:...|           7261|   CANCELED|\n",
      "|      403|               18|Nike Men's CJ Eli...|              null|      129.99|http://images.acm...|         1639|             667|               403|                1|           129.99|               129.99|    667|2013-07-28 00:00:...|           4726|   CANCELED|\n",
      "|      365|               17|Perfect Fitness P...|              null|       59.99|http://images.acm...|         1640|             667|               365|                2|           119.98|                59.99|    667|2013-07-28 00:00:...|           4726|   CANCELED|\n",
      "+---------+-----------------+--------------------+------------------+------------+--------------------+-------------+----------------+------------------+-----------------+-----------------+---------------------+-------+--------------------+---------------+-----------+\n",
      "only showing top 20 rows\n",
      "\n"
     ]
    }
   ],
   "source": [
    "joined_data1.show()"
   ]
  },
  {
   "cell_type": "code",
   "execution_count": 24,
   "id": "1daae5b5-8186-4549-a536-67e39edaeab6",
   "metadata": {
    "tags": []
   },
   "outputs": [],
   "source": [
    "product_sales = joined_data1.groupBy(\"productName\").agg({\"orderItemSubTotal\": \"sum\"}).withColumnRenamed(\"sum(orderItemSubTotal)\", \"productSales\")"
   ]
  },
  {
   "cell_type": "code",
   "execution_count": 25,
   "id": "bc744347-d2a6-402c-b3f6-d8560f9b756a",
   "metadata": {
    "tags": []
   },
   "outputs": [
    {
     "name": "stderr",
     "output_type": "stream",
     "text": [
      "[Stage 27:==================================>                    (62 + 4) / 100]\r"
     ]
    },
    {
     "name": "stdout",
     "output_type": "stream",
     "text": [
      "+--------------------+------------------+\n",
      "|         productName|      productSales|\n",
      "+--------------------+------------------+\n",
      "|Field & Stream Sp...|134393.27999999968|\n",
      "|Bag Boy Beverage ...| 624.7500000000001|\n",
      "|Team Golf Pittsbu...|             74.97|\n",
      "|Bridgestone e6 St...|            479.85|\n",
      "|Titleist Pro V1x ...|            719.85|\n",
      "|Merrell Women's G...|            389.97|\n",
      "|TYR Boys' Team Di...| 679.8299999999999|\n",
      "|Glove It Urban Br...|479.69999999999993|\n",
      "|Polar Loop Activi...|             219.9|\n",
      "|insta-bed Neverfl...|            149.99|\n",
      "|Titleist Pro V1x ...|            287.94|\n",
      "|Nike Dri-FIT Crew...|             418.0|\n",
      "|LIJA Women's Eyel...|            2145.0|\n",
      "|LIJA Women's Butt...|             108.0|\n",
      "|Team Golf St. Lou...| 524.7900000000001|\n",
      "|Stiga Master Seri...|            329.99|\n",
      "|Nike Men's Dri-FI...|           65750.0|\n",
      "|Perfect Fitness P...|  85785.7000000001|\n",
      "|Merrell Men's All...|            109.99|\n",
      "|Titleist Small Wh...|            249.99|\n",
      "|Under Armour Wome...|            479.85|\n",
      "|Brooks Women's Gh...|359.96000000000004|\n",
      "|Polar FT4 Heart R...| 629.9300000000001|\n",
      "|O'Brien Men's Neo...|58126.740000000005|\n",
      "|Yakima DoubleDown...|             189.0|\n",
      "|adidas Youth Germ...|            1890.0|\n",
      "|Team Golf New Eng...|            324.87|\n",
      "|Diamondback Women...| 80094.66000000027|\n",
      "|Bridgestone e6 St...|511.84000000000003|\n",
      "|LIJA Women's Mid-...|             700.0|\n",
      "+--------------------+------------------+\n",
      "only showing top 30 rows\n",
      "\n"
     ]
    },
    {
     "name": "stderr",
     "output_type": "stream",
     "text": [
      "                                                                                \r"
     ]
    }
   ],
   "source": [
    "product_sales.show(30)"
   ]
  },
  {
   "cell_type": "code",
   "execution_count": null,
   "id": "5d567069-4e37-4460-a691-0be4d1ced550",
   "metadata": {},
   "outputs": [],
   "source": []
  }
 ],
 "metadata": {
  "kernelspec": {
   "display_name": "venvspark",
   "language": "python",
   "name": "venvspark"
  },
  "language_info": {
   "codemirror_mode": {
    "name": "ipython",
    "version": 3
   },
   "file_extension": ".py",
   "mimetype": "text/x-python",
   "name": "python",
   "nbconvert_exporter": "python",
   "pygments_lexer": "ipython3",
   "version": "3.8.12"
  }
 },
 "nbformat": 4,
 "nbformat_minor": 5
}
