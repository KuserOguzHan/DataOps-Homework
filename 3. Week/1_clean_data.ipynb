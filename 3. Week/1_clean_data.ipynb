{
 "cells": [
  {
   "cell_type": "code",
   "execution_count": 1,
   "id": "eab17e87-9c8a-4bea-a533-b360cca06c25",
   "metadata": {
    "tags": []
   },
   "outputs": [],
   "source": [
    "from pyspark.sql import SparkSession"
   ]
  },
  {
   "cell_type": "code",
   "execution_count": 15,
   "id": "f52e9b5e-5c05-4cd2-b672-80fa7275f960",
   "metadata": {
    "tags": []
   },
   "outputs": [],
   "source": [
    "from pyspark.sql import functions as F"
   ]
  },
  {
   "cell_type": "code",
   "execution_count": 21,
   "id": "bd12e56c-0ab3-48df-959f-3ac34fd90be9",
   "metadata": {
    "tags": []
   },
   "outputs": [],
   "source": [
    "from pyspark.sql.functions import when\n",
    "from pyspark.sql.functions import regexp_replace"
   ]
  },
  {
   "cell_type": "code",
   "execution_count": 2,
   "id": "be859f86-6ae5-46fe-90f6-7aa3d4466e51",
   "metadata": {
    "tags": []
   },
   "outputs": [
    {
     "name": "stderr",
     "output_type": "stream",
     "text": [
      "WARNING: An illegal reflective access operation has occurred\n",
      "WARNING: Illegal reflective access by org.apache.spark.unsafe.Platform (file:/opt/manual/spark-3.1.1-bin-hadoop3.2/jars/spark-unsafe_2.12-3.1.1.jar) to constructor java.nio.DirectByteBuffer(long,int)\n",
      "WARNING: Please consider reporting this to the maintainers of org.apache.spark.unsafe.Platform\n",
      "WARNING: Use --illegal-access=warn to enable warnings of further illegal reflective access operations\n",
      "WARNING: All illegal access operations will be denied in a future release\n",
      "2023-02-22 21:40:25,845 WARN util.NativeCodeLoader: Unable to load native-hadoop library for your platform... using builtin-java classes where applicable\n",
      "Setting default log level to \"WARN\".\n",
      "To adjust logging level use sc.setLogLevel(newLevel). For SparkR, use setLogLevel(newLevel).\n"
     ]
    }
   ],
   "source": [
    "spark = SparkSession.builder \\\n",
    ".appName(\"Read Data From File\") \\\n",
    ".master(\"local[2]\") \\\n",
    ".getOrCreate()"
   ]
  },
  {
   "cell_type": "code",
   "execution_count": 4,
   "id": "c0b2753f-20bd-4cbb-a4d7-fdf4649fcd27",
   "metadata": {
    "tags": []
   },
   "outputs": [
    {
     "name": "stdout",
     "output_type": "stream",
     "text": [
      "--2023-02-22 21:44:45--  https://github.com/erkansirin78/datasets/raw/master/dirty_store_transactions.csv\n",
      "Resolving github.com (github.com)... 140.82.121.4\n",
      "Connecting to github.com (github.com)|140.82.121.4|:443... connected.\n",
      "HTTP request sent, awaiting response... 302 Found\n",
      "Location: https://raw.githubusercontent.com/erkansirin78/datasets/master/dirty_store_transactions.csv [following]\n",
      "--2023-02-22 21:44:46--  https://raw.githubusercontent.com/erkansirin78/datasets/master/dirty_store_transactions.csv\n",
      "Resolving raw.githubusercontent.com (raw.githubusercontent.com)... 185.199.111.133, 185.199.108.133, 185.199.109.133, ...\n",
      "Connecting to raw.githubusercontent.com (raw.githubusercontent.com)|185.199.111.133|:443... connected.\n",
      "HTTP request sent, awaiting response... 200 OK\n",
      "Length: 2609524 (2.5M) [text/plain]\n",
      "Saving to: ‘/home/train/datasets/dirty_store_transactions.csv’\n",
      "\n",
      "100%[======================================>] 2,609,524   2.41MB/s   in 1.0s   \n",
      "\n",
      "2023-02-22 21:44:48 (2.41 MB/s) - ‘/home/train/datasets/dirty_store_transactions.csv’ saved [2609524/2609524]\n",
      "\n"
     ]
    }
   ],
   "source": [
    "! wget -P /home/train/datasets/ \\\n",
    "https://github.com/erkansirin78/datasets/raw/master/dirty_store_transactions.csv "
   ]
  },
  {
   "cell_type": "code",
   "execution_count": 7,
   "id": "aafb9231-3ff2-426a-9b4b-8fd5b2471702",
   "metadata": {
    "tags": []
   },
   "outputs": [
    {
     "name": "stderr",
     "output_type": "stream",
     "text": [
      "                                                                                \r"
     ]
    }
   ],
   "source": [
    "df = spark.read \\\n",
    ".format(\"csv\") \\\n",
    ".option(\"header\", True) \\\n",
    ".option(\"sep\", \",\") \\\n",
    ".option(\"inferSchema\", True) \\\n",
    ".load(\"file:///home/train/datasets/dirty_store_transactions.csv\")"
   ]
  },
  {
   "cell_type": "code",
   "execution_count": 8,
   "id": "ab68d1ea-3f01-42ed-b537-b1ec6801de62",
   "metadata": {
    "tags": []
   },
   "outputs": [
    {
     "name": "stdout",
     "output_type": "stream",
     "text": [
      "+--------+--------------+----------------+----------+---+------+--------+------+----------+\n",
      "|STORE_ID|STORE_LOCATION|PRODUCT_CATEGORY|PRODUCT_ID|MRP|    CP|DISCOUNT|    SP|      Date|\n",
      "+--------+--------------+----------------+----------+---+------+--------+------+----------+\n",
      "|  YR7220|     New York(|     Electronics|  12254943|$31|$20.77|   $1.86|$29.14|2019-11-26|\n",
      "|  YR7220|     New York+|       Furniture| 72619323C|$15| $9.75|    $1.5| $13.5|2019-11-26|\n",
      "|  YR7220|     New York |     Electronics| 34161682B|$88|$62.48|    $4.4| $83.6|2019-11-26|\n",
      "|  YR7220|     New York!|         Kitchen|  79411621|$91|$58.24|   $3.64|$87.36|2019-11-26|\n",
      "|  YR7220|      New York|         Fashion| 39520263T|$85|   $51|   $2.55|$82.45|2019-11-26|\n",
      "|  YR7220|      New York|         Kitchen|  93809204|$37|$24.05|   $0.74|$36.26|2019-11-26|\n",
      "|  YR7220|      New York|       Cosmetics| 86610412D|$80| $48.8|    $6.4| $73.6|2019-11-26|\n",
      "|  YR7220|     New York$|         Kitchen| 52503356^|$71| $42.6|   $5.68|$65.32|2019-11-26|\n",
      "|  YR7220|      New York|         Kitchen|  77516479|$92|$56.12|   $3.68|$88.32|2019-11-26|\n",
      "|  YR7220|     New York!|       Cosmetics|  47334289|$16|$10.72|   $0.96|$15.04|2019-11-26|\n",
      "|  YR7220|    New York\"\"|       Cosmetics| 87566223^|$38|$23.18|   $2.66|$35.34|2019-11-26|\n",
      "|  YR7220|      New York|     Electronics| 54074401^|$26|$17.68|   $0.52|$25.48|2019-11-26|\n",
      "|  YR7220|      New York|         Fashion| 24246520G|$45|$30.15|   $1.35|$43.65|2019-11-26|\n",
      "|  YR7220|      New York|       Cosmetics|  61138610|$83|$57.27|   $1.66|$81.34|2019-11-26|\n",
      "|  YR7220|      New York|         Kitchen|  69018554|$55| $37.4|   $1.65|$53.35|2019-11-26|\n",
      "|  YR7220|      New York|       Groceries| 11950073P|$13| $7.93|   $0.39|$12.61|2019-11-26|\n",
      "|  YR7220|      New York|         Fashion|  86404418|$69| $48.3|   $4.83|$64.17|2019-11-26|\n",
      "|  YR7220|     New York+|         Fashion|  91763000|$18| $11.7|   $0.36|$17.64|2019-11-26|\n",
      "|  YR7220|      New York|       Groceries|  53648681|$52|$36.92|   $1.04|$50.96|2019-11-26|\n",
      "|  YR7220|      New York|       Groceries| 15652465T|$29|$18.85|   $2.03|$26.97|2019-11-26|\n",
      "+--------+--------------+----------------+----------+---+------+--------+------+----------+\n",
      "only showing top 20 rows\n",
      "\n"
     ]
    }
   ],
   "source": [
    "df.show()"
   ]
  },
  {
   "cell_type": "code",
   "execution_count": 10,
   "id": "db3515b4-ebe1-40c2-b770-4356d09e19fb",
   "metadata": {
    "tags": []
   },
   "outputs": [],
   "source": [
    "df_pd = df.limit(5).toPandas()"
   ]
  },
  {
   "cell_type": "code",
   "execution_count": 12,
   "id": "384ed2b3-1583-4f5e-a86f-d19dbe11c3a5",
   "metadata": {
    "tags": []
   },
   "outputs": [
    {
     "data": {
      "text/html": [
       "<div>\n",
       "<style scoped>\n",
       "    .dataframe tbody tr th:only-of-type {\n",
       "        vertical-align: middle;\n",
       "    }\n",
       "\n",
       "    .dataframe tbody tr th {\n",
       "        vertical-align: top;\n",
       "    }\n",
       "\n",
       "    .dataframe thead th {\n",
       "        text-align: right;\n",
       "    }\n",
       "</style>\n",
       "<table border=\"1\" class=\"dataframe\">\n",
       "  <thead>\n",
       "    <tr style=\"text-align: right;\">\n",
       "      <th></th>\n",
       "      <th>STORE_ID</th>\n",
       "      <th>STORE_LOCATION</th>\n",
       "      <th>PRODUCT_CATEGORY</th>\n",
       "      <th>PRODUCT_ID</th>\n",
       "      <th>MRP</th>\n",
       "      <th>CP</th>\n",
       "      <th>DISCOUNT</th>\n",
       "      <th>SP</th>\n",
       "      <th>Date</th>\n",
       "    </tr>\n",
       "  </thead>\n",
       "  <tbody>\n",
       "    <tr>\n",
       "      <th>0</th>\n",
       "      <td>YR7220</td>\n",
       "      <td>New York(</td>\n",
       "      <td>Electronics</td>\n",
       "      <td>12254943</td>\n",
       "      <td>$31</td>\n",
       "      <td>$20.77</td>\n",
       "      <td>$1.86</td>\n",
       "      <td>$29.14</td>\n",
       "      <td>2019-11-26</td>\n",
       "    </tr>\n",
       "    <tr>\n",
       "      <th>1</th>\n",
       "      <td>YR7220</td>\n",
       "      <td>New York+</td>\n",
       "      <td>Furniture</td>\n",
       "      <td>72619323C</td>\n",
       "      <td>$15</td>\n",
       "      <td>$9.75</td>\n",
       "      <td>$1.5</td>\n",
       "      <td>$13.5</td>\n",
       "      <td>2019-11-26</td>\n",
       "    </tr>\n",
       "    <tr>\n",
       "      <th>2</th>\n",
       "      <td>YR7220</td>\n",
       "      <td>New York</td>\n",
       "      <td>Electronics</td>\n",
       "      <td>34161682B</td>\n",
       "      <td>$88</td>\n",
       "      <td>$62.48</td>\n",
       "      <td>$4.4</td>\n",
       "      <td>$83.6</td>\n",
       "      <td>2019-11-26</td>\n",
       "    </tr>\n",
       "    <tr>\n",
       "      <th>3</th>\n",
       "      <td>YR7220</td>\n",
       "      <td>New York!</td>\n",
       "      <td>Kitchen</td>\n",
       "      <td>79411621</td>\n",
       "      <td>$91</td>\n",
       "      <td>$58.24</td>\n",
       "      <td>$3.64</td>\n",
       "      <td>$87.36</td>\n",
       "      <td>2019-11-26</td>\n",
       "    </tr>\n",
       "    <tr>\n",
       "      <th>4</th>\n",
       "      <td>YR7220</td>\n",
       "      <td>New York</td>\n",
       "      <td>Fashion</td>\n",
       "      <td>39520263T</td>\n",
       "      <td>$85</td>\n",
       "      <td>$51</td>\n",
       "      <td>$2.55</td>\n",
       "      <td>$82.45</td>\n",
       "      <td>2019-11-26</td>\n",
       "    </tr>\n",
       "  </tbody>\n",
       "</table>\n",
       "</div>"
      ],
      "text/plain": [
       "  STORE_ID STORE_LOCATION PRODUCT_CATEGORY PRODUCT_ID  MRP      CP DISCOUNT  \\\n",
       "0   YR7220      New York(      Electronics   12254943  $31  $20.77    $1.86   \n",
       "1   YR7220      New York+        Furniture  72619323C  $15   $9.75     $1.5   \n",
       "2   YR7220      New York       Electronics  34161682B  $88  $62.48     $4.4   \n",
       "3   YR7220      New York!          Kitchen   79411621  $91  $58.24    $3.64   \n",
       "4   YR7220       New York          Fashion  39520263T  $85     $51    $2.55   \n",
       "\n",
       "       SP        Date  \n",
       "0  $29.14  2019-11-26  \n",
       "1   $13.5  2019-11-26  \n",
       "2   $83.6  2019-11-26  \n",
       "3  $87.36  2019-11-26  \n",
       "4  $82.45  2019-11-26  "
      ]
     },
     "execution_count": 12,
     "metadata": {},
     "output_type": "execute_result"
    }
   ],
   "source": [
    "df_pd.head(5)"
   ]
  },
  {
   "cell_type": "markdown",
   "id": "4665228a-5241-46cd-83af-5afee872a92a",
   "metadata": {},
   "source": [
    "# 1 STORE_LOCATION"
   ]
  },
  {
   "cell_type": "code",
   "execution_count": 65,
   "id": "279d123a-265f-44e7-ae91-cf976ae07809",
   "metadata": {
    "tags": []
   },
   "outputs": [
    {
     "data": {
      "text/plain": [
       "[Row(STORE_LOCATION=\"Miami'\"),\n",
       " Row(STORE_LOCATION='New York\"\"'),\n",
       " Row(STORE_LOCATION='Washington\"\"'),\n",
       " Row(STORE_LOCATION='Miami)'),\n",
       " Row(STORE_LOCATION='Houston%'),\n",
       " Row(STORE_LOCATION='Miami&'),\n",
       " Row(STORE_LOCATION='Houston$'),\n",
       " Row(STORE_LOCATION='New York$'),\n",
       " Row(STORE_LOCATION=\"New York'\"),\n",
       " Row(STORE_LOCATION='New York+'),\n",
       " Row(STORE_LOCATION='New York('),\n",
       " Row(STORE_LOCATION='New York!'),\n",
       " Row(STORE_LOCATION='Miami#'),\n",
       " Row(STORE_LOCATION='Houston*'),\n",
       " Row(STORE_LOCATION='New York '),\n",
       " Row(STORE_LOCATION='New York&'),\n",
       " Row(STORE_LOCATION='Miami$'),\n",
       " Row(STORE_LOCATION='Denver$'),\n",
       " Row(STORE_LOCATION=\"Houston'\"),\n",
       " Row(STORE_LOCATION='Denver+'),\n",
       " Row(STORE_LOCATION='Houston('),\n",
       " Row(STORE_LOCATION='Washington'),\n",
       " Row(STORE_LOCATION='New York)'),\n",
       " Row(STORE_LOCATION='Houston)'),\n",
       " Row(STORE_LOCATION=\"Denver'\"),\n",
       " Row(STORE_LOCATION='Miami%'),\n",
       " Row(STORE_LOCATION='Miami '),\n",
       " Row(STORE_LOCATION='Washington$'),\n",
       " Row(STORE_LOCATION='Denver*'),\n",
       " Row(STORE_LOCATION='Miami+'),\n",
       " Row(STORE_LOCATION='Washington#'),\n",
       " Row(STORE_LOCATION='Houston\"\"'),\n",
       " Row(STORE_LOCATION='Washington '),\n",
       " Row(STORE_LOCATION='New York#'),\n",
       " Row(STORE_LOCATION='Denver&'),\n",
       " Row(STORE_LOCATION='Houston!'),\n",
       " Row(STORE_LOCATION='Washington+'),\n",
       " Row(STORE_LOCATION='Miami\"\"'),\n",
       " Row(STORE_LOCATION='Denver%'),\n",
       " Row(STORE_LOCATION='New York*'),\n",
       " Row(STORE_LOCATION='Houston#'),\n",
       " Row(STORE_LOCATION='Miami('),\n",
       " Row(STORE_LOCATION='Miami*'),\n",
       " Row(STORE_LOCATION='Denver('),\n",
       " Row(STORE_LOCATION='New York%'),\n",
       " Row(STORE_LOCATION='Miami!'),\n",
       " Row(STORE_LOCATION='Washington)'),\n",
       " Row(STORE_LOCATION='Washington%'),\n",
       " Row(STORE_LOCATION='Denver#'),\n",
       " Row(STORE_LOCATION='Houston'),\n",
       " Row(STORE_LOCATION='Denver)'),\n",
       " Row(STORE_LOCATION=\"Washington'\"),\n",
       " Row(STORE_LOCATION='Washington*'),\n",
       " Row(STORE_LOCATION='Houston '),\n",
       " Row(STORE_LOCATION='Washington('),\n",
       " Row(STORE_LOCATION='Denver!'),\n",
       " Row(STORE_LOCATION='Denver\"\"'),\n",
       " Row(STORE_LOCATION='Washington&'),\n",
       " Row(STORE_LOCATION='Miami'),\n",
       " Row(STORE_LOCATION='Houston+'),\n",
       " Row(STORE_LOCATION='Washington!'),\n",
       " Row(STORE_LOCATION='New York'),\n",
       " Row(STORE_LOCATION='Houston&'),\n",
       " Row(STORE_LOCATION='Denver '),\n",
       " Row(STORE_LOCATION='Denver')]"
      ]
     },
     "execution_count": 65,
     "metadata": {},
     "output_type": "execute_result"
    }
   ],
   "source": [
    "df.select('STORE_LOCATION').distinct().collect()"
   ]
  },
  {
   "cell_type": "code",
   "execution_count": 66,
   "id": "8c4690ca-9005-4a7e-bba1-ebc461ac0588",
   "metadata": {
    "tags": []
   },
   "outputs": [
    {
     "name": "stdout",
     "output_type": "stream",
     "text": [
      "+--------+--------------+----------------+----------+---+------+--------+------+----------+\n",
      "|STORE_ID|STORE_LOCATION|PRODUCT_CATEGORY|PRODUCT_ID|MRP|    CP|DISCOUNT|    SP|      Date|\n",
      "+--------+--------------+----------------+----------+---+------+--------+------+----------+\n",
      "|  YR7220|     New York |     Electronics|  12254943|$31|$20.77|   $1.86|$29.14|2019-11-26|\n",
      "|  YR7220|     New York |       Furniture| 72619323C|$15| $9.75|    $1.5| $13.5|2019-11-26|\n",
      "|  YR7220|     New York |     Electronics| 34161682B|$88|$62.48|    $4.4| $83.6|2019-11-26|\n",
      "|  YR7220|     New York |         Kitchen|  79411621|$91|$58.24|   $3.64|$87.36|2019-11-26|\n",
      "|  YR7220|      New York|         Fashion| 39520263T|$85|   $51|   $2.55|$82.45|2019-11-26|\n",
      "|  YR7220|      New York|         Kitchen|  93809204|$37|$24.05|   $0.74|$36.26|2019-11-26|\n",
      "|  YR7220|      New York|       Cosmetics| 86610412D|$80| $48.8|    $6.4| $73.6|2019-11-26|\n",
      "|  YR7220|     New York |         Kitchen| 52503356^|$71| $42.6|   $5.68|$65.32|2019-11-26|\n",
      "|  YR7220|      New York|         Kitchen|  77516479|$92|$56.12|   $3.68|$88.32|2019-11-26|\n",
      "|  YR7220|     New York |       Cosmetics|  47334289|$16|$10.72|   $0.96|$15.04|2019-11-26|\n",
      "|  YR7220|    New York\"\"|       Cosmetics| 87566223^|$38|$23.18|   $2.66|$35.34|2019-11-26|\n",
      "|  YR7220|      New York|     Electronics| 54074401^|$26|$17.68|   $0.52|$25.48|2019-11-26|\n",
      "|  YR7220|      New York|         Fashion| 24246520G|$45|$30.15|   $1.35|$43.65|2019-11-26|\n",
      "|  YR7220|      New York|       Cosmetics|  61138610|$83|$57.27|   $1.66|$81.34|2019-11-26|\n",
      "|  YR7220|      New York|         Kitchen|  69018554|$55| $37.4|   $1.65|$53.35|2019-11-26|\n",
      "|  YR7220|      New York|       Groceries| 11950073P|$13| $7.93|   $0.39|$12.61|2019-11-26|\n",
      "|  YR7220|      New York|         Fashion|  86404418|$69| $48.3|   $4.83|$64.17|2019-11-26|\n",
      "|  YR7220|     New York |         Fashion|  91763000|$18| $11.7|   $0.36|$17.64|2019-11-26|\n",
      "|  YR7220|      New York|       Groceries|  53648681|$52|$36.92|   $1.04|$50.96|2019-11-26|\n",
      "|  YR7220|      New York|       Groceries| 15652465T|$29|$18.85|   $2.03|$26.97|2019-11-26|\n",
      "+--------+--------------+----------------+----------+---+------+--------+------+----------+\n",
      "only showing top 20 rows\n",
      "\n"
     ]
    }
   ],
   "source": [
    "df1= df.withColumn(\"STORE_LOCATION\", F.translate(\"STORE_LOCATION\", \"+!$'\"\"%&*#+(\", \"          \"))\n",
    "df1.show()"
   ]
  },
  {
   "cell_type": "code",
   "execution_count": 67,
   "id": "6ebeebc3-a3a0-4c22-8e51-120f0c97cd99",
   "metadata": {
    "tags": []
   },
   "outputs": [
    {
     "data": {
      "text/plain": [
       "[Row(STORE_LOCATION='New York\"\"'),\n",
       " Row(STORE_LOCATION='Washington\"\"'),\n",
       " Row(STORE_LOCATION='Miami)'),\n",
       " Row(STORE_LOCATION='New York '),\n",
       " Row(STORE_LOCATION='Washington'),\n",
       " Row(STORE_LOCATION='New York)'),\n",
       " Row(STORE_LOCATION='Houston)'),\n",
       " Row(STORE_LOCATION='Miami '),\n",
       " Row(STORE_LOCATION='Houston\"\"'),\n",
       " Row(STORE_LOCATION='Washington '),\n",
       " Row(STORE_LOCATION='Miami\"\"'),\n",
       " Row(STORE_LOCATION='Washington)'),\n",
       " Row(STORE_LOCATION='Houston'),\n",
       " Row(STORE_LOCATION='Denver)'),\n",
       " Row(STORE_LOCATION='Houston '),\n",
       " Row(STORE_LOCATION='Denver\"\"'),\n",
       " Row(STORE_LOCATION='Miami'),\n",
       " Row(STORE_LOCATION='New York'),\n",
       " Row(STORE_LOCATION='Denver '),\n",
       " Row(STORE_LOCATION='Denver')]"
      ]
     },
     "execution_count": 67,
     "metadata": {},
     "output_type": "execute_result"
    }
   ],
   "source": [
    "df1.select('STORE_LOCATION').distinct().collect()"
   ]
  },
  {
   "cell_type": "code",
   "execution_count": 68,
   "id": "9bdd73b0-901c-45b0-871c-5cbddb65ea6b",
   "metadata": {
    "tags": []
   },
   "outputs": [],
   "source": [
    "df2= df1.withColumn(\"STORE_LOCATION\", F.translate(\"STORE_LOCATION\", '\"', \" \"))"
   ]
  },
  {
   "cell_type": "code",
   "execution_count": 69,
   "id": "4cbf10ec-d1b3-4203-98f3-f84b9967eed0",
   "metadata": {
    "tags": []
   },
   "outputs": [
    {
     "data": {
      "text/plain": [
       "[Row(STORE_LOCATION='Miami)'),\n",
       " Row(STORE_LOCATION='Denver  '),\n",
       " Row(STORE_LOCATION='New York '),\n",
       " Row(STORE_LOCATION='Washington'),\n",
       " Row(STORE_LOCATION='New York)'),\n",
       " Row(STORE_LOCATION='Houston)'),\n",
       " Row(STORE_LOCATION='Miami '),\n",
       " Row(STORE_LOCATION='Washington '),\n",
       " Row(STORE_LOCATION='Miami  '),\n",
       " Row(STORE_LOCATION='Washington)'),\n",
       " Row(STORE_LOCATION='Houston'),\n",
       " Row(STORE_LOCATION='Denver)'),\n",
       " Row(STORE_LOCATION='New York  '),\n",
       " Row(STORE_LOCATION='Houston '),\n",
       " Row(STORE_LOCATION='Houston  '),\n",
       " Row(STORE_LOCATION='Washington  '),\n",
       " Row(STORE_LOCATION='Miami'),\n",
       " Row(STORE_LOCATION='New York'),\n",
       " Row(STORE_LOCATION='Denver '),\n",
       " Row(STORE_LOCATION='Denver')]"
      ]
     },
     "execution_count": 69,
     "metadata": {},
     "output_type": "execute_result"
    }
   ],
   "source": [
    "df2.select('STORE_LOCATION').distinct().collect()"
   ]
  },
  {
   "cell_type": "code",
   "execution_count": 71,
   "id": "d4c4c55b-fea0-4868-b225-8671f836d2b1",
   "metadata": {
    "tags": []
   },
   "outputs": [],
   "source": [
    "df3= df2.withColumn(\"STORE_LOCATION\", F.translate(\"STORE_LOCATION\", ')', \" \"))"
   ]
  },
  {
   "cell_type": "code",
   "execution_count": 72,
   "id": "858c7be7-ce62-41f3-b795-2a075613131c",
   "metadata": {
    "tags": []
   },
   "outputs": [
    {
     "data": {
      "text/plain": [
       "[Row(STORE_LOCATION='Denver  '),\n",
       " Row(STORE_LOCATION='New York '),\n",
       " Row(STORE_LOCATION='Washington'),\n",
       " Row(STORE_LOCATION='Miami '),\n",
       " Row(STORE_LOCATION='Washington '),\n",
       " Row(STORE_LOCATION='Miami  '),\n",
       " Row(STORE_LOCATION='Houston'),\n",
       " Row(STORE_LOCATION='New York  '),\n",
       " Row(STORE_LOCATION='Houston '),\n",
       " Row(STORE_LOCATION='Houston  '),\n",
       " Row(STORE_LOCATION='Washington  '),\n",
       " Row(STORE_LOCATION='Miami'),\n",
       " Row(STORE_LOCATION='New York'),\n",
       " Row(STORE_LOCATION='Denver '),\n",
       " Row(STORE_LOCATION='Denver')]"
      ]
     },
     "execution_count": 72,
     "metadata": {},
     "output_type": "execute_result"
    }
   ],
   "source": [
    "df3.select('STORE_LOCATION').distinct().collect()"
   ]
  },
  {
   "cell_type": "code",
   "execution_count": 73,
   "id": "d8fe5b39-6c4a-459e-ae07-465984635fd9",
   "metadata": {
    "tags": []
   },
   "outputs": [
    {
     "name": "stdout",
     "output_type": "stream",
     "text": [
      "+--------------+\n",
      "|STORE_LOCATION|\n",
      "+--------------+\n",
      "|      New York|\n",
      "|      New York|\n",
      "|      New York|\n",
      "|      New York|\n",
      "|      New York|\n",
      "|      New York|\n",
      "|      New York|\n",
      "|      New York|\n",
      "|      New York|\n",
      "|      New York|\n",
      "|      New York|\n",
      "|      New York|\n",
      "|      New York|\n",
      "|      New York|\n",
      "|      New York|\n",
      "|      New York|\n",
      "|      New York|\n",
      "|      New York|\n",
      "|      New York|\n",
      "|      New York|\n",
      "+--------------+\n",
      "only showing top 20 rows\n",
      "\n"
     ]
    }
   ],
   "source": [
    "df3.select(F.trim(\"STORE_LOCATION\").alias(\"STORE_LOCATION\")).show()"
   ]
  },
  {
   "cell_type": "code",
   "execution_count": 77,
   "id": "49c0f115-eeb1-4462-b140-d6d203b72383",
   "metadata": {
    "tags": []
   },
   "outputs": [
    {
     "name": "stdout",
     "output_type": "stream",
     "text": [
      "+--------+--------------+----------------+----------+---+------+--------+------+----------+\n",
      "|STORE_ID|STORE_LOCATION|PRODUCT_CATEGORY|PRODUCT_ID|MRP|    CP|DISCOUNT|    SP|      Date|\n",
      "+--------+--------------+----------------+----------+---+------+--------+------+----------+\n",
      "|  YR7220|      New York|     Electronics|  12254943|$31|$20.77|   $1.86|$29.14|2019-11-26|\n",
      "|  YR7220|      New York|       Furniture| 72619323C|$15| $9.75|    $1.5| $13.5|2019-11-26|\n",
      "|  YR7220|      New York|     Electronics| 34161682B|$88|$62.48|    $4.4| $83.6|2019-11-26|\n",
      "|  YR7220|      New York|         Kitchen|  79411621|$91|$58.24|   $3.64|$87.36|2019-11-26|\n",
      "|  YR7220|      New York|         Fashion| 39520263T|$85|   $51|   $2.55|$82.45|2019-11-26|\n",
      "|  YR7220|      New York|         Kitchen|  93809204|$37|$24.05|   $0.74|$36.26|2019-11-26|\n",
      "|  YR7220|      New York|       Cosmetics| 86610412D|$80| $48.8|    $6.4| $73.6|2019-11-26|\n",
      "|  YR7220|      New York|         Kitchen| 52503356^|$71| $42.6|   $5.68|$65.32|2019-11-26|\n",
      "|  YR7220|      New York|         Kitchen|  77516479|$92|$56.12|   $3.68|$88.32|2019-11-26|\n",
      "|  YR7220|      New York|       Cosmetics|  47334289|$16|$10.72|   $0.96|$15.04|2019-11-26|\n",
      "|  YR7220|      New York|       Cosmetics| 87566223^|$38|$23.18|   $2.66|$35.34|2019-11-26|\n",
      "|  YR7220|      New York|     Electronics| 54074401^|$26|$17.68|   $0.52|$25.48|2019-11-26|\n",
      "|  YR7220|      New York|         Fashion| 24246520G|$45|$30.15|   $1.35|$43.65|2019-11-26|\n",
      "|  YR7220|      New York|       Cosmetics|  61138610|$83|$57.27|   $1.66|$81.34|2019-11-26|\n",
      "|  YR7220|      New York|         Kitchen|  69018554|$55| $37.4|   $1.65|$53.35|2019-11-26|\n",
      "|  YR7220|      New York|       Groceries| 11950073P|$13| $7.93|   $0.39|$12.61|2019-11-26|\n",
      "|  YR7220|      New York|         Fashion|  86404418|$69| $48.3|   $4.83|$64.17|2019-11-26|\n",
      "|  YR7220|      New York|         Fashion|  91763000|$18| $11.7|   $0.36|$17.64|2019-11-26|\n",
      "|  YR7220|      New York|       Groceries|  53648681|$52|$36.92|   $1.04|$50.96|2019-11-26|\n",
      "|  YR7220|      New York|       Groceries| 15652465T|$29|$18.85|   $2.03|$26.97|2019-11-26|\n",
      "+--------+--------------+----------------+----------+---+------+--------+------+----------+\n",
      "only showing top 20 rows\n",
      "\n"
     ]
    }
   ],
   "source": [
    "df3.withColumn(\"STORE_LOCATION\", F.trim(\"STORE_LOCATION\").alias(\"STORE_LOCATION\")).show()"
   ]
  },
  {
   "cell_type": "code",
   "execution_count": 78,
   "id": "7ce6fccf-6131-4d49-8f13-377533b4f1b5",
   "metadata": {
    "tags": []
   },
   "outputs": [],
   "source": [
    "df4 = df3.withColumn(\"STORE_LOCATION\", F.trim(\"STORE_LOCATION\").alias(\"STORE_LOCATION\"))"
   ]
  },
  {
   "cell_type": "code",
   "execution_count": 79,
   "id": "f43e701f-ef4a-4943-a063-e4cf582de7e5",
   "metadata": {
    "tags": []
   },
   "outputs": [
    {
     "data": {
      "text/plain": [
       "[Row(STORE_LOCATION='Washington'),\n",
       " Row(STORE_LOCATION='Houston'),\n",
       " Row(STORE_LOCATION='Miami'),\n",
       " Row(STORE_LOCATION='New York'),\n",
       " Row(STORE_LOCATION='Denver')]"
      ]
     },
     "execution_count": 79,
     "metadata": {},
     "output_type": "execute_result"
    }
   ],
   "source": [
    "df4.select('STORE_LOCATION').distinct().collect()"
   ]
  },
  {
   "cell_type": "markdown",
   "id": "83d44cd3-cb3b-4204-aa16-a8d1a2cc2154",
   "metadata": {},
   "source": [
    "# 2"
   ]
  },
  {
   "cell_type": "code",
   "execution_count": 80,
   "id": "b11f04b1-56bc-49cb-b02c-40e78d2f25ef",
   "metadata": {
    "tags": []
   },
   "outputs": [
    {
     "name": "stdout",
     "output_type": "stream",
     "text": [
      "+--------+--------------+----------------+----------+---+------+--------+------+----------+\n",
      "|STORE_ID|STORE_LOCATION|PRODUCT_CATEGORY|PRODUCT_ID|MRP|    CP|DISCOUNT|    SP|      Date|\n",
      "+--------+--------------+----------------+----------+---+------+--------+------+----------+\n",
      "|  YR7220|      New York|     Electronics|  12254943|$31|$20.77|   $1.86|$29.14|2019-11-26|\n",
      "|  YR7220|      New York|       Furniture| 72619323C|$15| $9.75|    $1.5| $13.5|2019-11-26|\n",
      "|  YR7220|      New York|     Electronics| 34161682B|$88|$62.48|    $4.4| $83.6|2019-11-26|\n",
      "|  YR7220|      New York|         Kitchen|  79411621|$91|$58.24|   $3.64|$87.36|2019-11-26|\n",
      "|  YR7220|      New York|         Fashion| 39520263T|$85|   $51|   $2.55|$82.45|2019-11-26|\n",
      "|  YR7220|      New York|         Kitchen|  93809204|$37|$24.05|   $0.74|$36.26|2019-11-26|\n",
      "|  YR7220|      New York|       Cosmetics| 86610412D|$80| $48.8|    $6.4| $73.6|2019-11-26|\n",
      "|  YR7220|      New York|         Kitchen| 52503356^|$71| $42.6|   $5.68|$65.32|2019-11-26|\n",
      "|  YR7220|      New York|         Kitchen|  77516479|$92|$56.12|   $3.68|$88.32|2019-11-26|\n",
      "|  YR7220|      New York|       Cosmetics|  47334289|$16|$10.72|   $0.96|$15.04|2019-11-26|\n",
      "|  YR7220|      New York|       Cosmetics| 87566223^|$38|$23.18|   $2.66|$35.34|2019-11-26|\n",
      "|  YR7220|      New York|     Electronics| 54074401^|$26|$17.68|   $0.52|$25.48|2019-11-26|\n",
      "|  YR7220|      New York|         Fashion| 24246520G|$45|$30.15|   $1.35|$43.65|2019-11-26|\n",
      "|  YR7220|      New York|       Cosmetics|  61138610|$83|$57.27|   $1.66|$81.34|2019-11-26|\n",
      "|  YR7220|      New York|         Kitchen|  69018554|$55| $37.4|   $1.65|$53.35|2019-11-26|\n",
      "|  YR7220|      New York|       Groceries| 11950073P|$13| $7.93|   $0.39|$12.61|2019-11-26|\n",
      "|  YR7220|      New York|         Fashion|  86404418|$69| $48.3|   $4.83|$64.17|2019-11-26|\n",
      "|  YR7220|      New York|         Fashion|  91763000|$18| $11.7|   $0.36|$17.64|2019-11-26|\n",
      "|  YR7220|      New York|       Groceries|  53648681|$52|$36.92|   $1.04|$50.96|2019-11-26|\n",
      "|  YR7220|      New York|       Groceries| 15652465T|$29|$18.85|   $2.03|$26.97|2019-11-26|\n",
      "+--------+--------------+----------------+----------+---+------+--------+------+----------+\n",
      "only showing top 20 rows\n",
      "\n"
     ]
    }
   ],
   "source": [
    "df4.show()"
   ]
  },
  {
   "cell_type": "code",
   "execution_count": 81,
   "id": "18aeada4-55cd-4cb1-b1e7-904b4c341736",
   "metadata": {
    "tags": []
   },
   "outputs": [
    {
     "name": "stderr",
     "output_type": "stream",
     "text": [
      "                                                                                \r"
     ]
    },
    {
     "data": {
      "text/plain": [
       "[Row(PRODUCT_CATEGORY='Education'),\n",
       " Row(PRODUCT_CATEGORY='Kitchen'),\n",
       " Row(PRODUCT_CATEGORY='Fashion'),\n",
       " Row(PRODUCT_CATEGORY='Groceries'),\n",
       " Row(PRODUCT_CATEGORY='Electronics'),\n",
       " Row(PRODUCT_CATEGORY='Furniture'),\n",
       " Row(PRODUCT_CATEGORY='Cosmetics')]"
      ]
     },
     "execution_count": 81,
     "metadata": {},
     "output_type": "execute_result"
    }
   ],
   "source": [
    "df4.select('PRODUCT_CATEGORY').distinct().collect()"
   ]
  },
  {
   "cell_type": "markdown",
   "id": "8845aedb-07b1-41dd-9b3e-828edea63d78",
   "metadata": {},
   "source": [
    "# 3"
   ]
  },
  {
   "cell_type": "code",
   "execution_count": 82,
   "id": "e8c5124b-64db-4b92-a1e8-babfbb3722ae",
   "metadata": {
    "tags": []
   },
   "outputs": [
    {
     "name": "stderr",
     "output_type": "stream",
     "text": [
      "                                                                                \r"
     ]
    },
    {
     "data": {
      "text/plain": [
       "[Row(MRP='$93'),\n",
       " Row(MRP='$92'),\n",
       " Row(MRP='$68'),\n",
       " Row(MRP='$11'),\n",
       " Row(MRP='$26'),\n",
       " Row(MRP='$86'),\n",
       " Row(MRP='$75'),\n",
       " Row(MRP='$95'),\n",
       " Row(MRP='$73'),\n",
       " Row(MRP='$16'),\n",
       " Row(MRP='$83'),\n",
       " Row(MRP='$13'),\n",
       " Row(MRP='$66'),\n",
       " Row(MRP='$67'),\n",
       " Row(MRP='$56'),\n",
       " Row(MRP='$42'),\n",
       " Row(MRP='$79'),\n",
       " Row(MRP='$70'),\n",
       " Row(MRP='$69'),\n",
       " Row(MRP='$74'),\n",
       " Row(MRP='$57'),\n",
       " Row(MRP='$41'),\n",
       " Row(MRP='$34'),\n",
       " Row(MRP='$35'),\n",
       " Row(MRP='$77'),\n",
       " Row(MRP='$37'),\n",
       " Row(MRP='$89'),\n",
       " Row(MRP='$20'),\n",
       " Row(MRP='$96'),\n",
       " Row(MRP='$88'),\n",
       " Row(MRP='$23'),\n",
       " Row(MRP='$39'),\n",
       " Row(MRP='$12'),\n",
       " Row(MRP='$62'),\n",
       " Row(MRP='$46'),\n",
       " Row(MRP='$50'),\n",
       " Row(MRP='$44'),\n",
       " Row(MRP='$36'),\n",
       " Row(MRP='$25'),\n",
       " Row(MRP='$87'),\n",
       " Row(MRP='$97'),\n",
       " Row(MRP='$19'),\n",
       " Row(MRP='$29'),\n",
       " Row(MRP='$33'),\n",
       " Row(MRP='$71'),\n",
       " Row(MRP='$21'),\n",
       " Row(MRP='$81'),\n",
       " Row(MRP='$31'),\n",
       " Row(MRP='$55'),\n",
       " Row(MRP='$100'),\n",
       " Row(MRP='$80'),\n",
       " Row(MRP='$78'),\n",
       " Row(MRP='$98'),\n",
       " Row(MRP='$38'),\n",
       " Row(MRP='$28'),\n",
       " Row(MRP='$17'),\n",
       " Row(MRP='$84'),\n",
       " Row(MRP='$59'),\n",
       " Row(MRP='$72'),\n",
       " Row(MRP='$58'),\n",
       " Row(MRP='$18'),\n",
       " Row(MRP='$60'),\n",
       " Row(MRP='$54'),\n",
       " Row(MRP='$85'),\n",
       " Row(MRP='$22'),\n",
       " Row(MRP='$64'),\n",
       " Row(MRP='$48'),\n",
       " Row(MRP='$65'),\n",
       " Row(MRP='$10'),\n",
       " Row(MRP='$63'),\n",
       " Row(MRP='$76'),\n",
       " Row(MRP='$47'),\n",
       " Row(MRP='$30'),\n",
       " Row(MRP='$94'),\n",
       " Row(MRP='$15'),\n",
       " Row(MRP='$99'),\n",
       " Row(MRP='$52'),\n",
       " Row(MRP='$51'),\n",
       " Row(MRP='$32'),\n",
       " Row(MRP='$91'),\n",
       " Row(MRP='$24'),\n",
       " Row(MRP='$40'),\n",
       " Row(MRP='$45'),\n",
       " Row(MRP='$43'),\n",
       " Row(MRP='$49'),\n",
       " Row(MRP='$27'),\n",
       " Row(MRP='$90'),\n",
       " Row(MRP='$53'),\n",
       " Row(MRP='$82'),\n",
       " Row(MRP='$61'),\n",
       " Row(MRP='$14')]"
      ]
     },
     "execution_count": 82,
     "metadata": {},
     "output_type": "execute_result"
    }
   ],
   "source": [
    "df4.select('MRP').distinct().collect()"
   ]
  },
  {
   "cell_type": "code",
   "execution_count": 83,
   "id": "ef4f0265-3f61-4eb5-a13c-7950aebfbff8",
   "metadata": {
    "tags": []
   },
   "outputs": [],
   "source": [
    "df5= df4.withColumn(\"MRP\", F.translate(\"MRP\", '$', \"\"))"
   ]
  },
  {
   "cell_type": "code",
   "execution_count": 84,
   "id": "e318f7e0-ca12-49eb-8c6f-64bbd3355d62",
   "metadata": {
    "tags": []
   },
   "outputs": [
    {
     "name": "stderr",
     "output_type": "stream",
     "text": [
      "                                                                                \r"
     ]
    },
    {
     "data": {
      "text/plain": [
       "[Row(MRP='51'),\n",
       " Row(MRP='15'),\n",
       " Row(MRP='54'),\n",
       " Row(MRP='11'),\n",
       " Row(MRP='69'),\n",
       " Row(MRP='29'),\n",
       " Row(MRP='42'),\n",
       " Row(MRP='73'),\n",
       " Row(MRP='87'),\n",
       " Row(MRP='64'),\n",
       " Row(MRP='30'),\n",
       " Row(MRP='34'),\n",
       " Row(MRP='59'),\n",
       " Row(MRP='28'),\n",
       " Row(MRP='22'),\n",
       " Row(MRP='85'),\n",
       " Row(MRP='16'),\n",
       " Row(MRP='52'),\n",
       " Row(MRP='35'),\n",
       " Row(MRP='71'),\n",
       " Row(MRP='98'),\n",
       " Row(MRP='99'),\n",
       " Row(MRP='47'),\n",
       " Row(MRP='96'),\n",
       " Row(MRP='43'),\n",
       " Row(MRP='31'),\n",
       " Row(MRP='100'),\n",
       " Row(MRP='18'),\n",
       " Row(MRP='70'),\n",
       " Row(MRP='27'),\n",
       " Row(MRP='61'),\n",
       " Row(MRP='75'),\n",
       " Row(MRP='17'),\n",
       " Row(MRP='26'),\n",
       " Row(MRP='46'),\n",
       " Row(MRP='78'),\n",
       " Row(MRP='77'),\n",
       " Row(MRP='89'),\n",
       " Row(MRP='60'),\n",
       " Row(MRP='68'),\n",
       " Row(MRP='90'),\n",
       " Row(MRP='19'),\n",
       " Row(MRP='41'),\n",
       " Row(MRP='23'),\n",
       " Row(MRP='55'),\n",
       " Row(MRP='93'),\n",
       " Row(MRP='95'),\n",
       " Row(MRP='38'),\n",
       " Row(MRP='40'),\n",
       " Row(MRP='25'),\n",
       " Row(MRP='44'),\n",
       " Row(MRP='82'),\n",
       " Row(MRP='53'),\n",
       " Row(MRP='92'),\n",
       " Row(MRP='86'),\n",
       " Row(MRP='58'),\n",
       " Row(MRP='81'),\n",
       " Row(MRP='33'),\n",
       " Row(MRP='48'),\n",
       " Row(MRP='97'),\n",
       " Row(MRP='67'),\n",
       " Row(MRP='84'),\n",
       " Row(MRP='79'),\n",
       " Row(MRP='24'),\n",
       " Row(MRP='32'),\n",
       " Row(MRP='88'),\n",
       " Row(MRP='20'),\n",
       " Row(MRP='56'),\n",
       " Row(MRP='36'),\n",
       " Row(MRP='10'),\n",
       " Row(MRP='37'),\n",
       " Row(MRP='49'),\n",
       " Row(MRP='63'),\n",
       " Row(MRP='65'),\n",
       " Row(MRP='39'),\n",
       " Row(MRP='62'),\n",
       " Row(MRP='12'),\n",
       " Row(MRP='83'),\n",
       " Row(MRP='13'),\n",
       " Row(MRP='14'),\n",
       " Row(MRP='21'),\n",
       " Row(MRP='66'),\n",
       " Row(MRP='91'),\n",
       " Row(MRP='94'),\n",
       " Row(MRP='72'),\n",
       " Row(MRP='74'),\n",
       " Row(MRP='76'),\n",
       " Row(MRP='80'),\n",
       " Row(MRP='50'),\n",
       " Row(MRP='45'),\n",
       " Row(MRP='57')]"
      ]
     },
     "execution_count": 84,
     "metadata": {},
     "output_type": "execute_result"
    }
   ],
   "source": [
    "df5.select('MRP').distinct().collect()"
   ]
  },
  {
   "cell_type": "markdown",
   "id": "1ccbac36-6cb6-4729-8826-49009bfd5034",
   "metadata": {},
   "source": [
    "# 4"
   ]
  },
  {
   "cell_type": "code",
   "execution_count": 85,
   "id": "50c5b64d-c0e0-4d54-bafa-3c2661b57549",
   "metadata": {
    "tags": []
   },
   "outputs": [
    {
     "name": "stdout",
     "output_type": "stream",
     "text": [
      "+--------+--------------+----------------+----------+---+------+--------+------+----------+\n",
      "|STORE_ID|STORE_LOCATION|PRODUCT_CATEGORY|PRODUCT_ID|MRP|    CP|DISCOUNT|    SP|      Date|\n",
      "+--------+--------------+----------------+----------+---+------+--------+------+----------+\n",
      "|  YR7220|      New York|     Electronics|  12254943| 31|$20.77|   $1.86|$29.14|2019-11-26|\n",
      "|  YR7220|      New York|       Furniture| 72619323C| 15| $9.75|    $1.5| $13.5|2019-11-26|\n",
      "|  YR7220|      New York|     Electronics| 34161682B| 88|$62.48|    $4.4| $83.6|2019-11-26|\n",
      "|  YR7220|      New York|         Kitchen|  79411621| 91|$58.24|   $3.64|$87.36|2019-11-26|\n",
      "|  YR7220|      New York|         Fashion| 39520263T| 85|   $51|   $2.55|$82.45|2019-11-26|\n",
      "|  YR7220|      New York|         Kitchen|  93809204| 37|$24.05|   $0.74|$36.26|2019-11-26|\n",
      "|  YR7220|      New York|       Cosmetics| 86610412D| 80| $48.8|    $6.4| $73.6|2019-11-26|\n",
      "|  YR7220|      New York|         Kitchen| 52503356^| 71| $42.6|   $5.68|$65.32|2019-11-26|\n",
      "|  YR7220|      New York|         Kitchen|  77516479| 92|$56.12|   $3.68|$88.32|2019-11-26|\n",
      "|  YR7220|      New York|       Cosmetics|  47334289| 16|$10.72|   $0.96|$15.04|2019-11-26|\n",
      "|  YR7220|      New York|       Cosmetics| 87566223^| 38|$23.18|   $2.66|$35.34|2019-11-26|\n",
      "|  YR7220|      New York|     Electronics| 54074401^| 26|$17.68|   $0.52|$25.48|2019-11-26|\n",
      "|  YR7220|      New York|         Fashion| 24246520G| 45|$30.15|   $1.35|$43.65|2019-11-26|\n",
      "|  YR7220|      New York|       Cosmetics|  61138610| 83|$57.27|   $1.66|$81.34|2019-11-26|\n",
      "|  YR7220|      New York|         Kitchen|  69018554| 55| $37.4|   $1.65|$53.35|2019-11-26|\n",
      "|  YR7220|      New York|       Groceries| 11950073P| 13| $7.93|   $0.39|$12.61|2019-11-26|\n",
      "|  YR7220|      New York|         Fashion|  86404418| 69| $48.3|   $4.83|$64.17|2019-11-26|\n",
      "|  YR7220|      New York|         Fashion|  91763000| 18| $11.7|   $0.36|$17.64|2019-11-26|\n",
      "|  YR7220|      New York|       Groceries|  53648681| 52|$36.92|   $1.04|$50.96|2019-11-26|\n",
      "|  YR7220|      New York|       Groceries| 15652465T| 29|$18.85|   $2.03|$26.97|2019-11-26|\n",
      "+--------+--------------+----------------+----------+---+------+--------+------+----------+\n",
      "only showing top 20 rows\n",
      "\n"
     ]
    }
   ],
   "source": [
    "df5.show()"
   ]
  },
  {
   "cell_type": "code",
   "execution_count": 88,
   "id": "0d4c521e-dc65-4102-a47c-42fc9952d8df",
   "metadata": {
    "tags": []
   },
   "outputs": [],
   "source": [
    "df6= df5.withColumn(\"CP\", F.translate(\"CP\", '$', \"\"))"
   ]
  },
  {
   "cell_type": "code",
   "execution_count": 89,
   "id": "c33ab94e-760a-4647-9b2b-7e3ace0fe53d",
   "metadata": {
    "tags": []
   },
   "outputs": [
    {
     "name": "stdout",
     "output_type": "stream",
     "text": [
      "+--------+--------------+----------------+----------+---+-----+--------+------+----------+\n",
      "|STORE_ID|STORE_LOCATION|PRODUCT_CATEGORY|PRODUCT_ID|MRP|   CP|DISCOUNT|    SP|      Date|\n",
      "+--------+--------------+----------------+----------+---+-----+--------+------+----------+\n",
      "|  YR7220|      New York|     Electronics|  12254943| 31|20.77|   $1.86|$29.14|2019-11-26|\n",
      "|  YR7220|      New York|       Furniture| 72619323C| 15| 9.75|    $1.5| $13.5|2019-11-26|\n",
      "|  YR7220|      New York|     Electronics| 34161682B| 88|62.48|    $4.4| $83.6|2019-11-26|\n",
      "|  YR7220|      New York|         Kitchen|  79411621| 91|58.24|   $3.64|$87.36|2019-11-26|\n",
      "|  YR7220|      New York|         Fashion| 39520263T| 85|   51|   $2.55|$82.45|2019-11-26|\n",
      "|  YR7220|      New York|         Kitchen|  93809204| 37|24.05|   $0.74|$36.26|2019-11-26|\n",
      "|  YR7220|      New York|       Cosmetics| 86610412D| 80| 48.8|    $6.4| $73.6|2019-11-26|\n",
      "|  YR7220|      New York|         Kitchen| 52503356^| 71| 42.6|   $5.68|$65.32|2019-11-26|\n",
      "|  YR7220|      New York|         Kitchen|  77516479| 92|56.12|   $3.68|$88.32|2019-11-26|\n",
      "|  YR7220|      New York|       Cosmetics|  47334289| 16|10.72|   $0.96|$15.04|2019-11-26|\n",
      "|  YR7220|      New York|       Cosmetics| 87566223^| 38|23.18|   $2.66|$35.34|2019-11-26|\n",
      "|  YR7220|      New York|     Electronics| 54074401^| 26|17.68|   $0.52|$25.48|2019-11-26|\n",
      "|  YR7220|      New York|         Fashion| 24246520G| 45|30.15|   $1.35|$43.65|2019-11-26|\n",
      "|  YR7220|      New York|       Cosmetics|  61138610| 83|57.27|   $1.66|$81.34|2019-11-26|\n",
      "|  YR7220|      New York|         Kitchen|  69018554| 55| 37.4|   $1.65|$53.35|2019-11-26|\n",
      "|  YR7220|      New York|       Groceries| 11950073P| 13| 7.93|   $0.39|$12.61|2019-11-26|\n",
      "|  YR7220|      New York|         Fashion|  86404418| 69| 48.3|   $4.83|$64.17|2019-11-26|\n",
      "|  YR7220|      New York|         Fashion|  91763000| 18| 11.7|   $0.36|$17.64|2019-11-26|\n",
      "|  YR7220|      New York|       Groceries|  53648681| 52|36.92|   $1.04|$50.96|2019-11-26|\n",
      "|  YR7220|      New York|       Groceries| 15652465T| 29|18.85|   $2.03|$26.97|2019-11-26|\n",
      "+--------+--------------+----------------+----------+---+-----+--------+------+----------+\n",
      "only showing top 20 rows\n",
      "\n"
     ]
    }
   ],
   "source": [
    "df6.show()"
   ]
  },
  {
   "cell_type": "code",
   "execution_count": 90,
   "id": "58b4ca4f-4747-468d-8c43-a4766428797a",
   "metadata": {
    "tags": []
   },
   "outputs": [],
   "source": [
    "df7= df6.withColumn(\"DISCOUNT\", F.translate(\"DISCOUNT\", '$', \"\"))"
   ]
  },
  {
   "cell_type": "code",
   "execution_count": 91,
   "id": "86a869fa-062b-4e41-b379-747c08f6cfd4",
   "metadata": {
    "tags": []
   },
   "outputs": [
    {
     "name": "stdout",
     "output_type": "stream",
     "text": [
      "+--------+--------------+----------------+----------+---+-----+--------+------+----------+\n",
      "|STORE_ID|STORE_LOCATION|PRODUCT_CATEGORY|PRODUCT_ID|MRP|   CP|DISCOUNT|    SP|      Date|\n",
      "+--------+--------------+----------------+----------+---+-----+--------+------+----------+\n",
      "|  YR7220|      New York|     Electronics|  12254943| 31|20.77|    1.86|$29.14|2019-11-26|\n",
      "|  YR7220|      New York|       Furniture| 72619323C| 15| 9.75|     1.5| $13.5|2019-11-26|\n",
      "|  YR7220|      New York|     Electronics| 34161682B| 88|62.48|     4.4| $83.6|2019-11-26|\n",
      "|  YR7220|      New York|         Kitchen|  79411621| 91|58.24|    3.64|$87.36|2019-11-26|\n",
      "|  YR7220|      New York|         Fashion| 39520263T| 85|   51|    2.55|$82.45|2019-11-26|\n",
      "|  YR7220|      New York|         Kitchen|  93809204| 37|24.05|    0.74|$36.26|2019-11-26|\n",
      "|  YR7220|      New York|       Cosmetics| 86610412D| 80| 48.8|     6.4| $73.6|2019-11-26|\n",
      "|  YR7220|      New York|         Kitchen| 52503356^| 71| 42.6|    5.68|$65.32|2019-11-26|\n",
      "|  YR7220|      New York|         Kitchen|  77516479| 92|56.12|    3.68|$88.32|2019-11-26|\n",
      "|  YR7220|      New York|       Cosmetics|  47334289| 16|10.72|    0.96|$15.04|2019-11-26|\n",
      "|  YR7220|      New York|       Cosmetics| 87566223^| 38|23.18|    2.66|$35.34|2019-11-26|\n",
      "|  YR7220|      New York|     Electronics| 54074401^| 26|17.68|    0.52|$25.48|2019-11-26|\n",
      "|  YR7220|      New York|         Fashion| 24246520G| 45|30.15|    1.35|$43.65|2019-11-26|\n",
      "|  YR7220|      New York|       Cosmetics|  61138610| 83|57.27|    1.66|$81.34|2019-11-26|\n",
      "|  YR7220|      New York|         Kitchen|  69018554| 55| 37.4|    1.65|$53.35|2019-11-26|\n",
      "|  YR7220|      New York|       Groceries| 11950073P| 13| 7.93|    0.39|$12.61|2019-11-26|\n",
      "|  YR7220|      New York|         Fashion|  86404418| 69| 48.3|    4.83|$64.17|2019-11-26|\n",
      "|  YR7220|      New York|         Fashion|  91763000| 18| 11.7|    0.36|$17.64|2019-11-26|\n",
      "|  YR7220|      New York|       Groceries|  53648681| 52|36.92|    1.04|$50.96|2019-11-26|\n",
      "|  YR7220|      New York|       Groceries| 15652465T| 29|18.85|    2.03|$26.97|2019-11-26|\n",
      "+--------+--------------+----------------+----------+---+-----+--------+------+----------+\n",
      "only showing top 20 rows\n",
      "\n"
     ]
    }
   ],
   "source": [
    "df7.show()"
   ]
  },
  {
   "cell_type": "code",
   "execution_count": 92,
   "id": "cdb481a9-7a33-4c6c-b01a-b7958464c866",
   "metadata": {
    "tags": []
   },
   "outputs": [],
   "source": [
    "df8= df7.withColumn(\"SP\", F.translate(\"SP\", '$', \"\"))"
   ]
  },
  {
   "cell_type": "code",
   "execution_count": 93,
   "id": "988776bd-975a-475f-be60-92630f64749f",
   "metadata": {
    "tags": []
   },
   "outputs": [
    {
     "name": "stdout",
     "output_type": "stream",
     "text": [
      "+--------+--------------+----------------+----------+---+-----+--------+-----+----------+\n",
      "|STORE_ID|STORE_LOCATION|PRODUCT_CATEGORY|PRODUCT_ID|MRP|   CP|DISCOUNT|   SP|      Date|\n",
      "+--------+--------------+----------------+----------+---+-----+--------+-----+----------+\n",
      "|  YR7220|      New York|     Electronics|  12254943| 31|20.77|    1.86|29.14|2019-11-26|\n",
      "|  YR7220|      New York|       Furniture| 72619323C| 15| 9.75|     1.5| 13.5|2019-11-26|\n",
      "|  YR7220|      New York|     Electronics| 34161682B| 88|62.48|     4.4| 83.6|2019-11-26|\n",
      "|  YR7220|      New York|         Kitchen|  79411621| 91|58.24|    3.64|87.36|2019-11-26|\n",
      "|  YR7220|      New York|         Fashion| 39520263T| 85|   51|    2.55|82.45|2019-11-26|\n",
      "|  YR7220|      New York|         Kitchen|  93809204| 37|24.05|    0.74|36.26|2019-11-26|\n",
      "|  YR7220|      New York|       Cosmetics| 86610412D| 80| 48.8|     6.4| 73.6|2019-11-26|\n",
      "|  YR7220|      New York|         Kitchen| 52503356^| 71| 42.6|    5.68|65.32|2019-11-26|\n",
      "|  YR7220|      New York|         Kitchen|  77516479| 92|56.12|    3.68|88.32|2019-11-26|\n",
      "|  YR7220|      New York|       Cosmetics|  47334289| 16|10.72|    0.96|15.04|2019-11-26|\n",
      "|  YR7220|      New York|       Cosmetics| 87566223^| 38|23.18|    2.66|35.34|2019-11-26|\n",
      "|  YR7220|      New York|     Electronics| 54074401^| 26|17.68|    0.52|25.48|2019-11-26|\n",
      "|  YR7220|      New York|         Fashion| 24246520G| 45|30.15|    1.35|43.65|2019-11-26|\n",
      "|  YR7220|      New York|       Cosmetics|  61138610| 83|57.27|    1.66|81.34|2019-11-26|\n",
      "|  YR7220|      New York|         Kitchen|  69018554| 55| 37.4|    1.65|53.35|2019-11-26|\n",
      "|  YR7220|      New York|       Groceries| 11950073P| 13| 7.93|    0.39|12.61|2019-11-26|\n",
      "|  YR7220|      New York|         Fashion|  86404418| 69| 48.3|    4.83|64.17|2019-11-26|\n",
      "|  YR7220|      New York|         Fashion|  91763000| 18| 11.7|    0.36|17.64|2019-11-26|\n",
      "|  YR7220|      New York|       Groceries|  53648681| 52|36.92|    1.04|50.96|2019-11-26|\n",
      "|  YR7220|      New York|       Groceries| 15652465T| 29|18.85|    2.03|26.97|2019-11-26|\n",
      "+--------+--------------+----------------+----------+---+-----+--------+-----+----------+\n",
      "only showing top 20 rows\n",
      "\n"
     ]
    }
   ],
   "source": [
    "df8.show()"
   ]
  },
  {
   "cell_type": "markdown",
   "id": "7fd2dc12-cbc5-436a-9c4b-ed1742536c35",
   "metadata": {},
   "source": [
    "# register"
   ]
  },
  {
   "cell_type": "code",
   "execution_count": 94,
   "id": "58b0bd0f-8fd7-492c-8217-434d21b78202",
   "metadata": {
    "tags": []
   },
   "outputs": [
    {
     "name": "stdout",
     "output_type": "stream",
     "text": [
      "total 0\n",
      "drwxrwxr-x. 2 train train 198 Nov 20  2020 most_cancelled_cats_parquet\n",
      "drwxrwxr-x. 2 train train 198 Nov 20  2020 most_cancelled_products_parquet\n"
     ]
    }
   ],
   "source": [
    "! ls -l ~/pyspark_output_data/"
   ]
  },
  {
   "cell_type": "code",
   "execution_count": 98,
   "id": "85937c45-8b16-4c86-b361-4b6296287f48",
   "metadata": {
    "tags": []
   },
   "outputs": [],
   "source": [
    "df8.write \\\n",
    ".format(\"csv\") \\\n",
    ".mode(\"overwrite\") \\\n",
    ".save(\"file:////home/train/datasets/dirty_store_transaction_clear\")"
   ]
  },
  {
   "cell_type": "code",
   "execution_count": 99,
   "id": "5711e307-d7a2-41ac-8993-f08508108ffb",
   "metadata": {
    "tags": []
   },
   "outputs": [
    {
     "name": "stdout",
     "output_type": "stream",
     "text": [
      "ls: cannot access /home/train/home/train/venvspark/dev/output_data/: No such file or directory\n"
     ]
    }
   ],
   "source": [
    "! ls -l ~/home/train/venvspark/dev/output_data/"
   ]
  },
  {
   "cell_type": "code",
   "execution_count": 100,
   "id": "1a4a9c3a-1b16-4c06-8dc0-29b61e9ea615",
   "metadata": {
    "tags": []
   },
   "outputs": [],
   "source": [
    "df8.write.csv(\"file:////home/train/datasets/dirty_store_transaction_clear2.csv\", header=True)"
   ]
  },
  {
   "cell_type": "code",
   "execution_count": null,
   "id": "7f346d34-bc7d-4fba-a198-e45654f7da29",
   "metadata": {},
   "outputs": [],
   "source": []
  }
 ],
 "metadata": {
  "kernelspec": {
   "display_name": "venvspark",
   "language": "python",
   "name": "venvspark"
  },
  "language_info": {
   "codemirror_mode": {
    "name": "ipython",
    "version": 3
   },
   "file_extension": ".py",
   "mimetype": "text/x-python",
   "name": "python",
   "nbconvert_exporter": "python",
   "pygments_lexer": "ipython3",
   "version": "3.8.12"
  }
 },
 "nbformat": 4,
 "nbformat_minor": 5
}
